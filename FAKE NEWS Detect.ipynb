{
  "nbformat": 4,
  "nbformat_minor": 0,
  "metadata": {
    "colab": {
      "name": "Final Project.ipynb",
      "version": "0.3.2",
      "provenance": [],
      "collapsed_sections": [],
      "toc_visible": true
    },
    "kernelspec": {
      "name": "python3",
      "display_name": "Python 3"
    },
    "accelerator": "GPU"
  },
  "cells": [
    {
      "cell_type": "code",
      "metadata": {
        "id": "uuvSNNhp6CsL",
        "colab_type": "code",
        "outputId": "bffb9ff3-025a-4dc6-ee2d-8c9bfc1d0566",
        "colab": {
          "base_uri": "https://localhost:8080/",
          "height": 34
        }
      },
      "source": [
        "# Import\n",
        "import pandas as pd\n",
        "import nltk\n",
        "import numpy as np\n",
        "\n",
        "from google.colab import drive\n",
        "drive.mount('/content/drive')\n",
        "\n",
        "\n",
        "df = pd.read_csv('/content/drive/My Drive/Colab Notebooks/data/fake_or_real_news.csv')"
      ],
      "execution_count": 0,
      "outputs": [
        {
          "output_type": "stream",
          "text": [
            "Drive already mounted at /content/drive; to attempt to forcibly remount, call drive.mount(\"/content/drive\", force_remount=True).\n"
          ],
          "name": "stdout"
        }
      ]
    },
    {
      "cell_type": "markdown",
      "metadata": {
        "id": "zPIoymUI-W-t",
        "colab_type": "text"
      },
      "source": [
        "# Xiang Li "
      ]
    },
    {
      "cell_type": "markdown",
      "metadata": {
        "id": "IdHc9Pwm75bS",
        "colab_type": "text"
      },
      "source": [
        "#### A first look at the dataset\n",
        "random key            title       te"
      ]
    },
    {
      "cell_type": "code",
      "metadata": {
        "id": "9WmSw-c3AYci",
        "colab_type": "code",
        "outputId": "4856e121-f11b-467f-b184-276649b33ab0",
        "colab": {
          "base_uri": "https://localhost:8080/",
          "height": 272
        }
      },
      "source": [
        "import numpy as np\n",
        "\n",
        "df.head()"
      ],
      "execution_count": 0,
      "outputs": [
        {
          "output_type": "execute_result",
          "data": {
            "text/html": [
              "<div>\n",
              "<style scoped>\n",
              "    .dataframe tbody tr th:only-of-type {\n",
              "        vertical-align: middle;\n",
              "    }\n",
              "\n",
              "    .dataframe tbody tr th {\n",
              "        vertical-align: top;\n",
              "    }\n",
              "\n",
              "    .dataframe thead th {\n",
              "        text-align: right;\n",
              "    }\n",
              "</style>\n",
              "<table border=\"1\" class=\"dataframe\">\n",
              "  <thead>\n",
              "    <tr style=\"text-align: right;\">\n",
              "      <th></th>\n",
              "      <th>Unnamed: 0</th>\n",
              "      <th>title</th>\n",
              "      <th>text</th>\n",
              "      <th>label</th>\n",
              "      <th>title_vectors</th>\n",
              "    </tr>\n",
              "  </thead>\n",
              "  <tbody>\n",
              "    <tr>\n",
              "      <th>0</th>\n",
              "      <td>8476</td>\n",
              "      <td>You Can Smell Hillary’s Fear</td>\n",
              "      <td>Daniel Greenfield, a Shillman Journalism Fello...</td>\n",
              "      <td>FAKE</td>\n",
              "      <td>[ 1.1533764e-02  4.2144405e-03  1.9692603e-02 ...</td>\n",
              "    </tr>\n",
              "    <tr>\n",
              "      <th>1</th>\n",
              "      <td>10294</td>\n",
              "      <td>Watch The Exact Moment Paul Ryan Committed Pol...</td>\n",
              "      <td>Google Pinterest Digg Linkedin Reddit Stumbleu...</td>\n",
              "      <td>FAKE</td>\n",
              "      <td>[ 0.11267698  0.02518966 -0.00212591  0.021095...</td>\n",
              "    </tr>\n",
              "    <tr>\n",
              "      <th>2</th>\n",
              "      <td>3608</td>\n",
              "      <td>Kerry to go to Paris in gesture of sympathy</td>\n",
              "      <td>U.S. Secretary of State John F. Kerry said Mon...</td>\n",
              "      <td>REAL</td>\n",
              "      <td>[ 0.04253004  0.04300297  0.01848392  0.048672...</td>\n",
              "    </tr>\n",
              "    <tr>\n",
              "      <th>3</th>\n",
              "      <td>10142</td>\n",
              "      <td>Bernie supporters on Twitter erupt in anger ag...</td>\n",
              "      <td>— Kaydee King (@KaydeeKing) November 9, 2016 T...</td>\n",
              "      <td>FAKE</td>\n",
              "      <td>[ 0.10801624  0.11583211  0.02874823  0.061732...</td>\n",
              "    </tr>\n",
              "    <tr>\n",
              "      <th>4</th>\n",
              "      <td>875</td>\n",
              "      <td>The Battle of New York: Why This Primary Matters</td>\n",
              "      <td>It's primary day in New York and front-runners...</td>\n",
              "      <td>REAL</td>\n",
              "      <td>[ 1.69016439e-02  7.13498285e-03 -7.81233795e-...</td>\n",
              "    </tr>\n",
              "  </tbody>\n",
              "</table>\n",
              "</div>"
            ],
            "text/plain": [
              "   Unnamed: 0  ...                                      title_vectors\n",
              "0        8476  ...  [ 1.1533764e-02  4.2144405e-03  1.9692603e-02 ...\n",
              "1       10294  ...  [ 0.11267698  0.02518966 -0.00212591  0.021095...\n",
              "2        3608  ...  [ 0.04253004  0.04300297  0.01848392  0.048672...\n",
              "3       10142  ...  [ 0.10801624  0.11583211  0.02874823  0.061732...\n",
              "4         875  ...  [ 1.69016439e-02  7.13498285e-03 -7.81233795e-...\n",
              "\n",
              "[5 rows x 5 columns]"
            ]
          },
          "metadata": {
            "tags": []
          },
          "execution_count": 6
        }
      ]
    },
    {
      "cell_type": "code",
      "metadata": {
        "id": "NzhX6On9YEEZ",
        "colab_type": "code",
        "outputId": "cb9a6f4f-ef28-4fe9-8d47-ef7868ba8e39",
        "colab": {
          "base_uri": "https://localhost:8080/",
          "height": 362
        }
      },
      "source": [
        "from yellowbrick.target import ClassBalance\n",
        "\n",
        "visualizer = ClassBalance(labels=[\"REAL\", \"FAKE\"])\n",
        "visualizer.fit(df.label)\n",
        "visualizer.poof()"
      ],
      "execution_count": 0,
      "outputs": [
        {
          "output_type": "display_data",
          "data": {
            "image/png": "[encoded data removed]",
            "text/plain": [
              "<Figure size 576x396 with 1 Axes>"
            ]
          },
          "metadata": {
            "tags": []
          }
        }
      ]
    },
    {
      "cell_type": "code",
      "metadata": {
        "id": "9oLY_joiBuNW",
        "colab_type": "code",
        "outputId": "c77eff52-2520-4c3e-9209-eb0676ccd24d",
        "colab": {
          "base_uri": "https://localhost:8080/",
          "height": 85
        }
      },
      "source": [
        "df.groupby('label').size()"
      ],
      "execution_count": 0,
      "outputs": [
        {
          "output_type": "execute_result",
          "data": {
            "text/plain": [
              "label\n",
              "FAKE    3164\n",
              "REAL    3171\n",
              "dtype: int64"
            ]
          },
          "metadata": {
            "tags": []
          },
          "execution_count": 8
        }
      ]
    },
    {
      "cell_type": "markdown",
      "metadata": {
        "id": "RdwrKn2NelLN",
        "colab_type": "text"
      },
      "source": [
        "A balanced dataset !~"
      ]
    },
    {
      "cell_type": "markdown",
      "metadata": {
        "id": "DQm9EtAhCzoh",
        "colab_type": "text"
      },
      "source": [
        "#### Tokenize"
      ]
    },
    {
      "cell_type": "code",
      "metadata": {
        "id": "U6GBSC5re-9K",
        "colab_type": "code",
        "outputId": "7b30265d-3088-441f-c7b3-49c7bb9ba6be",
        "colab": {
          "base_uri": "https://localhost:8080/",
          "height": 102
        }
      },
      "source": [
        "import nltk\n",
        "nltk.download('punkt')\n",
        "nltk.download('stopwords')"
      ],
      "execution_count": 0,
      "outputs": [
        {
          "output_type": "stream",
          "text": [
            "[nltk_data] Downloading package punkt to /root/nltk_data...\n",
            "[nltk_data]   Unzipping tokenizers/punkt.zip.\n",
            "[nltk_data] Downloading package stopwords to /root/nltk_data...\n",
            "[nltk_data]   Unzipping corpora/stopwords.zip.\n"
          ],
          "name": "stdout"
        },
        {
          "output_type": "execute_result",
          "data": {
            "text/plain": [
              "True"
            ]
          },
          "metadata": {
            "tags": []
          },
          "execution_count": 9
        }
      ]
    },
    {
      "cell_type": "code",
      "metadata": {
        "id": "pzoj_snlCCul",
        "colab_type": "code",
        "colab": {}
      },
      "source": [
        "texts = df.text.values\n",
        "titles = df.title.values\n",
        "\n",
        "tokenizedText = [nltk.word_tokenize(text) for text in texts]\n",
        "tokenizedTitle = [nltk.word_tokenize(title) for title in titles]"
      ],
      "execution_count": 0,
      "outputs": []
    },
    {
      "cell_type": "code",
      "metadata": {
        "id": "rIsRJtvXdMS2",
        "colab_type": "code",
        "colab": {}
      },
      "source": [
        "print(titles[0])\n",
        "print(tokenizedTitle[0])"
      ],
      "execution_count": 0,
      "outputs": []
    },
    {
      "cell_type": "markdown",
      "metadata": {
        "id": "rs3oxhqrDMDB",
        "colab_type": "text"
      },
      "source": [
        "#### Remove Stopwords and punctuations, Lower-case"
      ]
    },
    {
      "cell_type": "code",
      "metadata": {
        "id": "YGZIRWLpgEJF",
        "colab_type": "code",
        "colab": {}
      },
      "source": [
        "print(punctuation)"
      ],
      "execution_count": 0,
      "outputs": []
    },
    {
      "cell_type": "code",
      "metadata": {
        "id": "LF-lLVpzf-eB",
        "colab_type": "code",
        "colab": {}
      },
      "source": [
        "print(stopwords)"
      ],
      "execution_count": 0,
      "outputs": []
    },
    {
      "cell_type": "code",
      "metadata": {
        "id": "oHCdqXFcBunn",
        "colab_type": "code",
        "colab": {}
      },
      "source": [
        "from string import punctuation\n",
        "from itertools import chain\n",
        "from nltk.corpus import stopwords\n",
        "\n",
        "def cleanText(tokenizedList, stopwords, punctuation):\n",
        "    newList = []\n",
        "    for doc in tokenizedList:\n",
        "        newList.append([token.lower() for token in doc if token.lower() not in chain(punctuation, stopwords)])\n",
        "    return newList\n",
        "\n",
        "punctuation+=\"’\""
      ],
      "execution_count": 0,
      "outputs": []
    },
    {
      "cell_type": "code",
      "metadata": {
        "id": "VXJWc0yNEf6n",
        "colab_type": "code",
        "colab": {}
      },
      "source": [
        "cleanedText = cleanText(tokenizedText, stopwords, punctuation)\n",
        "cleanedTitle = cleanText(tokenizedTitle, stopwords, punctuation)"
      ],
      "execution_count": 0,
      "outputs": []
    },
    {
      "cell_type": "code",
      "metadata": {
        "id": "0DrOfVKegZBR",
        "colab_type": "code",
        "colab": {}
      },
      "source": [
        "print(titles[28])\n",
        "print(cleanedTitle[28])"
      ],
      "execution_count": 0,
      "outputs": []
    },
    {
      "cell_type": "markdown",
      "metadata": {
        "id": "CAkoqUbKkzxg",
        "colab_type": "text"
      },
      "source": [
        "#### Stem"
      ]
    },
    {
      "cell_type": "code",
      "metadata": {
        "id": "r2pzMBfYfzs0",
        "colab_type": "code",
        "colab": {}
      },
      "source": [
        "from nltk.stem.porter import PorterStemmer  \n",
        "\n",
        "stemmer = PorterStemmer()  \n",
        "stemmedText = []\n",
        "for index in range(len(cleanedText)):\n",
        "    stemmedText.append([])\n",
        "    for i in range(len(cleanedText[index])):\n",
        "        stemmedText[index].append(stemmer.stem(cleanedText[index][i]) )\n",
        "        \n",
        "stemmedTitle = []\n",
        "for index in range(len(cleanedTitle)):\n",
        "    stemmedTitle.append([])\n",
        "    for i in range(len(cleanedTitle[index])):\n",
        "        stemmedTitle[index].append(stemmer.stem(cleanedTitle[index][i]) )"
      ],
      "execution_count": 0,
      "outputs": []
    },
    {
      "cell_type": "code",
      "metadata": {
        "id": "Cic0XsMBhBf9",
        "colab_type": "code",
        "colab": {}
      },
      "source": [
        "print(titles[22])\n",
        "print(stemmedTitle[22])"
      ],
      "execution_count": 0,
      "outputs": []
    },
    {
      "cell_type": "markdown",
      "metadata": {
        "id": "JwzpPstnmAFR",
        "colab_type": "text"
      },
      "source": [
        "![a](https://drive.google.com/open?id=1Af-HBQRC9LvLnJ13wErn3l0xGuDGWr6w)"
      ]
    },
    {
      "cell_type": "markdown",
      "metadata": {
        "id": "Uwcd-ESYnQYx",
        "colab_type": "text"
      },
      "source": [
        "#### Lemmatize"
      ]
    },
    {
      "cell_type": "code",
      "metadata": {
        "id": "QqvE_Yx2oPmU",
        "colab_type": "code",
        "colab": {}
      },
      "source": [
        "nltk.download('wordnet')"
      ],
      "execution_count": 0,
      "outputs": []
    },
    {
      "cell_type": "code",
      "metadata": {
        "id": "qZTt_VtunSZi",
        "colab_type": "code",
        "colab": {}
      },
      "source": [
        "from nltk.stem.wordnet import WordNetLemmatizer \n",
        "\n",
        "lemmatizer = WordNetLemmatizer()  \n",
        "lemmatizedText = []\n",
        "for index in range(len(cleanedText)):\n",
        "    lemmatizedText.append([])\n",
        "    for i in range(len(cleanedText[index])):\n",
        "        lemmatizedText[index].append(lemmatizer.lemmatize(cleanedText[index][i]) )\n",
        "        \n",
        "lemmatizedTitle = []\n",
        "for index in range(len(cleanedTitle)):\n",
        "    lemmatizedTitle.append([])\n",
        "    for i in range(len(cleanedTitle[index])):\n",
        "        lemmatizedTitle[index].append(lemmatizer.lemmatize(cleanedTitle[index][i]) )"
      ],
      "execution_count": 0,
      "outputs": []
    },
    {
      "cell_type": "markdown",
      "metadata": {
        "id": "jm95FOS6uTQB",
        "colab_type": "text"
      },
      "source": [
        "# 2. Linchuan"
      ]
    },
    {
      "cell_type": "markdown",
      "metadata": {
        "id": "Q68DZx90VMRs",
        "colab_type": "text"
      },
      "source": [
        "## 2.1 EDA"
      ]
    },
    {
      "cell_type": "markdown",
      "metadata": {
        "id": "3tz23Pk-byRU",
        "colab_type": "text"
      },
      "source": [
        "word frequency"
      ]
    },
    {
      "cell_type": "code",
      "metadata": {
        "id": "aXJpRrykbxFA",
        "colab_type": "code",
        "colab": {}
      },
      "source": [
        "import nltk\n",
        "nltk.download('stopwords')\n",
        "from nltk.corpus import stopwords\n",
        "nltk.download('punkt')\n",
        "stopwords = stopwords.words('english')\n",
        "\n",
        "all_fake = df.loc[df['label'] == 'FAKE']\n",
        "all_real = df.loc[df['label'] == \"REAL\"]\n",
        "\n",
        "temp = pd.Series(np.concatenate([x.lower().split() for x in all_fake.text])).value_counts()\n",
        "\n",
        "new = temp.drop(labels=stopwords, errors=\"ignore\")\n",
        "new = new.drop(labels=[\"–\", \",\", \".\", \"—\", \"would\"], errors=\"ignore\")\n",
        "new[:25]"
      ],
      "execution_count": 0,
      "outputs": []
    },
    {
      "cell_type": "code",
      "metadata": {
        "id": "VLfAohkod0e5",
        "colab_type": "code",
        "colab": {}
      },
      "source": [
        "from nltk import ngrams\n",
        "from collections import defaultdict\n",
        "import operator\n",
        "from nltk.tokenize import word_tokenize \n",
        "from nltk.corpus import stopwords \n",
        "from collections import Counter \n",
        "\n",
        "fake_twogram_dict = defaultdict()\n",
        "real_twogram_dict = defaultdict()\n",
        "\n",
        "myfilter = stopwords.words('english')\n",
        "myfilter.extend([\".\", \",\", \"\\\"\", \"’\", \"“\", \":\", \"?\", \"(\", \")\", \"”\", \"''\", \"``\"])\n",
        "\n",
        "for each in all_fake.text:\n",
        "  filtered_sentence = [w for w in word_tokenize(each) if not w in myfilter] \n",
        "  sentence = \" \".join(filtered_sentence)\n",
        "  twograms = ngrams(sentence.split(), 2)\n",
        "  for grams in twograms:\n",
        "    if grams in fake_twogram_dict:\n",
        "      fake_twogram_dict[grams] += 1\n",
        "    else:\n",
        "      fake_twogram_dict[grams] = 1\n",
        "\n",
        "\n",
        "for each in all_real.text:\n",
        "  filtered_sentence = [w for w in word_tokenize(each) if not w in myfilter] \n",
        "  sentence = \" \".join(filtered_sentence)\n",
        "  twograms = ngrams(sentence.split(), 2)\n",
        "  for grams in twograms:\n",
        "    if grams in real_twogram_dict:\n",
        "      real_twogram_dict[grams] += 1\n",
        "    else:\n",
        "      real_twogram_dict[grams] = 1\n",
        "\n",
        "\n",
        "\n",
        "sorted_fake_twogram_list = sorted(fake_twogram_dict, key=fake_twogram_dict.get, reverse=True)[:30]\n",
        "sorted_real_twogram_list = sorted(real_twogram_dict, key=real_twogram_dict.get, reverse=True)[:30]\n",
        "\n",
        "fake_C = Counter(fake_twogram_dict)\n",
        "real_C = Counter(real_twogram_dict)\n",
        "print(fake_C.most_common(25))\n",
        "print(real_C.most_common(25))"
      ],
      "execution_count": 0,
      "outputs": []
    },
    {
      "cell_type": "markdown",
      "metadata": {
        "id": "bILnRab0bp-i",
        "colab_type": "text"
      },
      "source": [
        "## 2.2 Creating Word embedding"
      ]
    },
    {
      "cell_type": "code",
      "metadata": {
        "id": "gwtgQIPzeA1S",
        "colab_type": "code",
        "colab": {}
      },
      "source": [
        "# import warnings filter\n",
        "from warnings import simplefilter\n",
        "# ignore all future warnings\n",
        "simplefilter(action='ignore', category=FutureWarning)"
      ],
      "execution_count": 0,
      "outputs": []
    },
    {
      "cell_type": "code",
      "metadata": {
        "id": "4n_lvhaekBNQ",
        "colab_type": "code",
        "colab": {}
      },
      "source": [
        "joined_cleanedText = []\n",
        "joined_cleanedTitle = []\n",
        "joined_cleanedTitleAndText = []\n",
        "seperator = \" \"\n",
        "for each in cleanedText:\n",
        "  joined_cleanedText.append(seperator.join(each))\n",
        "\n",
        "for each in cleanedTitle:\n",
        "  joined_cleanedTitle.append(seperator.join(each))\n",
        "\n",
        "for i in range(0, len(cleanedTitle)):\n",
        "  joined_cleanedTitleAndText.append(seperator.join(cleanedText[i]) + seperator.join(cleanedTitle[i]))\n"
      ],
      "execution_count": 0,
      "outputs": []
    },
    {
      "cell_type": "code",
      "metadata": {
        "id": "U-O5ozTjYciI",
        "colab_type": "code",
        "colab": {}
      },
      "source": [
        "converted_label = []\n",
        "for each in df.label:\n",
        "  if each == \"FAKE\":\n",
        "    converted_label.append(0)\n",
        "  else:\n",
        "    converted_label.append(1)"
      ],
      "execution_count": 0,
      "outputs": []
    },
    {
      "cell_type": "code",
      "metadata": {
        "id": "gj7GorqiUUJP",
        "colab_type": "code",
        "colab": {}
      },
      "source": [
        "def get_report(y0_test, y0_pred):\n",
        "    print (\"  Accuracy: {:.5f}  Precision: {:.5f}  Recall: {:.5f}  F-1: {:.5f}\"\n",
        "           .format(accuracy_score(y0_test, y0_pred), precision_score(y0_test, y0_pred), \n",
        "                   recall_score(y0_test, y0_pred), f1_score(y0_test, y0_pred)))"
      ],
      "execution_count": 0,
      "outputs": []
    },
    {
      "cell_type": "markdown",
      "metadata": {
        "id": "e2zECGaTVQdW",
        "colab_type": "text"
      },
      "source": [
        "## 2.3 TF-IDF model"
      ]
    },
    {
      "cell_type": "markdown",
      "metadata": {
        "id": "rqkUsMiuXu-U",
        "colab_type": "text"
      },
      "source": [
        "### 2.3.1 Text only"
      ]
    },
    {
      "cell_type": "code",
      "metadata": {
        "id": "xq45k8maO_MH",
        "colab_type": "code",
        "outputId": "c050f5ef-b14c-4e48-a198-1c7fffdb8fc0",
        "colab": {
          "base_uri": "https://localhost:8080/",
          "height": 34
        }
      },
      "source": [
        "from sklearn.linear_model import LogisticRegression\n",
        "from sklearn.metrics import *\n",
        "from sklearn.feature_extraction.text import TfidfVectorizer\n",
        "from sklearn.model_selection import train_test_split\n",
        "from sklearn.naive_bayes import MultinomialNB\n",
        "\n",
        "X_train, X_test, y_train, y_test = train_test_split(joined_cleanedText, converted_label, test_size=0.33, random_state=6)\n",
        "\n",
        "vectorizer = TfidfVectorizer(stop_words='english')\n",
        "X_tfidf_train = vectorizer.fit_transform(X_train)\n",
        "X_tfidf_test = vectorizer.transform(X_test)\n",
        "\n",
        "\n",
        "LR_model = LogisticRegression().fit(X_tfidf_train, y_train)\n",
        "y_pred = LR_model.predict(X_tfidf_test)\n",
        "\n",
        "get_report(y_test, y_pred)"
      ],
      "execution_count": 0,
      "outputs": [
        {
          "output_type": "stream",
          "text": [
            "  Accuracy: 0.90770  Precision: 0.92567  Recall: 0.88783  F-1: 0.90636\n"
          ],
          "name": "stdout"
        }
      ]
    },
    {
      "cell_type": "code",
      "metadata": {
        "id": "8XRgi-47eofW",
        "colab_type": "code",
        "outputId": "af6d9ce3-8a56-4699-fd2c-98eb4847425d",
        "colab": {
          "base_uri": "https://localhost:8080/",
          "height": 34
        }
      },
      "source": [
        "X_train, X_test, y_train, y_test = train_test_split(joined_cleanedTitle, converted_label, test_size=0.33, random_state=6)\n",
        "\n",
        "vectorizer = TfidfVectorizer(stop_words='english')\n",
        "X_tfidf_train = vectorizer.fit_transform(X_train)\n",
        "X_tfidf_test = vectorizer.transform(X_test)\n",
        "\n",
        "\n",
        "LR_model = LogisticRegression().fit(X_tfidf_train, y_train)\n",
        "y_pred = LR_model.predict(X_tfidf_test)\n",
        "\n",
        "get_report(y_test, y_pred)"
      ],
      "execution_count": 0,
      "outputs": [
        {
          "output_type": "stream",
          "text": [
            "  Accuracy: 0.81396  Precision: 0.82854  Recall: 0.79468  F-1: 0.81126\n"
          ],
          "name": "stdout"
        }
      ]
    },
    {
      "cell_type": "code",
      "metadata": {
        "id": "stzDqwTEep6g",
        "colab_type": "code",
        "outputId": "04e79b97-62c0-45a6-f41b-9e91cb8b7012",
        "colab": {
          "base_uri": "https://localhost:8080/",
          "height": 34
        }
      },
      "source": [
        "X_train, X_test, y_train, y_test = train_test_split(joined_cleanedTitleAndText, converted_label, test_size=0.33, random_state=6)\n",
        "\n",
        "vectorizer = TfidfVectorizer(stop_words='english')\n",
        "X_tfidf_train = vectorizer.fit_transform(X_train)\n",
        "X_tfidf_test = vectorizer.transform(X_test)\n",
        "\n",
        "\n",
        "LR_model = LogisticRegression().fit(X_tfidf_train, y_train)\n",
        "y_pred = LR_model.predict(X_tfidf_test)\n",
        "\n",
        "get_report(y_test, y_pred)"
      ],
      "execution_count": 0,
      "outputs": [
        {
          "output_type": "stream",
          "text": [
            "  Accuracy: 0.90626  Precision: 0.92545  Recall: 0.88498  F-1: 0.90476\n"
          ],
          "name": "stdout"
        }
      ]
    },
    {
      "cell_type": "markdown",
      "metadata": {
        "id": "o8B-8E1Dezhm",
        "colab_type": "text"
      },
      "source": [
        "## 2.4 Word2Vec"
      ]
    },
    {
      "cell_type": "code",
      "metadata": {
        "id": "x8rZ-qqce1B9",
        "colab_type": "code",
        "outputId": "ec543021-aa28-45a8-e62f-fa6d6024f88a",
        "colab": {
          "base_uri": "https://localhost:8080/",
          "height": 111
        }
      },
      "source": [
        "from gensim.models import Word2Vec\n",
        "\n",
        "def vectors_build(word_vectors, cleaned, word_model):\n",
        "    for i in range(0, len(df)):\n",
        "        word_vectors[i] = 0\n",
        "        for word in cleaned[i]:\n",
        "            word_vectors[i] += word_model[word]\n",
        "        if len(cleaned[i]) != 0:\n",
        "            word_vectors[i] = word_vectors[i] / len(cleaned[i])\n",
        "    return word_vectors\n",
        "\n",
        "word_model = Word2Vec(lemmatizedText, size = 300, window = 5, min_count = 1, \n",
        "                          alpha = 0.055, iter= 5, \n",
        "                          batch_words = 10000, workers = 4, negative = 5)\n",
        "word_vectors = np.zeros((len(df), 300))\n",
        "word_vectors = vectors_build(word_vectors, lemmatizedText, word_model)\n",
        "x0_train, x0_test, y0_train, y0_test = train_test_split(word_vectors, converted_label, test_size=0.33, random_state=6)\n",
        "LR0_model = LogisticRegression().fit(x0_train, y0_train)\n",
        "y0_pred = LR0_model.predict(x0_test)\n",
        "\n",
        "get_report(y0_test, y0_pred)"
      ],
      "execution_count": 0,
      "outputs": [
        {
          "output_type": "stream",
          "text": [
            "/usr/local/lib/python3.6/dist-packages/ipykernel_launcher.py:7: DeprecationWarning: Call to deprecated `__getitem__` (Method will be removed in 4.0.0, use self.wv.__getitem__() instead).\n",
            "  import sys\n"
          ],
          "name": "stderr"
        },
        {
          "output_type": "stream",
          "text": [
            "  Accuracy: 0.89622  Precision: 0.89202  Recall: 0.90304  F-1: 0.89750\n"
          ],
          "name": "stdout"
        }
      ]
    },
    {
      "cell_type": "markdown",
      "metadata": {
        "id": "dw1XaWvcVXES",
        "colab_type": "text"
      },
      "source": [
        "## 2.5 Doc2Vec"
      ]
    },
    {
      "cell_type": "code",
      "metadata": {
        "id": "WlohdruYWVfm",
        "colab_type": "code",
        "colab": {}
      },
      "source": [
        "from gensim import corpora\n",
        "dictionary = corpora.Dictionary(lemmatizedText)\n",
        "corpus = [dictionary.doc2bow(text) for text in lemmatizedText]\n"
      ],
      "execution_count": 0,
      "outputs": []
    },
    {
      "cell_type": "code",
      "metadata": {
        "id": "VdDiBFDom59U",
        "colab_type": "code",
        "colab": {}
      },
      "source": [
        "from gensim.models.doc2vec import TaggedDocument\n",
        "from gensim.models import Doc2Vec\n",
        "\n"
      ],
      "execution_count": 0,
      "outputs": []
    },
    {
      "cell_type": "markdown",
      "metadata": {
        "id": "SfoI28rIgNoE",
        "colab_type": "text"
      },
      "source": [
        "### 2.5.1 With Lem"
      ]
    },
    {
      "cell_type": "code",
      "metadata": {
        "id": "54f26wu_p1Et",
        "colab_type": "code",
        "outputId": "2b35330f-43e4-44e6-dad7-31d74d3f8334",
        "colab": {
          "base_uri": "https://localhost:8080/",
          "height": 34
        }
      },
      "source": [
        "vocabulary = [TaggedDocument(doc, tags = [idx]) for idx, doc in enumerate(lemmatizedText)]\n",
        "doc2vec = Doc2Vec(vector_size = 300, window=5, min_count=10, dm = 1, epochs=10)\n",
        "doc2vec.build_vocab(vocabulary)\n",
        "\n",
        "doc2vec.train(vocabulary, epochs=10, total_examples=doc2vec.corpus_count)\n",
        "\n",
        "doc2vec_list=np.zeros((len(lemmatizedText), 300))\n",
        "\n",
        "for i in range(len(lemmatizedText)):\n",
        "  doc2vec_list[i] = doc2vec.infer_vector(lemmatizedText[i])\n",
        "\n",
        "x0_train, x0_test, y0_train, y0_test = train_test_split(doc2vec_list, converted_label, test_size=0.33, random_state=6)\n",
        "LR0_model = LogisticRegression().fit(x0_train, y0_train)\n",
        "y0_pred = LR0_model.predict(x0_test)\n",
        "\n",
        "get_report(y0_test, y0_pred)"
      ],
      "execution_count": 0,
      "outputs": [
        {
          "output_type": "stream",
          "text": [
            "  Accuracy: 0.86944  Precision: 0.90196  Recall: 0.83080  F-1: 0.86492\n"
          ],
          "name": "stdout"
        }
      ]
    },
    {
      "cell_type": "markdown",
      "metadata": {
        "id": "dv50kX3rgPw7",
        "colab_type": "text"
      },
      "source": [
        "### 2.5.2 With Cleaned"
      ]
    },
    {
      "cell_type": "code",
      "metadata": {
        "id": "6OxK4LjhgWI2",
        "colab_type": "code",
        "outputId": "c72a984b-e4e2-47d9-94f6-2bb082686428",
        "colab": {
          "base_uri": "https://localhost:8080/",
          "height": 34
        }
      },
      "source": [
        "vocabulary = [TaggedDocument(doc, tags = [idx]) for idx, doc in enumerate(cleanedText)]\n",
        "doc2vec = Doc2Vec(vector_size = 300, window=5, min_count=10, dm = 1, epochs=10)\n",
        "doc2vec.build_vocab(vocabulary)\n",
        "\n",
        "doc2vec.train(vocabulary, epochs=10, total_examples=doc2vec.corpus_count)\n",
        "\n",
        "doc2vec_list=np.zeros((len(cleanedText), 300))\n",
        "\n",
        "for i in range(len(cleanedText)):\n",
        "  doc2vec_list[i] = doc2vec.infer_vector(cleanedText[i])\n",
        "\n",
        "x0_train, x0_test, y0_train, y0_test = train_test_split(doc2vec_list, converted_label, test_size=0.33, random_state=6)\n",
        "LR0_model = LogisticRegression().fit(x0_train, y0_train)\n",
        "y0_pred = LR0_model.predict(x0_test)\n",
        "\n",
        "get_report(y0_test, y0_pred)"
      ],
      "execution_count": 0,
      "outputs": [
        {
          "output_type": "stream",
          "text": [
            "  Accuracy: 0.86131  Precision: 0.90275  Recall: 0.81179  F-1: 0.85485\n"
          ],
          "name": "stdout"
        }
      ]
    },
    {
      "cell_type": "markdown",
      "metadata": {
        "id": "mWzozrG8gXgH",
        "colab_type": "text"
      },
      "source": [
        "### 2.5.3 With Stem"
      ]
    },
    {
      "cell_type": "code",
      "metadata": {
        "id": "H2Y2yruvgYma",
        "colab_type": "code",
        "outputId": "746908af-8fef-46fd-b9ca-b5c334418946",
        "colab": {
          "base_uri": "https://localhost:8080/",
          "height": 34
        }
      },
      "source": [
        "vocabulary = [TaggedDocument(doc, tags = [idx]) for idx, doc in enumerate(stemmedText)]\n",
        "doc2vec = Doc2Vec(vector_size = 300, window=5, min_count=10, dm = 1, epochs=10)\n",
        "doc2vec.build_vocab(vocabulary)\n",
        "\n",
        "doc2vec.train(vocabulary, epochs=10, total_examples=doc2vec.corpus_count)\n",
        "\n",
        "doc2vec_list=np.zeros((len(stemmedText), 300))\n",
        "\n",
        "for i in range(len(stemmedText)):\n",
        "  doc2vec_list[i] = doc2vec.infer_vector(stemmedText[i])\n",
        "\n",
        "x0_train, x0_test, y0_train, y0_test = train_test_split(doc2vec_list, converted_label, test_size=0.33, random_state=6)\n",
        "LR0_model = LogisticRegression().fit(x0_train, y0_train)\n",
        "y0_pred = LR0_model.predict(x0_test)\n",
        "\n",
        "get_report(y0_test, y0_pred)"
      ],
      "execution_count": 0,
      "outputs": [
        {
          "output_type": "stream",
          "text": [
            "  Accuracy: 0.86848  Precision: 0.89442  Recall: 0.83745  F-1: 0.86500\n"
          ],
          "name": "stdout"
        }
      ]
    },
    {
      "cell_type": "code",
      "metadata": {
        "id": "qtVq3ITmOfsW",
        "colab_type": "code",
        "colab": {}
      },
      "source": [
        "from gensim import corpora, models\n",
        "import numpy as np\n",
        "label = df.label.values\n",
        "tfidf = models.TfidfModel(corpus)\n",
        "corpus_tfidf = [tfidf[doc] for doc in corpus]"
      ],
      "execution_count": 0,
      "outputs": []
    },
    {
      "cell_type": "code",
      "metadata": {
        "id": "6TNYye6ROnZM",
        "colab_type": "code",
        "colab": {}
      },
      "source": [
        "import scipy.sparse as sc\n",
        "\n",
        "data = []\n",
        "rows = []\n",
        "cols = []\n",
        "line_count = 0\n",
        "for line in corpus_tfidf:  \n",
        "    for elem in line:\n",
        "        rows.append(line_count)\n",
        "        cols.append(elem[0])\n",
        "        data.append(elem[1])\n",
        "    line_count += 1\n",
        "tfidf_matrix = sc.csr_matrix((data,(rows,cols))) "
      ],
      "execution_count": 0,
      "outputs": []
    },
    {
      "cell_type": "markdown",
      "metadata": {
        "id": "FhGwmCwmO2z3",
        "colab_type": "text"
      },
      "source": [
        "## 2.6 Save trained doc2vec model"
      ]
    },
    {
      "cell_type": "code",
      "metadata": {
        "id": "xLOrjGHvsjTO",
        "colab_type": "code",
        "colab": {}
      },
      "source": [
        "import pickle\n",
        "output = open('/content/drive/My Drive/Colab Notebooks/word2vec_text.pkl', 'wb')\n",
        "pickle.dump(doc2vec_list, output)\n",
        "output.close()"
      ],
      "execution_count": 0,
      "outputs": []
    },
    {
      "cell_type": "code",
      "metadata": {
        "id": "8ChOm8YeUxKw",
        "colab_type": "code",
        "outputId": "d5cd4993-9c89-4690-c170-51a1a8ae18af",
        "colab": {
          "base_uri": "https://localhost:8080/",
          "height": 235
        }
      },
      "source": [
        "# To unpack saved model:\n",
        "with open('/content/drive/My Drive/Colab Notebooks/word2vec_text.pkl', 'rb') as f:\n",
        "    model = pickle.load(f)\n",
        "model"
      ],
      "execution_count": 0,
      "outputs": [
        {
          "output_type": "execute_result",
          "data": {
            "text/plain": [
              "array([[-0.36789313,  0.62025064, -0.50592178, ..., -0.60118914,\n",
              "         0.4022817 ,  0.15381165],\n",
              "       [-0.51997995, -0.14156689, -0.11325792, ...,  0.31965032,\n",
              "         0.4791728 ,  0.06608019],\n",
              "       [ 0.34619623, -0.22479071, -0.22135755, ..., -0.4242197 ,\n",
              "        -0.68197554,  0.10760874],\n",
              "       ...,\n",
              "       [ 0.16214576,  0.7591455 ,  0.24573341, ..., -0.35503164,\n",
              "        -0.56714779, -0.6432336 ],\n",
              "       [ 0.62093282,  0.10704143, -0.22528988, ..., -0.27978766,\n",
              "        -0.41593963,  0.33658147],\n",
              "       [-0.88592398,  0.3963412 ,  0.22805363, ...,  0.00489058,\n",
              "         0.89035964, -0.26514044]])"
            ]
          },
          "metadata": {
            "tags": []
          },
          "execution_count": 33
        }
      ]
    },
    {
      "cell_type": "markdown",
      "metadata": {
        "id": "ghITtEoh9fUg",
        "colab_type": "text"
      },
      "source": [
        "## 2.7 Fasttext"
      ]
    },
    {
      "cell_type": "code",
      "metadata": {
        "id": "nnvtQVp2saOM",
        "colab_type": "code",
        "colab": {}
      },
      "source": [
        "from gensim.models import FastText\n",
        "FastTextModel = FastText(size=300, window=3, min_count=1, word_ngrams=1)\n",
        "FastTextModel.build_vocab(sentences=lemmatizedText)\n",
        "FastTextModel.train(sentences=lemmatizedText, total_examples=len(lemmatizedText), epochs=10)\n"
      ],
      "execution_count": 0,
      "outputs": []
    },
    {
      "cell_type": "code",
      "metadata": {
        "id": "fxeIvGath0ep",
        "colab_type": "code",
        "outputId": "eb235219-a167-43e7-e275-72558dd47b3e",
        "colab": {
          "base_uri": "https://localhost:8080/",
          "height": 111
        }
      },
      "source": [
        "FastTextVector=np.zeros((len(lemmatizedText), 300))\n",
        "\n",
        "def vectors_build(word_vectors, cleaned, word_model):\n",
        "    for i in range(0, len(lemmatizedText)):\n",
        "        word_vectors[i] = 0\n",
        "        for word in cleaned[i]:\n",
        "            word_vectors[i] += word_model[word]\n",
        "        if len(cleaned[i]) != 0:\n",
        "            word_vectors[i] = word_vectors[i] / len(cleaned[i])\n",
        "    return word_vectors\n",
        "\n",
        "    \n",
        "FastTextVector = vectors_build(FastTextVector, lemmatizedText, FastTextModel)\n",
        "\n",
        "#for i in range(len(lemmatizedText)):\n",
        "#  FastTextList[i] = FastTextModel.wv[lemmatizedText[i]]"
      ],
      "execution_count": 0,
      "outputs": [
        {
          "output_type": "stream",
          "text": [
            "/usr/local/lib/python3.6/dist-packages/ipykernel_launcher.py:7: DeprecationWarning: Call to deprecated `__getitem__` (Method will be removed in 4.0.0, use self.wv.__getitem__() instead).\n",
            "  import sys\n"
          ],
          "name": "stderr"
        }
      ]
    },
    {
      "cell_type": "code",
      "metadata": {
        "id": "LdKELRgRjvU0",
        "colab_type": "code",
        "colab": {}
      },
      "source": [
        "FastTextModel = FastText(size=300, window=2, min_count=1, word_ngrams=1)\n",
        "FastTextModel.build_vocab(sentences=lemmatizedText)\n",
        "FastTextModel.train(sentences=lemmatizedText, total_examples=len(lemmatizedText), epochs=10)\n",
        "\n",
        "FastTextVector=np.zeros((len(lemmatizedText), 300))\n",
        "\n",
        "def vectors_build(word_vectors, cleaned, word_model):\n",
        "    for i in range(0, len(lemmatizedText)):\n",
        "        word_vectors[i] = 0\n",
        "        for word in cleaned[i]:\n",
        "            word_vectors[i] += word_model[word]\n",
        "        if len(cleaned[i]) != 0:\n",
        "            word_vectors[i] = word_vectors[i] / len(cleaned[i])\n",
        "    return word_vectors\n",
        "\n",
        "    \n",
        "FastTextVector = vectors_build(FastTextVector, lemmatizedText, FastTextModel)\n",
        "\n",
        "x0_train, x0_test, y0_train, y0_test = train_test_split(FastTextVector, converted_label, test_size=0.33, random_state=6)\n",
        "LR0_model = LogisticRegression().fit(x0_train, y0_train)\n",
        "y0_pred = LR0_model.predict(x0_test)\n",
        "\n",
        "get_report(y0_test, y0_pred)"
      ],
      "execution_count": 0,
      "outputs": []
    },
    {
      "cell_type": "code",
      "metadata": {
        "id": "ccFvFu4hlphf",
        "colab_type": "code",
        "outputId": "ea2d39ef-b3e5-4978-b7c8-d82d1ae04e23",
        "colab": {
          "base_uri": "https://localhost:8080/",
          "height": 34
        }
      },
      "source": [
        "x0_train, x0_test, y0_train, y0_test = train_test_split(FastTextVector, converted_label, test_size=0.33, random_state=6)\n",
        "LR0_model = LogisticRegression().fit(x0_train, y0_train)\n",
        "y0_pred = LR0_model.predict(x0_test)\n",
        "\n",
        "get_report(y0_test, y0_pred)"
      ],
      "execution_count": 0,
      "outputs": [
        {
          "output_type": "stream",
          "text": [
            "  Accuracy: 0.89192  Precision: 0.89333  Recall: 0.89163  F-1: 0.89248\n"
          ],
          "name": "stdout"
        }
      ]
    },
    {
      "cell_type": "markdown",
      "metadata": {
        "id": "K3CyEZ_k9FT4",
        "colab_type": "text"
      },
      "source": [
        "# 3. Haotian"
      ]
    },
    {
      "cell_type": "markdown",
      "metadata": {
        "id": "EtrFqPesMNO1",
        "colab_type": "text"
      },
      "source": [
        "##  3.1 Methods"
      ]
    },
    {
      "cell_type": "markdown",
      "metadata": {
        "id": "3ZQ8v29qMWfC",
        "colab_type": "text"
      },
      "source": [
        "### 3.1.1 Convert Dataset to Binary"
      ]
    },
    {
      "cell_type": "code",
      "metadata": {
        "id": "hUcHSm_hMMPG",
        "colab_type": "code",
        "colab": {}
      },
      "source": [
        "def convert_binary(origin_list):\n",
        "    new_list = []\n",
        "    for i in range(len(origin_list)):\n",
        "        if origin_list[i] == \"FAKE\":\n",
        "            new_list.append(0)\n",
        "        else:\n",
        "            new_list.append(1)\n",
        "    return new_list"
      ],
      "execution_count": 0,
      "outputs": []
    },
    {
      "cell_type": "markdown",
      "metadata": {
        "id": "dw3tIpoPMY51",
        "colab_type": "text"
      },
      "source": [
        "#### 3.1.2 Draw ROC, AUC Diagram"
      ]
    },
    {
      "cell_type": "markdown",
      "metadata": {
        "id": "4CTvs3nCMalg",
        "colab_type": "text"
      },
      "source": [
        "Method 1 - Input the fitted model"
      ]
    },
    {
      "cell_type": "code",
      "metadata": {
        "id": "5P3wcQQ-MjRa",
        "colab_type": "code",
        "colab": {}
      },
      "source": [
        "from sklearn.metrics import roc_curve, auc\n",
        "import matplotlib.pyplot as plt\n",
        "\n",
        "def draw_ROC(model):\n",
        "    X_train_new, X_test_new, y_train_new, y_test_new = train_test_split(X, label_binary[:], test_size=0.33, random_state=42)\n",
        "    y_score_new = model.fit(X_train_new, y_train_new).predict_proba(X_test_new)\n",
        "    fpr, tpr, thresholds = roc_curve(y_test_new, y_score_new[:,1])\n",
        "    roc_auc = auc(fpr,tpr)\n",
        "\n",
        "\n",
        "    right_index = ((tpr + (1 - fpr) - 1)).tolist()\n",
        "    index = right_index.index(max(right_index))\n",
        "    tpr_val = tpr[index]\n",
        "    fpr_val = fpr[index]\n",
        "\n",
        "    plt.subplots(figsize=(7,5.5))\n",
        "    plt.plot(fpr, tpr, color='darkorange',lw=2, label='ROC curve (area = %0.2f)' % roc_auc)\n",
        "    plt.plot([0, 1], [0, 1], color='navy', lw=2, linestyle='--')\n",
        "    plt.xlim([0.0, 1.0])\n",
        "    plt.ylim([0.0, 1.05])\n",
        "    plt.xlabel('False Positive Rate',fontsize=16)\n",
        "    plt.ylabel('True Positive Rate',fontsize=16)\n",
        "    plt.title('ROC Curve',fontsize=20)\n",
        "    plt.legend(loc=\"lower right\")\n",
        "    plt.show()"
      ],
      "execution_count": 0,
      "outputs": []
    },
    {
      "cell_type": "markdown",
      "metadata": {
        "id": "mlVEd_qDMkDO",
        "colab_type": "text"
      },
      "source": [
        "Method 2 - Can directly input classifier"
      ]
    },
    {
      "cell_type": "code",
      "metadata": {
        "id": "yNz9swEHMlhv",
        "colab_type": "code",
        "colab": {}
      },
      "source": [
        "from yellowbrick.classifier import ROCAUC\n",
        "\n",
        "def draw_RocAuc(model):\n",
        "    classes = [\"FAKE\",\"REAL\"]\n",
        "    visualizer = ROCAUC(model, classes=classes)\n",
        "    visualizer.fit(X_train, y_train)  # Fit the training data to the visualizer\n",
        "    visualizer.score(X_test, y_test)  # Evaluate the model on the test data\n",
        "    g = visualizer.poof()  "
      ],
      "execution_count": 0,
      "outputs": []
    },
    {
      "cell_type": "markdown",
      "metadata": {
        "id": "jTaP-YNAMnBv",
        "colab_type": "text"
      },
      "source": [
        "### 3.1.3 Report the Result"
      ]
    },
    {
      "cell_type": "code",
      "metadata": {
        "id": "GVa_JoMEMpSl",
        "colab_type": "code",
        "colab": {}
      },
      "source": [
        "# Utility function to report best scores\n",
        "def report(grid_scores, n_top=3):\n",
        "  for i in range(0, n_top):\n",
        "    num = np.flatnonzero(grid_scores['rank_test_score'] == i+1)\n",
        "    for n in num:\n",
        "      print(\"Model with rank: {0}\".format(i+1))\n",
        "      print(\"Mean validation score: {0:.3f} (std: {1:.3f})\".format(\n",
        "          grid_scores['mean_test_score'][n],\n",
        "          grid_scores['std_test_score'][n]))\n",
        "      print(\"Parameters: {0}\".format(grid_scores['params'][n]))\n",
        "      print(\"\")"
      ],
      "execution_count": 0,
      "outputs": []
    },
    {
      "cell_type": "code",
      "metadata": {
        "id": "f5JZaQ4iMrLe",
        "colab_type": "code",
        "colab": {}
      },
      "source": [
        "from yellowbrick.classifier import ClassificationReport\n",
        "def draw_tgraph(model):\n",
        "    visualizer = ClassificationReport(model, classes=['FAKE','REAL'])\n",
        "    visualizer.fit(X_train, y_train)  \n",
        "    # Evaluate the model on the test data\n",
        "    visualizer.score(X_test, y_test)\n",
        "    # Draw the graph\n",
        "    g = visualizer.poof()             "
      ],
      "execution_count": 0,
      "outputs": []
    },
    {
      "cell_type": "code",
      "metadata": {
        "id": "ivprN8lVM5ha",
        "colab_type": "code",
        "colab": {}
      },
      "source": [
        "label_binary = convert_binary(label)"
      ],
      "execution_count": 0,
      "outputs": []
    },
    {
      "cell_type": "markdown",
      "metadata": {
        "id": "gk7HT0TU9JAE",
        "colab_type": "text"
      },
      "source": [
        "## 3.2 Classifier"
      ]
    },
    {
      "cell_type": "code",
      "metadata": {
        "id": "g6859QjdPekt",
        "colab_type": "code",
        "colab": {}
      },
      "source": [
        "from sklearn.model_selection import train_test_split\n",
        "import numpy as np\n",
        "X=tfidf_matrix[:,:]\n",
        "y=df.label[:]\n",
        "X_train, X_test, y_train, y_test = train_test_split(X, y, test_size=0.33, random_state=42)"
      ],
      "execution_count": 0,
      "outputs": []
    },
    {
      "cell_type": "code",
      "metadata": {
        "id": "5mqWlgUQfP3E",
        "colab_type": "code",
        "outputId": "b2e9de3f-ac5b-4cfa-af0d-acab924dbaa6",
        "colab": {
          "base_uri": "https://localhost:8080/",
          "height": 430
        }
      },
      "source": [
        "from sklearn.linear_model import LogisticRegression\n",
        "\n",
        "draw_RocAuc(LogisticRegression())"
      ],
      "execution_count": 0,
      "outputs": [
        {
          "output_type": "stream",
          "text": [
            "/usr/local/lib/python3.6/dist-packages/sklearn/linear_model/logistic.py:432: FutureWarning: Default solver will be changed to 'lbfgs' in 0.22. Specify a solver to silence this warning.\n",
            "  FutureWarning)\n"
          ],
          "name": "stderr"
        },
        {
          "output_type": "display_data",
          "data": {
            "image/png": "[encoded data removed]",
            "text/plain": [
              "<Figure size 576x396 with 1 Axes>"
            ]
          },
          "metadata": {
            "tags": []
          }
        }
      ]
    },
    {
      "cell_type": "markdown",
      "metadata": {
        "id": "S1JSoMvq9ViP",
        "colab_type": "text"
      },
      "source": [
        "### 3.2.1 Simple Classifers"
      ]
    },
    {
      "cell_type": "markdown",
      "metadata": {
        "id": "U9UTXtxy9z6z",
        "colab_type": "text"
      },
      "source": [
        "#### LogisticRegression"
      ]
    },
    {
      "cell_type": "code",
      "metadata": {
        "id": "dbUyzs1x9p87",
        "colab_type": "code",
        "outputId": "e870114e-79c0-45c7-f327-23869f9f5254",
        "colab": {
          "base_uri": "https://localhost:8080/",
          "height": 87
        }
      },
      "source": [
        "from sklearn.linear_model import LogisticRegression\n",
        "\n",
        "# LogisticRegression\n",
        "clfLR = LogisticRegression()\n",
        "clfLR = clfLR.fit(X_train, y_train)\n",
        "\n",
        "y_pred = clfLR.predict(X_test)\n",
        "\n",
        "# check the accuracy on the training set\n",
        "clfLR.score(X_test, y_test)"
      ],
      "execution_count": 0,
      "outputs": [
        {
          "output_type": "stream",
          "text": [
            "/usr/local/lib/python3.6/dist-packages/sklearn/linear_model/logistic.py:432: FutureWarning: Default solver will be changed to 'lbfgs' in 0.22. Specify a solver to silence this warning.\n",
            "  FutureWarning)\n"
          ],
          "name": "stderr"
        },
        {
          "output_type": "execute_result",
          "data": {
            "text/plain": [
              "0.9167862266857962"
            ]
          },
          "metadata": {
            "tags": []
          },
          "execution_count": 45
        }
      ]
    },
    {
      "cell_type": "code",
      "metadata": {
        "id": "xddwtMFQ9qlk",
        "colab_type": "code",
        "outputId": "84a203ad-1ee4-4f12-9af2-8612f4ea2837",
        "colab": {
          "base_uri": "https://localhost:8080/",
          "height": 998
        }
      },
      "source": [
        "from sklearn.metrics import classification_report\n",
        "\n",
        "draw_ROC(clfLR)\n",
        "print('~~~~~~~~~~~~~~~~~~~~~~~~~~~~~~~~~~~~~~~~~~~~~~~~~~~~~~~~~~~~~~~~~~~~~~~~~~~~~~~')\n",
        "target_names = ['True', 'Fake']\n",
        "print(classification_report(y_test, y_pred, target_names=target_names))\n",
        "print('~~~~~~~~~~~~~~~~~~~~~~~~~~~~~~~~~~~~~~~~~~~~~~~~~~~~~~~~~~~~~~~~~~~~~~~~~~~~~~~')\n",
        "draw_tgraph(clfLR)"
      ],
      "execution_count": 0,
      "outputs": [
        {
          "output_type": "stream",
          "text": [
            "/usr/local/lib/python3.6/dist-packages/sklearn/linear_model/logistic.py:432: FutureWarning: Default solver will be changed to 'lbfgs' in 0.22. Specify a solver to silence this warning.\n",
            "  FutureWarning)\n"
          ],
          "name": "stderr"
        },
        {
          "output_type": "display_data",
          "data": {
            "image/png": "[encoded data removed]",
            "text/plain": [
              "<Figure size 504x396 with 1 Axes>"
            ]
          },
          "metadata": {
            "tags": []
          }
        },
        {
          "output_type": "stream",
          "text": [
            "~~~~~~~~~~~~~~~~~~~~~~~~~~~~~~~~~~~~~~~~~~~~~~~~~~~~~~~~~~~~~~~~~~~~~~~~~~~~~~~\n",
            "              precision    recall  f1-score   support\n",
            "\n",
            "        True       0.89      0.96      0.92      1071\n",
            "        Fake       0.95      0.87      0.91      1020\n",
            "\n",
            "    accuracy                           0.92      2091\n",
            "   macro avg       0.92      0.92      0.92      2091\n",
            "weighted avg       0.92      0.92      0.92      2091\n",
            "\n",
            "~~~~~~~~~~~~~~~~~~~~~~~~~~~~~~~~~~~~~~~~~~~~~~~~~~~~~~~~~~~~~~~~~~~~~~~~~~~~~~~\n"
          ],
          "name": "stdout"
        },
        {
          "output_type": "display_data",
          "data": {
            "image/png": "[encoded data removed]",
            "text/plain": [
              "<Figure size 576x396 with 2 Axes>"
            ]
          },
          "metadata": {
            "tags": []
          }
        }
      ]
    },
    {
      "cell_type": "markdown",
      "metadata": {
        "id": "b-6j3P-Q9tXY",
        "colab_type": "text"
      },
      "source": [
        "#### RandomForest"
      ]
    },
    {
      "cell_type": "code",
      "metadata": {
        "id": "nMhV_N0S9wp3",
        "colab_type": "code",
        "colab": {}
      },
      "source": [
        "from sklearn.ensemble import RandomForestClassifier\n",
        "from sklearn.model_selection import cross_val_score\n",
        "\n",
        "# RandomForestClassifier\n",
        "clfRF = RandomForestClassifier(n_estimators=10, max_depth=None, min_samples_split=2, random_state=0)\n",
        "clfRF.fit(X_train, y_train) \n",
        "ansRF = clfRF.predict(X_test) "
      ],
      "execution_count": 0,
      "outputs": []
    },
    {
      "cell_type": "code",
      "metadata": {
        "id": "A9_A7V2G9yQZ",
        "colab_type": "code",
        "outputId": "a108d4f4-44d1-45ad-d8ce-29060171e109",
        "colab": {
          "base_uri": "https://localhost:8080/",
          "height": 945
        }
      },
      "source": [
        "from sklearn.metrics import classification_report\n",
        "\n",
        "draw_ROC(clfRF)\n",
        "print('~~~~~~~~~~~~~~~~~~~~~~~~~~~~~~~~~~~~~~~~~~~~~~~~~~~~~~~~~~~~~~~~~~~~~~~~~~~~~~~')\n",
        "target_names = ['True', 'Fake']\n",
        "print(classification_report(y_test, ansRF, target_names=target_names))\n",
        "print('~~~~~~~~~~~~~~~~~~~~~~~~~~~~~~~~~~~~~~~~~~~~~~~~~~~~~~~~~~~~~~~~~~~~~~~~~~~~~~~')\n",
        "draw_tgraph(clfRF)"
      ],
      "execution_count": 0,
      "outputs": [
        {
          "output_type": "display_data",
          "data": {
            "image/png": "[encoded data removed]",
            "text/plain": [
              "<Figure size 504x396 with 1 Axes>"
            ]
          },
          "metadata": {
            "tags": []
          }
        },
        {
          "output_type": "stream",
          "text": [
            "~~~~~~~~~~~~~~~~~~~~~~~~~~~~~~~~~~~~~~~~~~~~~~~~~~~~~~~~~~~~~~~~~~~~~~~~~~~~~~~\n",
            "              precision    recall  f1-score   support\n",
            "\n",
            "        True       0.84      0.88      0.86      1071\n",
            "        Fake       0.87      0.82      0.84      1020\n",
            "\n",
            "    accuracy                           0.85      2091\n",
            "   macro avg       0.85      0.85      0.85      2091\n",
            "weighted avg       0.85      0.85      0.85      2091\n",
            "\n",
            "~~~~~~~~~~~~~~~~~~~~~~~~~~~~~~~~~~~~~~~~~~~~~~~~~~~~~~~~~~~~~~~~~~~~~~~~~~~~~~~\n"
          ],
          "name": "stdout"
        },
        {
          "output_type": "display_data",
          "data": {
            "image/png": "[encoded data removed]",
            "text/plain": [
              "<Figure size 576x396 with 2 Axes>"
            ]
          },
          "metadata": {
            "tags": []
          }
        }
      ]
    },
    {
      "cell_type": "markdown",
      "metadata": {
        "id": "xhQSBMut93qP",
        "colab_type": "text"
      },
      "source": [
        "#### XGB"
      ]
    },
    {
      "cell_type": "code",
      "metadata": {
        "id": "7hg9abjV97Fp",
        "colab_type": "code",
        "outputId": "379302c2-faac-4992-a303-be576564cb7b",
        "colab": {
          "base_uri": "https://localhost:8080/",
          "height": 134
        }
      },
      "source": [
        "from xgboost import XGBClassifier\n",
        "\n",
        "XGmodel = XGBClassifier(max_depth=7, learning_rate=0.2, \n",
        "                        n_estimators=100, silent=True, \n",
        "                        objective='binary:logistic', nthread=-1, \n",
        "                        gamma=0, min_child_weight=1, max_delta_step=0, \n",
        "                        subsample=1, colsample_bytree=1, \n",
        "                        colsample_bylevel=1, reg_alpha=0, \n",
        "                        reg_lambda=1, scale_pos_weight=1, \n",
        "                        base_score=0.5, seed=0, missing=None)\n",
        "\n",
        "XGmodel.fit(X_train, y_train)"
      ],
      "execution_count": 0,
      "outputs": [
        {
          "output_type": "execute_result",
          "data": {
            "text/plain": [
              "XGBClassifier(base_score=0.5, booster='gbtree', colsample_bylevel=1,\n",
              "              colsample_bynode=1, colsample_bytree=1, gamma=0,\n",
              "              learning_rate=0.2, max_delta_step=0, max_depth=7,\n",
              "              min_child_weight=1, missing=None, n_estimators=100, n_jobs=1,\n",
              "              nthread=-1, objective='binary:logistic', random_state=0,\n",
              "              reg_alpha=0, reg_lambda=1, scale_pos_weight=1, seed=0,\n",
              "              silent=True, subsample=1, verbosity=1)"
            ]
          },
          "metadata": {
            "tags": []
          },
          "execution_count": 49
        }
      ]
    },
    {
      "cell_type": "code",
      "metadata": {
        "id": "TQ0ZN09I98dl",
        "colab_type": "code",
        "outputId": "f60e492b-4ff2-41cf-9cb9-d526ed0d2428",
        "colab": {
          "base_uri": "https://localhost:8080/",
          "height": 945
        }
      },
      "source": [
        "from sklearn.metrics import classification_report\n",
        "\n",
        "draw_ROC(XGmodel)\n",
        "print('~~~~~~~~~~~~~~~~~~~~~~~~~~~~~~~~~~~~~~~~~~~~~~~~~~~~~~~~~~~~~~~~~~~~~~~~~~~~~~~')\n",
        "target_names = ['True', 'Fake']\n",
        "print(classification_report(y_test, y_pred, target_names=target_names))\n",
        "print('~~~~~~~~~~~~~~~~~~~~~~~~~~~~~~~~~~~~~~~~~~~~~~~~~~~~~~~~~~~~~~~~~~~~~~~~~~~~~~~')\n",
        "draw_tgraph(XGmodel)"
      ],
      "execution_count": 0,
      "outputs": [
        {
          "output_type": "display_data",
          "data": {
            "image/png": "[encoded data removed]",
            "text/plain": [
              "<Figure size 504x396 with 1 Axes>"
            ]
          },
          "metadata": {
            "tags": []
          }
        },
        {
          "output_type": "stream",
          "text": [
            "~~~~~~~~~~~~~~~~~~~~~~~~~~~~~~~~~~~~~~~~~~~~~~~~~~~~~~~~~~~~~~~~~~~~~~~~~~~~~~~\n",
            "              precision    recall  f1-score   support\n",
            "\n",
            "        True       0.89      0.96      0.92      1071\n",
            "        Fake       0.95      0.87      0.91      1020\n",
            "\n",
            "    accuracy                           0.92      2091\n",
            "   macro avg       0.92      0.92      0.92      2091\n",
            "weighted avg       0.92      0.92      0.92      2091\n",
            "\n",
            "~~~~~~~~~~~~~~~~~~~~~~~~~~~~~~~~~~~~~~~~~~~~~~~~~~~~~~~~~~~~~~~~~~~~~~~~~~~~~~~\n"
          ],
          "name": "stdout"
        },
        {
          "output_type": "display_data",
          "data": {
            "image/png": "[encoded data removed]",
            "text/plain": [
              "<Figure size 576x396 with 2 Axes>"
            ]
          },
          "metadata": {
            "tags": []
          }
        }
      ]
    },
    {
      "cell_type": "markdown",
      "metadata": {
        "id": "uYIB-vyL9-Ep",
        "colab_type": "text"
      },
      "source": [
        "## 3.3 Hypertuning - finding the optimal set of hyperparameters\n",
        "Try the model we used in the simple way, and use Random & Grid SearchCV algorism to find better parameters "
      ]
    },
    {
      "cell_type": "markdown",
      "metadata": {
        "id": "wVAxYsue-G9-",
        "colab_type": "text"
      },
      "source": [
        "### 3.3.1 Randomized SearchCV"
      ]
    },
    {
      "cell_type": "markdown",
      "metadata": {
        "id": "1lG5y6dOY7AO",
        "colab_type": "text"
      },
      "source": [
        "##### Logic Regression"
      ]
    },
    {
      "cell_type": "code",
      "metadata": {
        "id": "BVjZpqqGJhIW",
        "colab_type": "code",
        "colab": {}
      },
      "source": [
        "from time import time\n",
        "from operator import itemgetter\n",
        "from scipy.stats import randint as sp_randint\n",
        "from sklearn.model_selection import RandomizedSearchCV"
      ],
      "execution_count": 0,
      "outputs": []
    },
    {
      "cell_type": "code",
      "metadata": {
        "id": "03-QUdCxY9CH",
        "colab_type": "code",
        "colab": {}
      },
      "source": [
        "from sklearn.linear_model import LogisticRegression\n",
        "\n",
        "clfLR = LogisticRegression()"
      ],
      "execution_count": 0,
      "outputs": []
    },
    {
      "cell_type": "code",
      "metadata": {
        "id": "g5bm3BoAY-T_",
        "colab_type": "code",
        "outputId": "f271be69-a42d-40c4-f45c-15328d5ae955",
        "colab": {
          "base_uri": "https://localhost:8080/",
          "height": 373
        }
      },
      "source": [
        "param_dist = {\n",
        "'penalty': ('l1', 'l2'),\n",
        "'C': (0.01, 0.1, 1, 10),\n",
        "}\n",
        " \n",
        "# number of models we are going to train\n",
        "n_iter_search = 20\n",
        "\n",
        "# create our randomized gridsearch classifier\n",
        "random_search = RandomizedSearchCV(clfLR,param_distributions=param_dist,n_jobs=4,\n",
        "                                   n_iter=n_iter_search, return_train_score=True)\n",
        "\n",
        "# start a timer so we know how long the random gridsearch took\n",
        "start = time()\n",
        "# perform the random gridsearch\n",
        "random_search.fit(X_train, y_train)\n",
        "y_pred = random_search.predict(X_test)\n",
        "print(\"RandomizedSearchCV took %.2f seconds for %d candidates\"\n",
        "      \" parameter settings.\" \n",
        "      % ((time() - start), n_iter_search))\n",
        "\n",
        "# print the top 3 model outputs from the random gridsearch\n",
        "report(random_search.cv_results_)\n",
        "random_search.best_params_, random_search.best_score_"
      ],
      "execution_count": 0,
      "outputs": [
        {
          "output_type": "stream",
          "text": [
            "/usr/local/lib/python3.6/dist-packages/sklearn/model_selection/_split.py:1978: FutureWarning: The default value of cv will change from 3 to 5 in version 0.22. Specify it explicitly to silence this warning.\n",
            "  warnings.warn(CV_WARNING, FutureWarning)\n",
            "/usr/local/lib/python3.6/dist-packages/sklearn/model_selection/_search.py:266: UserWarning: The total space of parameters 8 is smaller than n_iter=20. Running 8 iterations. For exhaustive searches, use GridSearchCV.\n",
            "  % (grid_size, self.n_iter, grid_size), UserWarning)\n",
            "/usr/local/lib/python3.6/dist-packages/sklearn/linear_model/logistic.py:432: FutureWarning: Default solver will be changed to 'lbfgs' in 0.22. Specify a solver to silence this warning.\n",
            "  FutureWarning)\n"
          ],
          "name": "stderr"
        },
        {
          "output_type": "stream",
          "text": [
            "RandomizedSearchCV took 11.55 seconds for 20 candidates parameter settings.\n",
            "Model with rank: 1\n",
            "Mean validation score: 0.931 (std: 0.011)\n",
            "Parameters: {'penalty': 'l2', 'C': 10}\n",
            "\n",
            "Model with rank: 2\n",
            "Mean validation score: 0.925 (std: 0.002)\n",
            "Parameters: {'penalty': 'l1', 'C': 10}\n",
            "\n",
            "Model with rank: 3\n",
            "Mean validation score: 0.913 (std: 0.008)\n",
            "Parameters: {'penalty': 'l2', 'C': 1}\n",
            "\n"
          ],
          "name": "stdout"
        },
        {
          "output_type": "execute_result",
          "data": {
            "text/plain": [
              "({'C': 10, 'penalty': 'l2'}, 0.9311969839773798)"
            ]
          },
          "metadata": {
            "tags": []
          },
          "execution_count": 121
        }
      ]
    },
    {
      "cell_type": "code",
      "metadata": {
        "id": "WmpBmMmuNxLb",
        "colab_type": "code",
        "outputId": "9d108a76-c7df-4b9d-a8fb-39a924a30c00",
        "colab": {
          "base_uri": "https://localhost:8080/",
          "height": 1000
        }
      },
      "source": [
        "from sklearn.metrics import classification_report\n",
        "\n",
        "draw_ROC(random_search)\n",
        "print('~~~~~~~~~~~~~~~~~~~~~~~~~~~~~~~~~~~~~~~~~~~~~~~~~~~~~~~~~~~~~~~~~~~~~~~~~~~~~~~')\n",
        "target_names = ['True', 'Fake']\n",
        "print(classification_report(y_test, y_pred, target_names=target_names))\n",
        "print('~~~~~~~~~~~~~~~~~~~~~~~~~~~~~~~~~~~~~~~~~~~~~~~~~~~~~~~~~~~~~~~~~~~~~~~~~~~~~~~')\n",
        "draw_tgraph(random_search)"
      ],
      "execution_count": 0,
      "outputs": [
        {
          "output_type": "stream",
          "text": [
            "/usr/local/lib/python3.6/dist-packages/sklearn/model_selection/_split.py:1978: FutureWarning: The default value of cv will change from 3 to 5 in version 0.22. Specify it explicitly to silence this warning.\n",
            "  warnings.warn(CV_WARNING, FutureWarning)\n",
            "/usr/local/lib/python3.6/dist-packages/sklearn/model_selection/_search.py:266: UserWarning: The total space of parameters 8 is smaller than n_iter=20. Running 8 iterations. For exhaustive searches, use GridSearchCV.\n",
            "  % (grid_size, self.n_iter, grid_size), UserWarning)\n",
            "/usr/local/lib/python3.6/dist-packages/sklearn/linear_model/logistic.py:432: FutureWarning: Default solver will be changed to 'lbfgs' in 0.22. Specify a solver to silence this warning.\n",
            "  FutureWarning)\n"
          ],
          "name": "stderr"
        },
        {
          "output_type": "display_data",
          "data": {
            "image/png": "[encoded data removed]",
            "text/plain": [
              "<Figure size 504x396 with 1 Axes>"
            ]
          },
          "metadata": {
            "tags": []
          }
        },
        {
          "output_type": "stream",
          "text": [
            "~~~~~~~~~~~~~~~~~~~~~~~~~~~~~~~~~~~~~~~~~~~~~~~~~~~~~~~~~~~~~~~~~~~~~~~~~~~~~~~\n",
            "              precision    recall  f1-score   support\n",
            "\n",
            "        True       0.93      0.96      0.95      1071\n",
            "        Fake       0.96      0.93      0.94      1020\n",
            "\n",
            "    accuracy                           0.95      2091\n",
            "   macro avg       0.95      0.95      0.95      2091\n",
            "weighted avg       0.95      0.95      0.95      2091\n",
            "\n",
            "~~~~~~~~~~~~~~~~~~~~~~~~~~~~~~~~~~~~~~~~~~~~~~~~~~~~~~~~~~~~~~~~~~~~~~~~~~~~~~~\n"
          ],
          "name": "stdout"
        },
        {
          "output_type": "stream",
          "text": [
            "/usr/local/lib/python3.6/dist-packages/sklearn/model_selection/_split.py:1978: FutureWarning: The default value of cv will change from 3 to 5 in version 0.22. Specify it explicitly to silence this warning.\n",
            "  warnings.warn(CV_WARNING, FutureWarning)\n",
            "/usr/local/lib/python3.6/dist-packages/sklearn/model_selection/_search.py:266: UserWarning: The total space of parameters 8 is smaller than n_iter=20. Running 8 iterations. For exhaustive searches, use GridSearchCV.\n",
            "  % (grid_size, self.n_iter, grid_size), UserWarning)\n",
            "/usr/local/lib/python3.6/dist-packages/sklearn/linear_model/logistic.py:432: FutureWarning: Default solver will be changed to 'lbfgs' in 0.22. Specify a solver to silence this warning.\n",
            "  FutureWarning)\n"
          ],
          "name": "stderr"
        },
        {
          "output_type": "display_data",
          "data": {
            "image/png": "[encoded data removed]",
            "text/plain": [
              "<Figure size 576x396 with 2 Axes>"
            ]
          },
          "metadata": {
            "tags": []
          }
        }
      ]
    },
    {
      "cell_type": "markdown",
      "metadata": {
        "id": "lHESeLZcYbrg",
        "colab_type": "text"
      },
      "source": [
        "##### Random Forest"
      ]
    },
    {
      "cell_type": "code",
      "metadata": {
        "id": "SQc9s85r9Z6f",
        "colab_type": "code",
        "colab": {}
      },
      "source": [
        "from sklearn.ensemble import RandomForestClassifier\n",
        "\n",
        "clfRF = RandomForestClassifier(n_estimators=20)"
      ],
      "execution_count": 0,
      "outputs": []
    },
    {
      "cell_type": "code",
      "metadata": {
        "id": "PT40vhL4YkZO",
        "colab_type": "code",
        "outputId": "a6c8b8e1-6010-4534-9278-1f8aca1cba31",
        "colab": {
          "base_uri": "https://localhost:8080/",
          "height": 87
        }
      },
      "source": [
        "import numpy as np\n",
        "\n",
        "from time import time\n",
        "from operator import itemgetter\n",
        "from scipy.stats import randint as sp_randint\n",
        "from sklearn.model_selection import RandomizedSearchCV\n",
        "\n",
        "# specify parameters and distributions\n",
        "param_dist = {\"n_estimators\": [10, 15, 20],\n",
        "              \"criterion\": [\"gini\", \"entropy\"],\n",
        "              \"min_samples_leaf\": [2, 4, 6],}\n",
        "\n",
        "# number of models we are going to train\n",
        "n_iter_search = 100\n",
        "# create our randomized gridsearch classifier\n",
        "random_search = RandomizedSearchCV(clfRF, param_distributions=param_dist,n_jobs=4,\n",
        "                                   n_iter=n_iter_search, return_train_score=True)\n",
        "# start a timer so we know how long the random gridsearch took\n",
        "start = time()\n",
        "# perform the random gridsearch\n",
        "random_search.fit(X_train, y_train)\n",
        "y_pred = random_search.predict(X_test)\n",
        "print(\"RandomizedSearchCV took %.2f seconds for %d candidates\"\n",
        "      \" parameter settings.\" \n",
        "      % ((time() - start), n_iter_search))"
      ],
      "execution_count": 0,
      "outputs": [
        {
          "output_type": "stream",
          "text": [
            "/usr/local/lib/python3.6/dist-packages/sklearn/model_selection/_split.py:1978: FutureWarning: The default value of cv will change from 3 to 5 in version 0.22. Specify it explicitly to silence this warning.\n",
            "  warnings.warn(CV_WARNING, FutureWarning)\n"
          ],
          "name": "stderr"
        },
        {
          "output_type": "stream",
          "text": [
            "RandomizedSearchCV took 57.64 seconds for 100 candidates parameter settings.\n"
          ],
          "name": "stdout"
        }
      ]
    },
    {
      "cell_type": "code",
      "metadata": {
        "id": "5xoxDQ_ltNh1",
        "colab_type": "code",
        "outputId": "b8cd0aa6-00bb-47eb-a891-bd0320583dd1",
        "colab": {
          "base_uri": "https://localhost:8080/",
          "height": 336
        }
      },
      "source": [
        "# print the top 3 model outputs from the random gridsearch\n",
        "report(random_search.cv_results_)\n",
        "random_search.best_params_, random_search.best_score_"
      ],
      "execution_count": 0,
      "outputs": [
        {
          "output_type": "stream",
          "text": [
            "Model with rank: 1\n",
            "Mean validation score: 0.834 (std: 0.008)\n",
            "Parameters: {'bootstrap': False, 'criterion': 'entropy', 'max_depth': None, 'max_features': 2, 'min_samples_leaf': 1, 'min_samples_split': 8}\n",
            "\n",
            "Model with rank: 2\n",
            "Mean validation score: 0.832 (std: 0.011)\n",
            "Parameters: {'bootstrap': False, 'criterion': 'entropy', 'max_depth': None, 'max_features': 4, 'min_samples_leaf': 1, 'min_samples_split': 8}\n",
            "\n",
            "Model with rank: 3\n",
            "Mean validation score: 0.825 (std: 0.013)\n",
            "Parameters: {'bootstrap': False, 'criterion': 'entropy', 'max_depth': None, 'max_features': 8, 'min_samples_leaf': 1, 'min_samples_split': 2}\n",
            "\n"
          ],
          "name": "stdout"
        },
        {
          "output_type": "execute_result",
          "data": {
            "text/plain": [
              "({'bootstrap': False,\n",
              "  'criterion': 'entropy',\n",
              "  'max_depth': None,\n",
              "  'max_features': 2,\n",
              "  'min_samples_leaf': 1,\n",
              "  'min_samples_split': 8},\n",
              " 0.8336475023562677)"
            ]
          },
          "metadata": {
            "tags": []
          },
          "execution_count": 115
        }
      ]
    },
    {
      "cell_type": "code",
      "metadata": {
        "id": "P5-awUZgNc0U",
        "colab_type": "code",
        "outputId": "e79b2f4b-54fe-4844-88c1-a6440397b784",
        "colab": {
          "base_uri": "https://localhost:8080/",
          "height": 1000
        }
      },
      "source": [
        "from sklearn.metrics import classification_report\n",
        "\n",
        "draw_ROC(random_search)\n",
        "print('~~~~~~~~~~~~~~~~~~~~~~~~~~~~~~~~~~~~~~~~~~~~~~~~~~~~~~~~~~~~~~~~~~~~~~~~~~~~~~~')\n",
        "target_names = ['True', 'Fake']\n",
        "print(classification_report(y_test, y_pred, target_names=target_names))\n",
        "print('~~~~~~~~~~~~~~~~~~~~~~~~~~~~~~~~~~~~~~~~~~~~~~~~~~~~~~~~~~~~~~~~~~~~~~~~~~~~~~~')\n",
        "draw_tgraph(random_search)"
      ],
      "execution_count": 0,
      "outputs": [
        {
          "output_type": "stream",
          "text": [
            "/usr/local/lib/python3.6/dist-packages/sklearn/model_selection/_split.py:1978: FutureWarning: The default value of cv will change from 3 to 5 in version 0.22. Specify it explicitly to silence this warning.\n",
            "  warnings.warn(CV_WARNING, FutureWarning)\n"
          ],
          "name": "stderr"
        },
        {
          "output_type": "display_data",
          "data": {
            "image/png": "[encoded data removed]",
            "text/plain": [
              "<Figure size 504x396 with 1 Axes>"
            ]
          },
          "metadata": {
            "tags": []
          }
        },
        {
          "output_type": "stream",
          "text": [
            "~~~~~~~~~~~~~~~~~~~~~~~~~~~~~~~~~~~~~~~~~~~~~~~~~~~~~~~~~~~~~~~~~~~~~~~~~~~~~~~\n",
            "              precision    recall  f1-score   support\n",
            "\n",
            "        True       0.85      0.83      0.84      1071\n",
            "        Fake       0.82      0.85      0.84      1020\n",
            "\n",
            "    accuracy                           0.84      2091\n",
            "   macro avg       0.84      0.84      0.84      2091\n",
            "weighted avg       0.84      0.84      0.84      2091\n",
            "\n",
            "~~~~~~~~~~~~~~~~~~~~~~~~~~~~~~~~~~~~~~~~~~~~~~~~~~~~~~~~~~~~~~~~~~~~~~~~~~~~~~~\n"
          ],
          "name": "stdout"
        },
        {
          "output_type": "stream",
          "text": [
            "/usr/local/lib/python3.6/dist-packages/sklearn/model_selection/_split.py:1978: FutureWarning: The default value of cv will change from 3 to 5 in version 0.22. Specify it explicitly to silence this warning.\n",
            "  warnings.warn(CV_WARNING, FutureWarning)\n"
          ],
          "name": "stderr"
        },
        {
          "output_type": "display_data",
          "data": {
            "image/png": "[encoded data removed]",
            "text/plain": [
              "<Figure size 576x396 with 2 Axes>"
            ]
          },
          "metadata": {
            "tags": []
          }
        }
      ]
    },
    {
      "cell_type": "markdown",
      "metadata": {
        "id": "CA9meGMOYofg",
        "colab_type": "text"
      },
      "source": [
        "##### XGBClassifier"
      ]
    },
    {
      "cell_type": "code",
      "metadata": {
        "id": "8WoRv7cuYo0X",
        "colab_type": "code",
        "colab": {}
      },
      "source": [
        "from xgboost import XGBClassifier\n",
        "\n",
        "clfXGB = XGBClassifier()"
      ],
      "execution_count": 0,
      "outputs": []
    },
    {
      "cell_type": "code",
      "metadata": {
        "id": "iAqkRaRWCS4K",
        "colab_type": "code",
        "outputId": "7aa6a0a9-5040-4880-d4d9-841ca34579a9",
        "colab": {
          "base_uri": "https://localhost:8080/",
          "height": 406
        }
      },
      "source": [
        "# specify parameters and distributions\n",
        "param_dist = {\n",
        "        'n_estimators':range(80,200,4),\n",
        "        'max_depth':range(2,15,1),\n",
        "        'learning_rate':np.linspace(0.01,2,20),\n",
        "        'subsample':np.linspace(0.7,0.9,20),\n",
        "        'colsample_bytree':np.linspace(0.5,0.98,10),\n",
        "        'min_child_weight':range(1,9,1)\n",
        "        }\n",
        "\n",
        "# number of models we are going to train\n",
        "n_iter_search = 20\n",
        "\n",
        "# create our randomized gridsearch classifier\n",
        "random_search = RandomizedSearchCV(clfXGB,param_distributions=param_dist,n_jobs=4,\n",
        "                                   n_iter=n_iter_search, return_train_score=True)\n",
        "\n",
        "# start a timer so we know how long the random gridsearch took\n",
        "start = time()\n",
        "# perform the random gridsearch\n",
        "random_search.fit(X_train, y_train)\n",
        "y_pred = random_search.predict(X_test)\n",
        "print(\"RandomizedSearchCV took %.2f seconds for %d candidates\"\n",
        "      \" parameter settings.\" \n",
        "      % ((time() - start), n_iter_search))\n",
        "\n",
        "# print the top 3 model outputs from the random gridsearch\n",
        "report(random_search.cv_results_)\n",
        "random_search.best_params_, random_search.best_score_"
      ],
      "execution_count": 0,
      "outputs": [
        {
          "output_type": "stream",
          "text": [
            "/usr/local/lib/python3.6/dist-packages/sklearn/model_selection/_split.py:1978: FutureWarning: The default value of cv will change from 3 to 5 in version 0.22. Specify it explicitly to silence this warning.\n",
            "  warnings.warn(CV_WARNING, FutureWarning)\n"
          ],
          "name": "stderr"
        },
        {
          "output_type": "stream",
          "text": [
            "RandomizedSearchCV took 1181.44 seconds for 20 candidates parameter settings.\n",
            "Model with rank: 1\n",
            "Mean validation score: 0.924 (std: 0.004)\n",
            "Parameters: {'subsample': 0.8473684210526315, 'n_estimators': 144, 'min_child_weight': 5, 'max_depth': 10, 'learning_rate': 0.21947368421052632, 'colsample_bytree': 0.8733333333333333}\n",
            "\n",
            "Model with rank: 2\n",
            "Mean validation score: 0.921 (std: 0.007)\n",
            "Parameters: {'subsample': 0.7526315789473684, 'n_estimators': 104, 'min_child_weight': 7, 'max_depth': 11, 'learning_rate': 0.21947368421052632, 'colsample_bytree': 0.8733333333333333}\n",
            "\n",
            "Model with rank: 3\n",
            "Mean validation score: 0.916 (std: 0.004)\n",
            "Parameters: {'subsample': 0.7947368421052632, 'n_estimators': 100, 'min_child_weight': 2, 'max_depth': 5, 'learning_rate': 0.638421052631579, 'colsample_bytree': 0.7666666666666666}\n",
            "\n"
          ],
          "name": "stdout"
        },
        {
          "output_type": "execute_result",
          "data": {
            "text/plain": [
              "({'colsample_bytree': 0.8733333333333333,\n",
              "  'learning_rate': 0.21947368421052632,\n",
              "  'max_depth': 10,\n",
              "  'min_child_weight': 5,\n",
              "  'n_estimators': 144,\n",
              "  'subsample': 0.8473684210526315},\n",
              " 0.9238925541941565)"
            ]
          },
          "metadata": {
            "tags": []
          },
          "execution_count": 118
        }
      ]
    },
    {
      "cell_type": "code",
      "metadata": {
        "id": "nyp-Fpo7NkiI",
        "colab_type": "code",
        "outputId": "2dc049aa-edd2-43b8-a28b-b288b60e783a",
        "colab": {
          "base_uri": "https://localhost:8080/",
          "height": 1000
        }
      },
      "source": [
        "from sklearn.metrics import classification_report\n",
        "\n",
        "draw_ROC(random_search)\n",
        "print('~~~~~~~~~~~~~~~~~~~~~~~~~~~~~~~~~~~~~~~~~~~~~~~~~~~~~~~~~~~~~~~~~~~~~~~~~~~~~~~')\n",
        "target_names = ['True', 'Fake']\n",
        "print(classification_report(y_test, y_pred, target_names=target_names))\n",
        "print('~~~~~~~~~~~~~~~~~~~~~~~~~~~~~~~~~~~~~~~~~~~~~~~~~~~~~~~~~~~~~~~~~~~~~~~~~~~~~~~')\n",
        "draw_tgraph(random_search)"
      ],
      "execution_count": 0,
      "outputs": [
        {
          "output_type": "stream",
          "text": [
            "/usr/local/lib/python3.6/dist-packages/sklearn/model_selection/_split.py:1978: FutureWarning: The default value of cv will change from 3 to 5 in version 0.22. Specify it explicitly to silence this warning.\n",
            "  warnings.warn(CV_WARNING, FutureWarning)\n"
          ],
          "name": "stderr"
        },
        {
          "output_type": "display_data",
          "data": {
            "image/png": "[encoded data removed]",
            "text/plain": [
              "<Figure size 504x396 with 1 Axes>"
            ]
          },
          "metadata": {
            "tags": []
          }
        },
        {
          "output_type": "stream",
          "text": [
            "~~~~~~~~~~~~~~~~~~~~~~~~~~~~~~~~~~~~~~~~~~~~~~~~~~~~~~~~~~~~~~~~~~~~~~~~~~~~~~~\n",
            "              precision    recall  f1-score   support\n",
            "\n",
            "        True       0.94      0.95      0.95      1071\n",
            "        Fake       0.95      0.94      0.94      1020\n",
            "\n",
            "    accuracy                           0.94      2091\n",
            "   macro avg       0.94      0.94      0.94      2091\n",
            "weighted avg       0.94      0.94      0.94      2091\n",
            "\n",
            "~~~~~~~~~~~~~~~~~~~~~~~~~~~~~~~~~~~~~~~~~~~~~~~~~~~~~~~~~~~~~~~~~~~~~~~~~~~~~~~\n"
          ],
          "name": "stdout"
        },
        {
          "output_type": "stream",
          "text": [
            "/usr/local/lib/python3.6/dist-packages/sklearn/model_selection/_split.py:1978: FutureWarning: The default value of cv will change from 3 to 5 in version 0.22. Specify it explicitly to silence this warning.\n",
            "  warnings.warn(CV_WARNING, FutureWarning)\n"
          ],
          "name": "stderr"
        },
        {
          "output_type": "display_data",
          "data": {
            "image/png": "[encoded data removed]",
            "text/plain": [
              "<Figure size 576x396 with 2 Axes>"
            ]
          },
          "metadata": {
            "tags": []
          }
        }
      ]
    },
    {
      "cell_type": "markdown",
      "metadata": {
        "id": "1PSKtY26ZA3I",
        "colab_type": "text"
      },
      "source": [
        "### 3.3.2 Exhaustive Grid SearchCV"
      ]
    },
    {
      "cell_type": "code",
      "metadata": {
        "id": "xVAdzQI6J-8m",
        "colab_type": "code",
        "colab": {}
      },
      "source": [
        "import numpy as np\n",
        "\n",
        "from time import time\n",
        "from operator import itemgetter\n",
        "from scipy.stats import randint as sp_randint\n",
        "from sklearn.model_selection import GridSearchCV\n",
        "from sklearn.ensemble import RandomForestClassifier\n"
      ],
      "execution_count": 0,
      "outputs": []
    },
    {
      "cell_type": "markdown",
      "metadata": {
        "id": "cOEz83HaZMC6",
        "colab_type": "text"
      },
      "source": [
        "##### Logic Regression"
      ]
    },
    {
      "cell_type": "code",
      "metadata": {
        "id": "syc3ySF4ZMRY",
        "colab_type": "code",
        "outputId": "b9013802-b34a-4f40-93d0-cf9ca807b433",
        "colab": {
          "base_uri": "https://localhost:8080/",
          "height": 339
        }
      },
      "source": [
        "# use a full grid over all parameters. \n",
        "param_grid = {'penalty': ('l1', 'l2'),'C': (0.01, 0.1, 1, 10)}\n",
        "\n",
        "# create an exhaustive gridsearch object\n",
        "grid_search = GridSearchCV(clfLR, param_grid = param_grid, return_train_score=True)\n",
        "\n",
        "# start a timer so we know how long the exhaustive gridsearch took\n",
        "start = time()\n",
        "\n",
        "# perform the exhaustive gridsearch\n",
        "grid_search.fit(X_train, y_train)\n",
        "y_pred = grid_search.predict(X_test)\n",
        "print(\"GridSearchCV took %.2f seconds for %d candidate parameter settings.\"\n",
        "      % (time() - start, len(grid_search.cv_results_)))\n",
        "\n",
        "# print the top 3 model outputs from the exhaustive gridsearch\n",
        "report(grid_search.cv_results_)\n",
        "grid_search.best_params_, grid_search.best_score_"
      ],
      "execution_count": 0,
      "outputs": [
        {
          "output_type": "stream",
          "text": [
            "/usr/local/lib/python3.6/dist-packages/sklearn/model_selection/_split.py:1978: FutureWarning: The default value of cv will change from 3 to 5 in version 0.22. Specify it explicitly to silence this warning.\n",
            "  warnings.warn(CV_WARNING, FutureWarning)\n",
            "/usr/local/lib/python3.6/dist-packages/sklearn/linear_model/logistic.py:432: FutureWarning: Default solver will be changed to 'lbfgs' in 0.22. Specify a solver to silence this warning.\n",
            "  FutureWarning)\n"
          ],
          "name": "stderr"
        },
        {
          "output_type": "stream",
          "text": [
            "GridSearchCV took 6.65 seconds for 18 candidate parameter settings.\n",
            "Model with rank: 1\n",
            "Mean validation score: 0.931 (std: 0.011)\n",
            "Parameters: {'C': 10, 'penalty': 'l2'}\n",
            "\n",
            "Model with rank: 2\n",
            "Mean validation score: 0.925 (std: 0.002)\n",
            "Parameters: {'C': 10, 'penalty': 'l1'}\n",
            "\n",
            "Model with rank: 3\n",
            "Mean validation score: 0.913 (std: 0.008)\n",
            "Parameters: {'C': 1, 'penalty': 'l2'}\n",
            "\n"
          ],
          "name": "stdout"
        },
        {
          "output_type": "execute_result",
          "data": {
            "text/plain": [
              "({'C': 10, 'penalty': 'l2'}, 0.9311969839773798)"
            ]
          },
          "metadata": {
            "tags": []
          },
          "execution_count": 125
        }
      ]
    },
    {
      "cell_type": "code",
      "metadata": {
        "id": "86ConXWtN7-t",
        "colab_type": "code",
        "outputId": "ad1b56d1-a326-4453-f596-b4165541bde5",
        "colab": {
          "base_uri": "https://localhost:8080/",
          "height": 1000
        }
      },
      "source": [
        "from sklearn.metrics import classification_report\n",
        "\n",
        "draw_ROC(grid_search)\n",
        "print('~~~~~~~~~~~~~~~~~~~~~~~~~~~~~~~~~~~~~~~~~~~~~~~~~~~~~~~~~~~~~~~~~~~~~~~~~~~~~~~')\n",
        "target_names = ['True', 'Fake']\n",
        "print(classification_report(y_test, y_pred, target_names=target_names))\n",
        "print('~~~~~~~~~~~~~~~~~~~~~~~~~~~~~~~~~~~~~~~~~~~~~~~~~~~~~~~~~~~~~~~~~~~~~~~~~~~~~~~')\n",
        "draw_tgraph(grid_search)"
      ],
      "execution_count": 0,
      "outputs": [
        {
          "output_type": "stream",
          "text": [
            "/usr/local/lib/python3.6/dist-packages/sklearn/model_selection/_split.py:1978: FutureWarning: The default value of cv will change from 3 to 5 in version 0.22. Specify it explicitly to silence this warning.\n",
            "  warnings.warn(CV_WARNING, FutureWarning)\n",
            "/usr/local/lib/python3.6/dist-packages/sklearn/linear_model/logistic.py:432: FutureWarning: Default solver will be changed to 'lbfgs' in 0.22. Specify a solver to silence this warning.\n",
            "  FutureWarning)\n"
          ],
          "name": "stderr"
        },
        {
          "output_type": "display_data",
          "data": {
            "image/png": "[encoded data removed]",
            "text/plain": [
              "<Figure size 504x396 with 1 Axes>"
            ]
          },
          "metadata": {
            "tags": []
          }
        },
        {
          "output_type": "stream",
          "text": [
            "~~~~~~~~~~~~~~~~~~~~~~~~~~~~~~~~~~~~~~~~~~~~~~~~~~~~~~~~~~~~~~~~~~~~~~~~~~~~~~~\n",
            "              precision    recall  f1-score   support\n",
            "\n",
            "        True       0.93      0.96      0.95      1071\n",
            "        Fake       0.96      0.93      0.94      1020\n",
            "\n",
            "    accuracy                           0.95      2091\n",
            "   macro avg       0.95      0.95      0.95      2091\n",
            "weighted avg       0.95      0.95      0.95      2091\n",
            "\n",
            "~~~~~~~~~~~~~~~~~~~~~~~~~~~~~~~~~~~~~~~~~~~~~~~~~~~~~~~~~~~~~~~~~~~~~~~~~~~~~~~\n"
          ],
          "name": "stdout"
        },
        {
          "output_type": "stream",
          "text": [
            "/usr/local/lib/python3.6/dist-packages/sklearn/model_selection/_split.py:1978: FutureWarning: The default value of cv will change from 3 to 5 in version 0.22. Specify it explicitly to silence this warning.\n",
            "  warnings.warn(CV_WARNING, FutureWarning)\n",
            "/usr/local/lib/python3.6/dist-packages/sklearn/linear_model/logistic.py:432: FutureWarning: Default solver will be changed to 'lbfgs' in 0.22. Specify a solver to silence this warning.\n",
            "  FutureWarning)\n"
          ],
          "name": "stderr"
        },
        {
          "output_type": "display_data",
          "data": {
            "image/png": "[encoded data removed]",
            "text/plain": [
              "<Figure size 576x396 with 2 Axes>"
            ]
          },
          "metadata": {
            "tags": []
          }
        }
      ]
    },
    {
      "cell_type": "markdown",
      "metadata": {
        "id": "HmNzPrNsZDXT",
        "colab_type": "text"
      },
      "source": [
        "#####  Random Forest"
      ]
    },
    {
      "cell_type": "code",
      "metadata": {
        "id": "iC7XFkSCZFFr",
        "colab_type": "code",
        "outputId": "8ded81cb-5495-444f-95c6-d376c45a12b4",
        "colab": {
          "base_uri": "https://localhost:8080/",
          "height": 406
        }
      },
      "source": [
        "# use a full grid over all parameters. \n",
        "param_grid = {\"max_depth\": [3, None],\n",
        "              \"max_features\": [1, 3, 10],\n",
        "              \"min_samples_split\": [2,3,10],\n",
        "              \"min_samples_leaf\": [1, 3, 10],\n",
        "              \"bootstrap\": [True, False],\n",
        "              \"criterion\": [\"gini\", \"entropy\"]}\n",
        "\n",
        "# create an exhaustive gridsearch object\n",
        "grid_search = GridSearchCV(clfRF, param_grid=param_grid, return_train_score=True)\n",
        "\n",
        "# start a timer so we know how long the exhaustive gridsearch took\n",
        "start = time()\n",
        "\n",
        "# perform the exhaustive gridsearch\n",
        "grid_search.fit(X_train, y_train)\n",
        "y_pred = grid_search.predict(X_test)\n",
        "print(\"GridSearchCV took %.2f seconds for %d candidate parameter settings.\"\n",
        "      % (time() - start, len(grid_search.cv_results_)))\n",
        "\n",
        "# print the top 3 model outputs from the exhaustive gridsearch\n",
        "report(grid_search.cv_results_)\n",
        "grid_search.best_params_, grid_search.best_score_"
      ],
      "execution_count": 0,
      "outputs": [
        {
          "output_type": "stream",
          "text": [
            "/usr/local/lib/python3.6/dist-packages/sklearn/model_selection/_split.py:1978: FutureWarning: The default value of cv will change from 3 to 5 in version 0.22. Specify it explicitly to silence this warning.\n",
            "  warnings.warn(CV_WARNING, FutureWarning)\n"
          ],
          "name": "stderr"
        },
        {
          "output_type": "stream",
          "text": [
            "GridSearchCV took 292.84 seconds for 22 candidate parameter settings.\n",
            "Model with rank: 1\n",
            "Mean validation score: 0.841 (std: 0.005)\n",
            "Parameters: {'bootstrap': False, 'criterion': 'entropy', 'max_depth': None, 'max_features': 10, 'min_samples_leaf': 1, 'min_samples_split': 10}\n",
            "\n",
            "Model with rank: 2\n",
            "Mean validation score: 0.838 (std: 0.011)\n",
            "Parameters: {'bootstrap': False, 'criterion': 'gini', 'max_depth': None, 'max_features': 3, 'min_samples_leaf': 1, 'min_samples_split': 10}\n",
            "\n",
            "Model with rank: 3\n",
            "Mean validation score: 0.838 (std: 0.010)\n",
            "Parameters: {'bootstrap': False, 'criterion': 'gini', 'max_depth': None, 'max_features': 10, 'min_samples_leaf': 1, 'min_samples_split': 10}\n",
            "\n"
          ],
          "name": "stdout"
        },
        {
          "output_type": "execute_result",
          "data": {
            "text/plain": [
              "({'bootstrap': False,\n",
              "  'criterion': 'entropy',\n",
              "  'max_depth': None,\n",
              "  'max_features': 10,\n",
              "  'min_samples_leaf': 1,\n",
              "  'min_samples_split': 10},\n",
              " 0.8411875589066918)"
            ]
          },
          "metadata": {
            "tags": []
          },
          "execution_count": 123
        }
      ]
    },
    {
      "cell_type": "code",
      "metadata": {
        "id": "wKgpQcGYNp_x",
        "colab_type": "code",
        "outputId": "57742313-e3be-413d-d60f-423481b0ec0f",
        "colab": {
          "base_uri": "https://localhost:8080/",
          "height": 1000
        }
      },
      "source": [
        "from sklearn.metrics import classification_report\n",
        "\n",
        "draw_ROC(grid_search)\n",
        "print('~~~~~~~~~~~~~~~~~~~~~~~~~~~~~~~~~~~~~~~~~~~~~~~~~~~~~~~~~~~~~~~~~~~~~~~~~~~~~~~')\n",
        "target_names = ['True', 'Fake']\n",
        "print(classification_report(y_test, y_pred, target_names=target_names))\n",
        "print('~~~~~~~~~~~~~~~~~~~~~~~~~~~~~~~~~~~~~~~~~~~~~~~~~~~~~~~~~~~~~~~~~~~~~~~~~~~~~~~')\n",
        "draw_tgraph(grid_search)"
      ],
      "execution_count": 0,
      "outputs": [
        {
          "output_type": "stream",
          "text": [
            "/usr/local/lib/python3.6/dist-packages/sklearn/model_selection/_split.py:1978: FutureWarning: The default value of cv will change from 3 to 5 in version 0.22. Specify it explicitly to silence this warning.\n",
            "  warnings.warn(CV_WARNING, FutureWarning)\n"
          ],
          "name": "stderr"
        },
        {
          "output_type": "display_data",
          "data": {
            "image/png": "[encoded data removed]",
            "text/plain": [
              "<Figure size 504x396 with 1 Axes>"
            ]
          },
          "metadata": {
            "tags": []
          }
        },
        {
          "output_type": "stream",
          "text": [
            "~~~~~~~~~~~~~~~~~~~~~~~~~~~~~~~~~~~~~~~~~~~~~~~~~~~~~~~~~~~~~~~~~~~~~~~~~~~~~~~\n",
            "              precision    recall  f1-score   support\n",
            "\n",
            "        True       0.86      0.85      0.85      1071\n",
            "        Fake       0.84      0.85      0.85      1020\n",
            "\n",
            "    accuracy                           0.85      2091\n",
            "   macro avg       0.85      0.85      0.85      2091\n",
            "weighted avg       0.85      0.85      0.85      2091\n",
            "\n",
            "~~~~~~~~~~~~~~~~~~~~~~~~~~~~~~~~~~~~~~~~~~~~~~~~~~~~~~~~~~~~~~~~~~~~~~~~~~~~~~~\n"
          ],
          "name": "stdout"
        },
        {
          "output_type": "stream",
          "text": [
            "/usr/local/lib/python3.6/dist-packages/sklearn/model_selection/_split.py:1978: FutureWarning: The default value of cv will change from 3 to 5 in version 0.22. Specify it explicitly to silence this warning.\n",
            "  warnings.warn(CV_WARNING, FutureWarning)\n"
          ],
          "name": "stderr"
        },
        {
          "output_type": "display_data",
          "data": {
            "image/png": "[encoded data removed]",
            "text/plain": [
              "<Figure size 576x396 with 2 Axes>"
            ]
          },
          "metadata": {
            "tags": []
          }
        }
      ]
    },
    {
      "cell_type": "markdown",
      "metadata": {
        "id": "KO-BdN89ZIDP",
        "colab_type": "text"
      },
      "source": [
        "##### XGBClassifier"
      ]
    },
    {
      "cell_type": "code",
      "metadata": {
        "id": "6fon6fDGZJLm",
        "colab_type": "code",
        "colab": {}
      },
      "source": [
        "# use a full grid over all parameters. \n",
        "param_grid = {\n",
        "        'n_estimators':range(80,200,4),\n",
        "        'max_depth':range(2,15,1),\n",
        "        'learning_rate':np.linspace(0.01,2,20),\n",
        "        'subsample':np.linspace(0.7,0.9,20),\n",
        "        'colsample_bytree':np.linspace(0.5,0.98,10),\n",
        "        'min_child_weight':range(1,9,1)\n",
        "        }\n",
        "\n",
        "# create an exhaustive gridsearch object\n",
        "grid_search = GridSearchCV(clfXGB, param_grid=param_grid, return_train_score=True)\n",
        "\n",
        "# start a timer so we know how long the exhaustive gridsearch took\n",
        "start = time()\n",
        "\n",
        "# perform the exhaustive gridsearch\n",
        "grid_search.fit(X_train, y_train)\n",
        "y_pred = grid_search.predict(X_test)\n",
        "print(\"GridSearchCV took %.2f seconds for %d candidate parameter settings.\"\n",
        "      % (time() - start, len(grid_search.cv_results_)))\n",
        "\n",
        "# print the top 3 model outputs from the exhaustive gridsearch\n",
        "report(grid_search.cv_results_)\n",
        "grid_search.best_params_, grid_search.best_score_"
      ],
      "execution_count": 0,
      "outputs": []
    },
    {
      "cell_type": "code",
      "metadata": {
        "id": "uFY8PD_TN5KQ",
        "colab_type": "code",
        "colab": {}
      },
      "source": [
        "from sklearn.metrics import classification_report\n",
        "\n",
        "draw_ROC(grid_search)\n",
        "print('~~~~~~~~~~~~~~~~~~~~~~~~~~~~~~~~~~~~~~~~~~~~~~~~~~~~~~~~~~~~~~~~~~~~~~~~~~~~~~~')\n",
        "target_names = ['True', 'Fake']\n",
        "print(classification_report(y_test, y_pred, target_names=target_names))\n",
        "print('~~~~~~~~~~~~~~~~~~~~~~~~~~~~~~~~~~~~~~~~~~~~~~~~~~~~~~~~~~~~~~~~~~~~~~~~~~~~~~~')\n",
        "draw_tgraph(grid_search)"
      ],
      "execution_count": 0,
      "outputs": []
    },
    {
      "cell_type": "markdown",
      "metadata": {
        "id": "Mo3iCTyE-N7e",
        "colab_type": "text"
      },
      "source": [
        "## 3.4 Keras"
      ]
    },
    {
      "cell_type": "markdown",
      "metadata": {
        "id": "zLQ-AHkZ-O6H",
        "colab_type": "text"
      },
      "source": [
        "### 3.4.1 Split the dataset"
      ]
    },
    {
      "cell_type": "code",
      "metadata": {
        "id": "mZ2YcK_6N_Pf",
        "colab_type": "code",
        "colab": {}
      },
      "source": [
        "X_train_new, X_test_new, y_train_new, y_test_new = train_test_split(X, label_binary[:], test_size=0.33, random_state=42)\n",
        "line,dim = tfidf_matrix.shape"
      ],
      "execution_count": 0,
      "outputs": []
    },
    {
      "cell_type": "markdown",
      "metadata": {
        "id": "mKAIUvBS-Ufq",
        "colab_type": "text"
      },
      "source": [
        "### 3.4.2 Build the Keras model"
      ]
    },
    {
      "cell_type": "code",
      "metadata": {
        "id": "hA4Z3PzI9OOj",
        "colab_type": "code",
        "outputId": "f149883c-e418-4899-853d-5e338216f610",
        "colab": {
          "base_uri": "https://localhost:8080/",
          "height": 34
        }
      },
      "source": [
        "import numpy\n",
        "from sklearn.model_selection import GridSearchCV\n",
        "from keras.models import Sequential\n",
        "from keras.layers import Dense\n",
        "from keras.wrappers.scikit_learn import KerasClassifier\n",
        "\n",
        "# Function to create model, required for KerasClassifier\n",
        "def create_model(optimizer='Nadam'):\n",
        "    # create model\n",
        "    model = Sequential()\n",
        "    model.add(Dense(12, input_dim=dim, activation='relu')) #Alleviates gradient dissipation and speeds up the convergence rate.\n",
        "    model.add(Dense(1, activation='sigmoid'))\n",
        "    # Compile model\n",
        "    model.compile(loss='binary_crossentropy', optimizer=optimizer, metrics=['accuracy'])\n",
        "    return model\n",
        "# fix random seed for reproducibility\n",
        "seed = 7\n",
        "numpy.random.seed(seed)\n",
        "\n",
        "X=tfidf_matrix[:,:]\n",
        "y=label[:]\n",
        "\n",
        "model = KerasClassifier(build_fn=create_model, nb_epoch=100, batch_size=10,verbose=0)\n",
        "\n",
        "# define the grid search parameters\n",
        "optimizer = ['SGD', 'RMSprop', 'Adagrad', 'Adadelta', 'Adam', 'Adamax', 'Nadam']\n",
        "param_grid = dict(optimizer=optimizer)"
      ],
      "execution_count": 0,
      "outputs": [
        {
          "output_type": "stream",
          "text": [
            "Using TensorFlow backend.\n"
          ],
          "name": "stderr"
        }
      ]
    },
    {
      "cell_type": "markdown",
      "metadata": {
        "id": "lzd7ARl--Znv",
        "colab_type": "text"
      },
      "source": [
        "### 3.4.3 Find the best optimiser"
      ]
    },
    {
      "cell_type": "code",
      "metadata": {
        "id": "huiOKWYPOJy5",
        "colab_type": "code",
        "outputId": "4086b120-7ac1-4fc4-d679-f1c5f46d2d29",
        "colab": {
          "base_uri": "https://localhost:8080/",
          "height": 507
        }
      },
      "source": [
        "grid = GridSearchCV(estimator=model, param_grid=param_grid, n_jobs=-1)\n",
        "grid_result = grid.fit(X_train_new,y_train_new,validation_data=(X_test_new, y_test_new))\n",
        "#grid_result = grid.fit(X_train_new, y_train_new,epochs=10,validation_data=(X_test_new, y_test_new),callbacks=[PlotLossesKeras()],verbose=0)\n",
        "\n",
        "# summarize results\n",
        "print('Best: {} using {}'.format(grid_result.best_score_, grid_result.best_params_))\n",
        "\n",
        "means = grid_result.cv_results_['mean_test_score']\n",
        "stds = grid_result.cv_results_['std_test_score']\n",
        "params = grid_result.cv_results_['params']\n",
        "\n",
        "for mean, std, param in zip(means, stds, params):\n",
        "    print(\"%f (%f) with: %r\" % (mean, std, param))"
      ],
      "execution_count": 0,
      "outputs": [
        {
          "output_type": "stream",
          "text": [
            "/usr/local/lib/python3.6/dist-packages/sklearn/model_selection/_split.py:1978: FutureWarning: The default value of cv will change from 3 to 5 in version 0.22. Specify it explicitly to silence this warning.\n",
            "  warnings.warn(CV_WARNING, FutureWarning)\n",
            "/usr/local/lib/python3.6/dist-packages/joblib/externals/loky/process_executor.py:706: UserWarning: A worker stopped while some jobs were given to the executor. This can be caused by a too short worker timeout or by a memory leak.\n",
            "  \"timeout or by a memory leak.\", UserWarning\n",
            "WARNING: Logging before flag parsing goes to stderr.\n",
            "W0819 09:15:53.254337 140229740808064 deprecation_wrapper.py:119] From /usr/local/lib/python3.6/dist-packages/keras/backend/tensorflow_backend.py:74: The name tf.get_default_graph is deprecated. Please use tf.compat.v1.get_default_graph instead.\n",
            "\n",
            "W0819 09:15:53.288544 140229740808064 deprecation_wrapper.py:119] From /usr/local/lib/python3.6/dist-packages/keras/backend/tensorflow_backend.py:517: The name tf.placeholder is deprecated. Please use tf.compat.v1.placeholder instead.\n",
            "\n",
            "W0819 09:15:53.298662 140229740808064 deprecation_wrapper.py:119] From /usr/local/lib/python3.6/dist-packages/keras/backend/tensorflow_backend.py:4138: The name tf.random_uniform is deprecated. Please use tf.random.uniform instead.\n",
            "\n",
            "W0819 09:15:53.342910 140229740808064 deprecation_wrapper.py:119] From /usr/local/lib/python3.6/dist-packages/keras/optimizers.py:790: The name tf.train.Optimizer is deprecated. Please use tf.compat.v1.train.Optimizer instead.\n",
            "\n",
            "W0819 09:15:53.379175 140229740808064 deprecation_wrapper.py:119] From /usr/local/lib/python3.6/dist-packages/keras/backend/tensorflow_backend.py:3376: The name tf.log is deprecated. Please use tf.math.log instead.\n",
            "\n",
            "W0819 09:15:53.390576 140229740808064 deprecation.py:323] From /usr/local/lib/python3.6/dist-packages/tensorflow/python/ops/nn_impl.py:180: add_dispatch_support.<locals>.wrapper (from tensorflow.python.ops.array_ops) is deprecated and will be removed in a future version.\n",
            "Instructions for updating:\n",
            "Use tf.where in 2.0, which has the same broadcast rule as np.where\n",
            "W0819 09:15:53.644777 140229740808064 deprecation_wrapper.py:119] From /usr/local/lib/python3.6/dist-packages/keras/backend/tensorflow_backend.py:986: The name tf.assign_add is deprecated. Please use tf.compat.v1.assign_add instead.\n",
            "\n"
          ],
          "name": "stderr"
        },
        {
          "output_type": "stream",
          "text": [
            "Best: 0.9276625754752326 using {'optimizer': 'Nadam'}\n",
            "0.510603 (0.009338) with: {'optimizer': 'SGD'}\n",
            "0.902922 (0.008680) with: {'optimizer': 'RMSprop'}\n",
            "0.919887 (0.007679) with: {'optimizer': 'Adagrad'}\n",
            "0.892790 (0.017327) with: {'optimizer': 'Adadelta'}\n",
            "0.923186 (0.009556) with: {'optimizer': 'Adam'}\n",
            "0.905042 (0.008194) with: {'optimizer': 'Adamax'}\n",
            "0.927663 (0.011560) with: {'optimizer': 'Nadam'}\n"
          ],
          "name": "stdout"
        }
      ]
    },
    {
      "cell_type": "markdown",
      "metadata": {
        "id": "Yp7VbhgL-fg8",
        "colab_type": "text"
      },
      "source": [
        "### 3.4.4 Using best one and report"
      ]
    },
    {
      "cell_type": "code",
      "metadata": {
        "id": "vJS4psIZpfvf",
        "colab_type": "code",
        "colab": {}
      },
      "source": [
        "history = model.fit(\n",
        "    X_train,y_train, \n",
        "    epochs=20, batch_size=512, \n",
        "    validation_data=(X_test_new,y_test_new))"
      ],
      "execution_count": 0,
      "outputs": []
    },
    {
      "cell_type": "code",
      "metadata": {
        "id": "CAVJWCvVtGD2",
        "colab_type": "code",
        "outputId": "6939c4c7-95c5-4f73-8a55-5a9d4c143eae",
        "colab": {
          "base_uri": "https://localhost:8080/",
          "height": 54
        }
      },
      "source": [
        "print(history.history)"
      ],
      "execution_count": 0,
      "outputs": [
        {
          "output_type": "stream",
          "text": [
            "{'val_loss': [0.6348068202471174, 0.5780728725027889, 0.5223747573646844, 0.4725192374786311, 0.4264548448556237, 0.38792015188108614, 0.3551195290942673, 0.3273496503809432, 0.3040202278688386, 0.2851089573915583, 0.2680804754688887, 0.2544224927979528, 0.2423249158432813, 0.23219959586787486, 0.2229900164774649, 0.21558868218728197, 0.2087528477839338, 0.202666980421526, 0.19747873577759176, 0.19275926064213517], 'val_acc': [0.8751793394300825, 0.9033955045432808, 0.9163079863812352, 0.9105691052349716, 0.9273075081411587, 0.9292204684472324, 0.9296987085237508, 0.9320899089063428, 0.9344811092889349, 0.9354375894419718, 0.9363940693669659, 0.9387852699776006, 0.9397417499025947, 0.9397417499025947, 0.9397417499025947, 0.9411764703601927, 0.9416547104367111, 0.9426111905897478, 0.9435676707427847, 0.9435676707427847], 'loss': [0.6677918253250553, 0.5958408954905295, 0.5202990252661548, 0.4480860801826211, 0.38298326303776875, 0.3263393098683317, 0.27826199348415553, 0.23787978839245078, 0.20414558682208012, 0.17607773332018317, 0.15274330743296208, 0.13309191300776857, 0.11667594903488411, 0.10279171967933359, 0.0910638880254973, 0.08102745636525185, 0.07240624969840949, 0.06506705931567786, 0.058711638925184516, 0.05319796205901178], 'acc': [0.7785108398424916, 0.9392082942869167, 0.9618284645561448, 0.9738454282227605, 0.9778510844449071, 0.9827992465561229, 0.9863336477832453, 0.9901036751596125, 0.9931668237511782, 0.9948162111215834, 0.9959943449575872, 0.9967012243603447, 0.9969368511275454, 0.9969368511275454, 0.998114986143283, 0.9988218652651515, 0.9988218661639963, 0.9992931196983977, 1.0, 1.0]}\n"
          ],
          "name": "stdout"
        }
      ]
    },
    {
      "cell_type": "markdown",
      "metadata": {
        "id": "K6CoywR8-pyy",
        "colab_type": "text"
      },
      "source": [
        "Loss and Accuracy"
      ]
    },
    {
      "cell_type": "code",
      "metadata": {
        "id": "ZVF-geaBtVwr",
        "colab_type": "code",
        "outputId": "4df07f77-fb53-4842-9d7f-bc592b3af69d",
        "colab": {
          "base_uri": "https://localhost:8080/",
          "height": 431
        }
      },
      "source": [
        "import matplotlib.pyplot as plt\n",
        "\n",
        "history_dict = history.history\n",
        "loss_values = history_dict['loss']   # Train dataset loss\n",
        "val_loss_values = history_dict['val_loss']  # Test dataset loss\n",
        "plt.subplot(211)\n",
        "epochs = range(1, len(loss_values) + 1)\n",
        "plt.plot(epochs, loss_values, 'b-.', label='Training Loss')\n",
        "plt.plot(epochs, val_loss_values, 'b', label='Validation Loss')\n",
        "plt.title('Training & Validation Loss',fontsize=20)\n",
        "plt.xlabel('Epochs',fontsize=16)\n",
        "plt.ylabel('Loss',fontsize=16)\n",
        "plt.legend()\n",
        "plt.show()\n",
        "\n",
        "plt.subplot(212)\n",
        "plt.plot(epochs, history_dict['acc'], 'c-.', label='Training Accuracy')\n",
        "plt.plot(epochs, history_dict['val_acc'], 'c', label='Validation Accuracy')\n",
        "plt.title('Training & Validation Accuracy',fontsize=20)\n",
        "plt.xlabel('Epochs',fontsize=16)\n",
        "plt.ylabel('Accuracy',fontsize=16)\n",
        "plt.legend()\n",
        "plt.show()"
      ],
      "execution_count": 0,
      "outputs": [
        {
          "output_type": "display_data",
          "data": {
            "image/png": "[encoded data removed]",
            "text/plain": [
              "<Figure size 576x396 with 1 Axes>"
            ]
          },
          "metadata": {
            "tags": []
          }
        },
        {
          "output_type": "display_data",
          "data": {
            "image/png": "[encoded data removed]",
            "text/plain": [
              "<Figure size 576x396 with 1 Axes>"
            ]
          },
          "metadata": {
            "tags": []
          }
        }
      ]
    },
    {
      "cell_type": "markdown",
      "metadata": {
        "id": "6LBLtcQh-tts",
        "colab_type": "text"
      },
      "source": [
        "Real-time Showing"
      ]
    },
    {
      "cell_type": "code",
      "metadata": {
        "id": "k5bKW9lrOLCB",
        "colab_type": "code",
        "outputId": "b31560ac-5073-40b6-94fa-d47231442af4",
        "colab": {
          "base_uri": "https://localhost:8080/"
        }
      },
      "source": [
        "from livelossplot import PlotLossesKeras\n",
        "\n",
        "model.fit(X_train_new, y_train_new,\n",
        "          epochs=10,\n",
        "          validation_data=(X_test_new, y_test_new),\n",
        "          callbacks=[PlotLossesKeras()],\n",
        "          verbose=0)"
      ],
      "execution_count": 0,
      "outputs": [
        {
          "output_type": "display_data",
          "data": {
            "image/png": "[encoded data removed]",
            "text/plain": [
              "<Figure size 864x576 with 2 Axes>"
            ]
          },
          "metadata": {
            "tags": []
          }
        },
        {
          "output_type": "stream",
          "text": [
            "Log-loss (cost function):\n",
            "training   (min:    0.001, max:    0.386, cur:    0.001)\n",
            "validation (min:    0.122, max:    0.192, cur:    0.133)\n",
            "\n",
            "Accuracy:\n",
            "training   (min:    0.898, max:    1.000, cur:    1.000)\n",
            "validation (min:    0.940, max:    0.954, cur:    0.953)\n"
          ],
          "name": "stdout"
        },
        {
          "output_type": "execute_result",
          "data": {
            "text/plain": [
              "<keras.callbacks.History at 0x7f89c5b73940>"
            ]
          },
          "metadata": {
            "tags": []
          },
          "execution_count": 139
        }
      ]
    },
    {
      "cell_type": "markdown",
      "metadata": {
        "colab_type": "text",
        "id": "uitKrNduJHLe"
      },
      "source": [
        "## 3.5 BERT"
      ]
    },
    {
      "cell_type": "markdown",
      "metadata": {
        "id": "brW5OSwydAiz",
        "colab_type": "text"
      },
      "source": [
        "### 3.5.1 Load dataset"
      ]
    },
    {
      "cell_type": "code",
      "metadata": {
        "id": "NvQWOp1Yzhuh",
        "colab_type": "code",
        "outputId": "c21f68b3-60d5-432d-f9d6-16e2aa0832a4",
        "colab": {
          "base_uri": "https://localhost:8080/",
          "height": 121
        }
      },
      "source": [
        "import pandas as pd\n",
        "from google.colab import drive\n",
        "\n",
        "drive.mount('/content/drive')\n",
        "datasetPath = \"/content/drive/My Drive/Colab Notebooks/data/fake_or_real_news.csv\"\n",
        "\n",
        "df = pd.read_csv(datasetPath)"
      ],
      "execution_count": 0,
      "outputs": [
        {
          "output_type": "stream",
          "text": [
            "Go to this URL in a browser: https://accounts.google.com/o/oauth2/auth?client_id=947318989803-6bn6qk8qdgf4n4g3pfee6491hc0brc4i.apps.googleusercontent.com&redirect_uri=urn%3Aietf%3Awg%3Aoauth%3A2.0%3Aoob&scope=email%20https%3A%2F%2Fwww.googleapis.com%2Fauth%2Fdocs.test%20https%3A%2F%2Fwww.googleapis.com%2Fauth%2Fdrive%20https%3A%2F%2Fwww.googleapis.com%2Fauth%2Fdrive.photos.readonly%20https%3A%2F%2Fwww.googleapis.com%2Fauth%2Fpeopleapi.readonly&response_type=code\n",
            "\n",
            "Enter your authorization code:\n",
            "··········\n",
            "Mounted at /content/drive\n"
          ],
          "name": "stdout"
        }
      ]
    },
    {
      "cell_type": "markdown",
      "metadata": {
        "id": "OvIk-vgWdFpA",
        "colab_type": "text"
      },
      "source": [
        "### 3.5.2 Change label to 1/0"
      ]
    },
    {
      "cell_type": "code",
      "metadata": {
        "id": "FsQu9jrl-5xm",
        "colab_type": "code",
        "outputId": "b428f72c-dd3b-4d44-9174-f199030f7b57",
        "colab": {
          "base_uri": "https://localhost:8080/",
          "height": 101
        }
      },
      "source": [
        "df['label'].loc[df['label'] == 'REAL'] = '1'\n",
        "df['label'].loc[df['label'] == 'FAKE'] = '0'"
      ],
      "execution_count": 0,
      "outputs": [
        {
          "output_type": "stream",
          "text": [
            "/usr/local/lib/python3.6/dist-packages/pandas/core/indexing.py:190: SettingWithCopyWarning: \n",
            "A value is trying to be set on a copy of a slice from a DataFrame\n",
            "\n",
            "See the caveats in the documentation: http://pandas.pydata.org/pandas-docs/stable/indexing.html#indexing-view-versus-copy\n",
            "  self._setitem_with_indexer(indexer, value)\n"
          ],
          "name": "stderr"
        }
      ]
    },
    {
      "cell_type": "markdown",
      "metadata": {
        "id": "dJOY7LWKdMHT",
        "colab_type": "text"
      },
      "source": [
        "### 3.5.3 Generate the train and test dataset"
      ]
    },
    {
      "cell_type": "code",
      "metadata": {
        "id": "ARuEnbKtG_zu",
        "colab_type": "code",
        "colab": {}
      },
      "source": [
        "import pandas as pd\n",
        "import numpy as np\n",
        "from sklearn.model_selection import train_test_split\n",
        "\n",
        "X_train, X_test, y_train, y_test = train_test_split(df.text, df.label, test_size=0.33, random_state=42)\n",
        "\n",
        "train = pd.concat([X_train,y_train],axis=1)\n",
        "test = pd.concat([X_test,y_test],axis=1)"
      ],
      "execution_count": 0,
      "outputs": []
    },
    {
      "cell_type": "code",
      "metadata": {
        "id": "qWpA_iwmCWhq",
        "colab_type": "code",
        "outputId": "45008758-75cc-4851-938f-66979c1a3086",
        "colab": {
          "base_uri": "https://localhost:8080/",
          "height": 154
        }
      },
      "source": [
        "from bert_text import run_on_dfs"
      ],
      "execution_count": 0,
      "outputs": [
        {
          "output_type": "stream",
          "text": [
            "WARNING: Logging before flag parsing goes to stderr.\n",
            "W0820 09:17:27.829614 139710227371904 deprecation_wrapper.py:119] From /usr/local/lib/python3.6/dist-packages/bert/optimization.py:87: The name tf.train.Optimizer is deprecated. Please use tf.compat.v1.train.Optimizer instead.\n",
            "\n",
            "W0820 09:17:27.832411 139710227371904 deprecation_wrapper.py:119] From /usr/local/lib/python3.6/dist-packages/bert_text/bert_text.py:10: The name tf.logging.set_verbosity is deprecated. Please use tf.compat.v1.logging.set_verbosity instead.\n",
            "\n",
            "W0820 09:17:27.833328 139710227371904 deprecation_wrapper.py:119] From /usr/local/lib/python3.6/dist-packages/bert_text/bert_text.py:10: The name tf.logging.ERROR is deprecated. Please use tf.compat.v1.logging.ERROR instead.\n",
            "\n"
          ],
          "name": "stderr"
        }
      ]
    },
    {
      "cell_type": "markdown",
      "metadata": {
        "id": "p6hu6H2AdVat",
        "colab_type": "text"
      },
      "source": [
        "### 3.5.4 Set the parameter"
      ]
    },
    {
      "cell_type": "code",
      "metadata": {
        "id": "N9xeJW4eCZtw",
        "colab_type": "code",
        "colab": {}
      },
      "source": [
        "myparam = {\n",
        "    \"DATA_COLUMN\": \"text\",\n",
        "    \"LABEL_COLUMN\": \"label\",\n",
        "    \"LEARNING_RATE\": 2e-5,\n",
        "    \"NUM_TRAIN_EPOCHS\": 5\n",
        "}"
      ],
      "execution_count": 0,
      "outputs": []
    },
    {
      "cell_type": "code",
      "metadata": {
        "id": "Gcv_m6WaCaRX",
        "colab_type": "code",
        "colab": {}
      },
      "source": [
        "import tensorflow as tf\n",
        "tf.logging.set_verbosity(tf.logging.INFO)"
      ],
      "execution_count": 0,
      "outputs": []
    },
    {
      "cell_type": "markdown",
      "metadata": {
        "id": "hfG_dBGFdbx2",
        "colab_type": "text"
      },
      "source": [
        "### 3.5.5 Run the BERT"
      ]
    },
    {
      "cell_type": "code",
      "metadata": {
        "id": "LBkppBGwCcOq",
        "colab_type": "code",
        "outputId": "1d7c4047-9033-4c73-9531-14ed79c33e6a",
        "colab": {
          "base_uri": "https://localhost:8080/",
          "height": 1000
        }
      },
      "source": [
        "result, estimator = run_on_dfs(train,test, **myparam)"
      ],
      "execution_count": 0,
      "outputs": [
        {
          "output_type": "stream",
          "text": [
            "I0820 09:39:17.293086 139710227371904 saver.py:1499] Saver not created because there are no variables in the graph to restore\n",
            "I0820 09:39:17.910086 139710227371904 run_classifier.py:774] Writing example 0 of 4244\n",
            "I0820 09:39:17.919245 139710227371904 run_classifier.py:461] *** Example ***\n",
            "I0820 09:39:17.923353 139710227371904 run_classifier.py:462] guid: None\n",
            "I0820 09:39:17.925320 139710227371904 run_classifier.py:464] tokens: [CLS] the next president is most likely to face an international crisis shortly after taking office — and both donald trump and hillary clinton \" have a credibility problem in foreign affairs , \" former defense secretary robert gates said friday . \" clinton was the senior - most advocate for using the u . s . military to bring ill - fated regime change in libya and , further , failed to anti ##ci ##pate the chaos that would follow , \" gates , who has served eight presidents over 50 years , wrote in an op - ed in the wall street journal . \" the same failure she and other democrats hung around the neck of the bush 43 administration in post - saddam [SEP]\n",
            "I0820 09:39:17.927108 139710227371904 run_classifier.py:465] input_ids: 101 1996 2279 2343 2003 2087 3497 2000 2227 2019 2248 5325 3859 2044 2635 2436 1517 1998 2119 6221 8398 1998 18520 7207 1000 2031 1037 21553 3291 1999 3097 3821 1010 1000 2280 3639 3187 2728 6733 2056 5958 1012 1000 7207 2001 1996 3026 1011 2087 8175 2005 2478 1996 1057 1012 1055 1012 2510 2000 3288 5665 1011 27442 6939 2689 1999 12917 1998 1010 2582 1010 3478 2000 3424 6895 17585 1996 8488 2008 2052 3582 1010 1000 6733 1010 2040 2038 2366 2809 11274 2058 2753 2086 1010 2626 1999 2019 6728 1011 3968 1999 1996 2813 2395 3485 1012 1000 1996 2168 4945 2016 1998 2060 8037 5112 2105 1996 3300 1997 1996 5747 4724 3447 1999 2695 1011 24111 102\n",
            "I0820 09:39:17.928444 139710227371904 run_classifier.py:466] input_mask: 1 1 1 1 1 1 1 1 1 1 1 1 1 1 1 1 1 1 1 1 1 1 1 1 1 1 1 1 1 1 1 1 1 1 1 1 1 1 1 1 1 1 1 1 1 1 1 1 1 1 1 1 1 1 1 1 1 1 1 1 1 1 1 1 1 1 1 1 1 1 1 1 1 1 1 1 1 1 1 1 1 1 1 1 1 1 1 1 1 1 1 1 1 1 1 1 1 1 1 1 1 1 1 1 1 1 1 1 1 1 1 1 1 1 1 1 1 1 1 1 1 1 1 1 1 1 1 1\n",
            "I0820 09:39:17.929546 139710227371904 run_classifier.py:467] segment_ids: 0 0 0 0 0 0 0 0 0 0 0 0 0 0 0 0 0 0 0 0 0 0 0 0 0 0 0 0 0 0 0 0 0 0 0 0 0 0 0 0 0 0 0 0 0 0 0 0 0 0 0 0 0 0 0 0 0 0 0 0 0 0 0 0 0 0 0 0 0 0 0 0 0 0 0 0 0 0 0 0 0 0 0 0 0 0 0 0 0 0 0 0 0 0 0 0 0 0 0 0 0 0 0 0 0 0 0 0 0 0 0 0 0 0 0 0 0 0 0 0 0 0 0 0 0 0 0 0\n",
            "I0820 09:39:17.930670 139710227371904 run_classifier.py:468] label: 1 (id = 0)\n",
            "I0820 09:39:17.945187 139710227371904 run_classifier.py:461] *** Example ***\n",
            "I0820 09:39:17.945887 139710227371904 run_classifier.py:462] guid: None\n",
            "I0820 09:39:17.946869 139710227371904 run_classifier.py:464] tokens: [CLS] following news of fbi director james come ##y ’ s decision to re ##open the investigation into hillary clinton ’ s use of a private email server during her tenure at the state department , federal law enforcement officials have come forward with new details on recently discovered evidence in the case . more on this : developing : fbi re ##open ##s investigation into clinton emails after new ‘ per ##tine ##nt ’ evidence discovered while director come ##y declined to provide specific details on what the newly discovered clinton emails contained , federal law enforcement ##s officials speaking under an ##ony ##mity have explained that the emails were found on the personal devices of clinton aide hum ##a abe ##din and disgrace ##d former [SEP]\n",
            "I0820 09:39:17.947663 139710227371904 run_classifier.py:465] input_ids: 101 2206 2739 1997 8495 2472 2508 2272 2100 1521 1055 3247 2000 2128 26915 1996 4812 2046 18520 7207 1521 1055 2224 1997 1037 2797 10373 8241 2076 2014 7470 2012 1996 2110 2533 1010 2976 2375 7285 4584 2031 2272 2830 2007 2047 4751 2006 3728 3603 3350 1999 1996 2553 1012 2062 2006 2023 1024 4975 1024 8495 2128 26915 2015 4812 2046 7207 22028 2044 2047 1520 2566 10196 3372 1521 3350 3603 2096 2472 2272 2100 6430 2000 3073 3563 4751 2006 2054 1996 4397 3603 7207 22028 4838 1010 2976 2375 7285 2015 4584 4092 2104 2019 16585 16383 2031 4541 2008 1996 22028 2020 2179 2006 1996 3167 5733 1997 7207 14895 14910 2050 14863 8718 1998 29591 2094 2280 102\n",
            "I0820 09:39:17.948455 139710227371904 run_classifier.py:466] input_mask: 1 1 1 1 1 1 1 1 1 1 1 1 1 1 1 1 1 1 1 1 1 1 1 1 1 1 1 1 1 1 1 1 1 1 1 1 1 1 1 1 1 1 1 1 1 1 1 1 1 1 1 1 1 1 1 1 1 1 1 1 1 1 1 1 1 1 1 1 1 1 1 1 1 1 1 1 1 1 1 1 1 1 1 1 1 1 1 1 1 1 1 1 1 1 1 1 1 1 1 1 1 1 1 1 1 1 1 1 1 1 1 1 1 1 1 1 1 1 1 1 1 1 1 1 1 1 1 1\n",
            "I0820 09:39:17.949329 139710227371904 run_classifier.py:467] segment_ids: 0 0 0 0 0 0 0 0 0 0 0 0 0 0 0 0 0 0 0 0 0 0 0 0 0 0 0 0 0 0 0 0 0 0 0 0 0 0 0 0 0 0 0 0 0 0 0 0 0 0 0 0 0 0 0 0 0 0 0 0 0 0 0 0 0 0 0 0 0 0 0 0 0 0 0 0 0 0 0 0 0 0 0 0 0 0 0 0 0 0 0 0 0 0 0 0 0 0 0 0 0 0 0 0 0 0 0 0 0 0 0 0 0 0 0 0 0 0 0 0 0 0 0 0 0 0 0 0\n",
            "I0820 09:39:17.950329 139710227371904 run_classifier.py:468] label: 0 (id = 1)\n",
            "I0820 09:39:17.964405 139710227371904 run_classifier.py:461] *** Example ***\n",
            "I0820 09:39:17.965376 139710227371904 run_classifier.py:462] guid: None\n",
            "I0820 09:39:17.966312 139710227371904 run_classifier.py:464] tokens: [CLS] interviews a protest ##er throws a glass bottle containing paint at a police armored personnel carrier during anti - regime demos in the village of sit ##ra , south of mana ##ma , february 14 , 2016 . ( photo by reuters ) the fourth high criminal court of bahrain has sentenced 15 political opponents to long jail terms and also revoked the citizenship of all of them . while several international rights groups have criticized the al khalifa regime ’ s harsh crack ##down on the bahrain ##i opposition , the western powers turn a blind eye to the arab state ’ s violations of human rights . edward co ##rrigan , an international human rights lawyer , told press tv ’ s top 5 [SEP]\n",
            "I0820 09:39:17.967290 139710227371904 run_classifier.py:465] input_ids: 101 7636 1037 6186 2121 11618 1037 3221 5835 4820 6773 2012 1037 2610 10612 5073 6839 2076 3424 1011 6939 18267 1999 1996 2352 1997 4133 2527 1010 2148 1997 24951 2863 1010 2337 2403 1010 2355 1012 1006 6302 2011 26665 1007 1996 2959 2152 4735 2457 1997 15195 2038 7331 2321 2576 7892 2000 2146 7173 3408 1998 2036 22837 1996 9068 1997 2035 1997 2068 1012 2096 2195 2248 2916 2967 2031 6367 1996 2632 27925 6939 1521 1055 8401 8579 7698 2006 1996 15195 2072 4559 1010 1996 2530 4204 2735 1037 6397 3239 2000 1996 5424 2110 1521 1055 13302 1997 2529 2916 1012 3487 2522 28706 1010 2019 2248 2529 2916 5160 1010 2409 2811 2694 1521 1055 2327 1019 102\n",
            "I0820 09:39:17.968408 139710227371904 run_classifier.py:466] input_mask: 1 1 1 1 1 1 1 1 1 1 1 1 1 1 1 1 1 1 1 1 1 1 1 1 1 1 1 1 1 1 1 1 1 1 1 1 1 1 1 1 1 1 1 1 1 1 1 1 1 1 1 1 1 1 1 1 1 1 1 1 1 1 1 1 1 1 1 1 1 1 1 1 1 1 1 1 1 1 1 1 1 1 1 1 1 1 1 1 1 1 1 1 1 1 1 1 1 1 1 1 1 1 1 1 1 1 1 1 1 1 1 1 1 1 1 1 1 1 1 1 1 1 1 1 1 1 1 1\n",
            "I0820 09:39:17.969515 139710227371904 run_classifier.py:467] segment_ids: 0 0 0 0 0 0 0 0 0 0 0 0 0 0 0 0 0 0 0 0 0 0 0 0 0 0 0 0 0 0 0 0 0 0 0 0 0 0 0 0 0 0 0 0 0 0 0 0 0 0 0 0 0 0 0 0 0 0 0 0 0 0 0 0 0 0 0 0 0 0 0 0 0 0 0 0 0 0 0 0 0 0 0 0 0 0 0 0 0 0 0 0 0 0 0 0 0 0 0 0 0 0 0 0 0 0 0 0 0 0 0 0 0 0 0 0 0 0 0 0 0 0 0 0 0 0 0 0\n",
            "I0820 09:39:17.973689 139710227371904 run_classifier.py:468] label: 0 (id = 1)\n",
            "I0820 09:39:18.004697 139710227371904 run_classifier.py:461] *** Example ***\n",
            "I0820 09:39:18.005597 139710227371904 run_classifier.py:462] guid: None\n",
            "I0820 09:39:18.006512 139710227371904 run_classifier.py:464] tokens: [CLS] will it be representative government or thug ##oc ##rac ##y ? exclusive : erik rush en ##vision ##s clinton using high court ' as a blu ##dge ##on ' against liberty published : 43 min ##s ago about | | archive erik rush is a columnist and author of socio ##pol ##itical fare . his latest book is \" negro ##phi ##lia : from slave block to pedestal - america ' s racial obsession . \" in 2007 , he was the first to give national attention to the story of sen . barack obama ' s ties to militant chicago preacher rev . jeremiah wright , initiating a media feeding frenzy . erik has appeared on fox news ' \" han ##nity and col ##mes [SEP]\n",
            "I0820 09:39:18.007514 139710227371904 run_classifier.py:465] input_ids: 101 2097 2009 2022 4387 2231 2030 26599 10085 22648 2100 1029 7262 1024 10240 5481 4372 17084 2015 7207 2478 2152 2457 1005 2004 1037 14154 11818 2239 1005 2114 7044 2405 1024 4724 8117 2015 3283 2055 1064 1064 8756 10240 5481 2003 1037 13317 1998 3166 1997 17522 18155 26116 13258 1012 2010 6745 2338 2003 1000 12593 21850 6632 1024 2013 6658 3796 2000 24496 1011 2637 1005 1055 5762 17418 1012 1000 1999 2289 1010 2002 2001 1996 2034 2000 2507 2120 3086 2000 1996 2466 1997 12411 1012 13857 8112 1005 1055 7208 2000 16830 3190 14512 7065 1012 17526 6119 1010 26616 1037 2865 8521 21517 1012 10240 2038 2596 2006 4419 2739 1005 1000 7658 22758 1998 8902 7834 102\n",
            "I0820 09:39:18.008611 139710227371904 run_classifier.py:466] input_mask: 1 1 1 1 1 1 1 1 1 1 1 1 1 1 1 1 1 1 1 1 1 1 1 1 1 1 1 1 1 1 1 1 1 1 1 1 1 1 1 1 1 1 1 1 1 1 1 1 1 1 1 1 1 1 1 1 1 1 1 1 1 1 1 1 1 1 1 1 1 1 1 1 1 1 1 1 1 1 1 1 1 1 1 1 1 1 1 1 1 1 1 1 1 1 1 1 1 1 1 1 1 1 1 1 1 1 1 1 1 1 1 1 1 1 1 1 1 1 1 1 1 1 1 1 1 1 1 1\n",
            "I0820 09:39:18.009848 139710227371904 run_classifier.py:467] segment_ids: 0 0 0 0 0 0 0 0 0 0 0 0 0 0 0 0 0 0 0 0 0 0 0 0 0 0 0 0 0 0 0 0 0 0 0 0 0 0 0 0 0 0 0 0 0 0 0 0 0 0 0 0 0 0 0 0 0 0 0 0 0 0 0 0 0 0 0 0 0 0 0 0 0 0 0 0 0 0 0 0 0 0 0 0 0 0 0 0 0 0 0 0 0 0 0 0 0 0 0 0 0 0 0 0 0 0 0 0 0 0 0 0 0 0 0 0 0 0 0 0 0 0 0 0 0 0 0 0\n",
            "I0820 09:39:18.013930 139710227371904 run_classifier.py:468] label: 0 (id = 1)\n",
            "I0820 09:39:18.039288 139710227371904 run_classifier.py:461] *** Example ***\n",
            "I0820 09:39:18.039983 139710227371904 run_classifier.py:462] guid: None\n",
            "I0820 09:39:18.040812 139710227371904 run_classifier.py:464] tokens: [CLS] it is increasingly apparent that the u . s . war against islamic ex ##tre ##mism has been put on hold by president obama and his national security team . president obama failed to even mention al qaeda during his state of the union address . in early january , the recent terrorist attacks in paris against the charlie he ##b ##do magazine and a ko ##sher supermarket gave us a glimpse of what the future of terrorism looks like , and what the civilized world will have to defend against . at the same time , the un ##folding chaos in yemen and loss of a u . s . partner in the fight against al qaeda in the arabian peninsula ( a ##qa ##p [SEP]\n",
            "I0820 09:39:18.041609 139710227371904 run_classifier.py:465] input_ids: 101 2009 2003 6233 6835 2008 1996 1057 1012 1055 1012 2162 2114 5499 4654 7913 26725 2038 2042 2404 2006 2907 2011 2343 8112 1998 2010 2120 3036 2136 1012 2343 8112 3478 2000 2130 5254 2632 18659 2076 2010 2110 1997 1996 2586 4769 1012 1999 2220 2254 1010 1996 3522 9452 4491 1999 3000 2114 1996 4918 2002 2497 3527 2932 1998 1037 12849 19603 17006 2435 2149 1037 12185 1997 2054 1996 2925 1997 10130 3504 2066 1010 1998 2054 1996 25825 2088 2097 2031 2000 6985 2114 1012 2012 1996 2168 2051 1010 1996 4895 21508 8488 1999 13968 1998 3279 1997 1037 1057 1012 1055 1012 4256 1999 1996 2954 2114 2632 18659 1999 1996 13771 6000 1006 1037 19062 2361 102\n",
            "I0820 09:39:18.042574 139710227371904 run_classifier.py:466] input_mask: 1 1 1 1 1 1 1 1 1 1 1 1 1 1 1 1 1 1 1 1 1 1 1 1 1 1 1 1 1 1 1 1 1 1 1 1 1 1 1 1 1 1 1 1 1 1 1 1 1 1 1 1 1 1 1 1 1 1 1 1 1 1 1 1 1 1 1 1 1 1 1 1 1 1 1 1 1 1 1 1 1 1 1 1 1 1 1 1 1 1 1 1 1 1 1 1 1 1 1 1 1 1 1 1 1 1 1 1 1 1 1 1 1 1 1 1 1 1 1 1 1 1 1 1 1 1 1 1\n",
            "I0820 09:39:18.043546 139710227371904 run_classifier.py:467] segment_ids: 0 0 0 0 0 0 0 0 0 0 0 0 0 0 0 0 0 0 0 0 0 0 0 0 0 0 0 0 0 0 0 0 0 0 0 0 0 0 0 0 0 0 0 0 0 0 0 0 0 0 0 0 0 0 0 0 0 0 0 0 0 0 0 0 0 0 0 0 0 0 0 0 0 0 0 0 0 0 0 0 0 0 0 0 0 0 0 0 0 0 0 0 0 0 0 0 0 0 0 0 0 0 0 0 0 0 0 0 0 0 0 0 0 0 0 0 0 0 0 0 0 0 0 0 0 0 0 0\n",
            "I0820 09:39:18.045112 139710227371904 run_classifier.py:468] label: 1 (id = 0)\n",
            "I0820 09:40:26.298049 139710227371904 run_classifier.py:774] Writing example 0 of 2091\n",
            "I0820 09:40:26.328049 139710227371904 run_classifier.py:461] *** Example ***\n",
            "I0820 09:40:26.328935 139710227371904 run_classifier.py:462] guid: None\n",
            "I0820 09:40:26.330062 139710227371904 run_classifier.py:464] tokens: [CLS] will trump pull a br ##ex ##it times ten ? what would it take , beyond wi ##ki ##lea ##ks , to bring the clinton ( cash ) machine down ? will hillary win and then declare wwii ##i against her russia / iran / syria “ axis of evil ” ? will the middle east totally explode ? will the pi ##vot to asia totally imp ##lo ##de ? will china be ruling the world by 202 ##5 ? amidst so many fr ##ene ##tic fragments of geo ##pol ##itical reality pre ##car ##iously shore ##d against our ruins , the temptation is irresistible to ha ##rk back to the late , great , deco ##nst ##ru ##ction ##ist master jean ba ##ud ##rill ##ard [SEP]\n",
            "I0820 09:40:26.331617 139710227371904 run_classifier.py:465] input_ids: 101 2097 8398 4139 1037 7987 10288 4183 2335 2702 1029 2054 2052 2009 2202 1010 3458 15536 3211 19738 5705 1010 2000 3288 1996 7207 1006 5356 1007 3698 2091 1029 2097 18520 2663 1998 2059 13520 25755 2072 2114 2014 3607 1013 4238 1013 7795 1523 8123 1997 4763 1524 1029 2097 1996 2690 2264 6135 15044 1029 2097 1996 14255 22994 2000 4021 6135 17727 4135 3207 1029 2097 2859 2022 6996 1996 2088 2011 16798 2629 1029 17171 2061 2116 10424 8625 4588 10341 1997 20248 18155 26116 4507 3653 10010 19426 5370 2094 2114 2256 8435 1010 1996 17232 2003 27149 2000 5292 8024 2067 2000 1996 2397 1010 2307 1010 21933 23808 6820 7542 2923 3040 3744 8670 6784 24714 4232 102\n",
            "I0820 09:40:26.332921 139710227371904 run_classifier.py:466] input_mask: 1 1 1 1 1 1 1 1 1 1 1 1 1 1 1 1 1 1 1 1 1 1 1 1 1 1 1 1 1 1 1 1 1 1 1 1 1 1 1 1 1 1 1 1 1 1 1 1 1 1 1 1 1 1 1 1 1 1 1 1 1 1 1 1 1 1 1 1 1 1 1 1 1 1 1 1 1 1 1 1 1 1 1 1 1 1 1 1 1 1 1 1 1 1 1 1 1 1 1 1 1 1 1 1 1 1 1 1 1 1 1 1 1 1 1 1 1 1 1 1 1 1 1 1 1 1 1 1\n",
            "I0820 09:40:26.334274 139710227371904 run_classifier.py:467] segment_ids: 0 0 0 0 0 0 0 0 0 0 0 0 0 0 0 0 0 0 0 0 0 0 0 0 0 0 0 0 0 0 0 0 0 0 0 0 0 0 0 0 0 0 0 0 0 0 0 0 0 0 0 0 0 0 0 0 0 0 0 0 0 0 0 0 0 0 0 0 0 0 0 0 0 0 0 0 0 0 0 0 0 0 0 0 0 0 0 0 0 0 0 0 0 0 0 0 0 0 0 0 0 0 0 0 0 0 0 0 0 0 0 0 0 0 0 0 0 0 0 0 0 0 0 0 0 0 0 0\n",
            "I0820 09:40:26.335621 139710227371904 run_classifier.py:468] label: 0 (id = 1)\n",
            "I0820 09:40:26.352936 139710227371904 run_classifier.py:461] *** Example ***\n",
            "I0820 09:40:26.353789 139710227371904 run_classifier.py:462] guid: None\n",
            "I0820 09:40:26.354778 139710227371904 run_classifier.py:464] tokens: [CLS] clinton ##s are under multiple fbi investigations as agents are st ##ym ##ied source : wall street on parade disgrace ##d former congressman anthony wei ##ner and his wife , longtime hillary clinton aide , hum ##a abe ##din current and former fbi officials have launched a media counter - offensive to engage head to head with the clinton media machine and to throw off the shack ##les the loretta lynch justice department has used to st ##ym ##ie their multiple investigations into the clinton pay - to - play network . over the past weekend , former fbi assistant director and current cnn senior law enforcement analyst tom fu ##entes told viewers that “ the fbi has an intensive investigation ongoing into the clinton foundation [SEP]\n",
            "I0820 09:40:26.355618 139710227371904 run_classifier.py:465] input_ids: 101 7207 2015 2024 2104 3674 8495 9751 2004 6074 2024 2358 24335 6340 3120 1024 2813 2395 2006 7700 29591 2094 2280 12295 4938 11417 3678 1998 2010 2564 1010 11155 18520 7207 14895 1010 14910 2050 14863 8718 2783 1998 2280 8495 4584 2031 3390 1037 2865 4675 1011 5805 2000 8526 2132 2000 2132 2007 1996 7207 2865 3698 1998 2000 5466 2125 1996 22200 4244 1996 28493 11404 3425 2533 2038 2109 2000 2358 24335 2666 2037 3674 9751 2046 1996 7207 3477 1011 2000 1011 2377 2897 1012 2058 1996 2627 5353 1010 2280 8495 3353 2472 1998 2783 13229 3026 2375 7285 12941 3419 11865 26933 2409 7193 2008 1523 1996 8495 2038 2019 11806 4812 7552 2046 1996 7207 3192 102\n",
            "I0820 09:40:26.356755 139710227371904 run_classifier.py:466] input_mask: 1 1 1 1 1 1 1 1 1 1 1 1 1 1 1 1 1 1 1 1 1 1 1 1 1 1 1 1 1 1 1 1 1 1 1 1 1 1 1 1 1 1 1 1 1 1 1 1 1 1 1 1 1 1 1 1 1 1 1 1 1 1 1 1 1 1 1 1 1 1 1 1 1 1 1 1 1 1 1 1 1 1 1 1 1 1 1 1 1 1 1 1 1 1 1 1 1 1 1 1 1 1 1 1 1 1 1 1 1 1 1 1 1 1 1 1 1 1 1 1 1 1 1 1 1 1 1 1\n",
            "I0820 09:40:26.357837 139710227371904 run_classifier.py:467] segment_ids: 0 0 0 0 0 0 0 0 0 0 0 0 0 0 0 0 0 0 0 0 0 0 0 0 0 0 0 0 0 0 0 0 0 0 0 0 0 0 0 0 0 0 0 0 0 0 0 0 0 0 0 0 0 0 0 0 0 0 0 0 0 0 0 0 0 0 0 0 0 0 0 0 0 0 0 0 0 0 0 0 0 0 0 0 0 0 0 0 0 0 0 0 0 0 0 0 0 0 0 0 0 0 0 0 0 0 0 0 0 0 0 0 0 0 0 0 0 0 0 0 0 0 0 0 0 0 0 0\n",
            "I0820 09:40:26.358956 139710227371904 run_classifier.py:468] label: 0 (id = 1)\n",
            "I0820 09:40:26.436620 139710227371904 run_classifier.py:461] *** Example ***\n",
            "I0820 09:40:26.437277 139710227371904 run_classifier.py:462] guid: None\n",
            "I0820 09:40:26.438217 139710227371904 run_classifier.py:464] tokens: [CLS] dispatch ##es from eric zu ##ess ##e this piece is cross ##post ##ed at strategic - culture . org the power above the u . s . federal bureau of investigation ( fbi ) is the u . s . attorney general , and , above that person , the u . s . president . that ’ s whom the fbi actually serves — not the u . s . public . this is the reason why the fbi is having such internal tensions and di ##ssen ##sions over the investigation of hillary clinton : not only is she the current president ’ s ardent ##ly preferred and designated successor — and overwhelmingly supported also by america ’ s artist ##oc ##rac ##y and endorsed [SEP]\n",
            "I0820 09:40:26.439426 139710227371904 run_classifier.py:465] input_ids: 101 18365 2229 2013 4388 16950 7971 2063 2023 3538 2003 2892 19894 2098 2012 6143 1011 3226 1012 8917 1996 2373 2682 1996 1057 1012 1055 1012 2976 4879 1997 4812 1006 8495 1007 2003 1996 1057 1012 1055 1012 4905 2236 1010 1998 1010 2682 2008 2711 1010 1996 1057 1012 1055 1012 2343 1012 2008 1521 1055 3183 1996 8495 2941 4240 1517 2025 1996 1057 1012 1055 1012 2270 1012 2023 2003 1996 3114 2339 1996 8495 2003 2383 2107 4722 13136 1998 4487 14416 27466 2058 1996 4812 1997 18520 7207 1024 2025 2069 2003 2016 1996 2783 2343 1521 1055 25314 2135 6871 1998 4351 6332 1517 1998 24783 3569 2036 2011 2637 1521 1055 3063 10085 22648 2100 1998 11763 102\n",
            "I0820 09:40:26.440457 139710227371904 run_classifier.py:466] input_mask: 1 1 1 1 1 1 1 1 1 1 1 1 1 1 1 1 1 1 1 1 1 1 1 1 1 1 1 1 1 1 1 1 1 1 1 1 1 1 1 1 1 1 1 1 1 1 1 1 1 1 1 1 1 1 1 1 1 1 1 1 1 1 1 1 1 1 1 1 1 1 1 1 1 1 1 1 1 1 1 1 1 1 1 1 1 1 1 1 1 1 1 1 1 1 1 1 1 1 1 1 1 1 1 1 1 1 1 1 1 1 1 1 1 1 1 1 1 1 1 1 1 1 1 1 1 1 1 1\n",
            "I0820 09:40:26.441379 139710227371904 run_classifier.py:467] segment_ids: 0 0 0 0 0 0 0 0 0 0 0 0 0 0 0 0 0 0 0 0 0 0 0 0 0 0 0 0 0 0 0 0 0 0 0 0 0 0 0 0 0 0 0 0 0 0 0 0 0 0 0 0 0 0 0 0 0 0 0 0 0 0 0 0 0 0 0 0 0 0 0 0 0 0 0 0 0 0 0 0 0 0 0 0 0 0 0 0 0 0 0 0 0 0 0 0 0 0 0 0 0 0 0 0 0 0 0 0 0 0 0 0 0 0 0 0 0 0 0 0 0 0 0 0 0 0 0 0\n",
            "I0820 09:40:26.442758 139710227371904 run_classifier.py:468] label: 0 (id = 1)\n",
            "I0820 09:40:26.452613 139710227371904 run_classifier.py:461] *** Example ***\n",
            "I0820 09:40:26.453592 139710227371904 run_classifier.py:462] guid: None\n",
            "I0820 09:40:26.454582 139710227371904 run_classifier.py:464] tokens: [CLS] print [ ed . – every now and then the facade cracks . somebody asks a question the media haven ’ t intervened to spin yet , and a bit of truth peek ##s out about what the public really thinks . cnn is our poster child on this one , but it could be any number of them . ] two national polls released late last week confirmed the public widely recognizes the news media ’ s agenda in favor of hillary clinton and decidedly against donald trump , a reality documented in a news ##bus ##ters study earlier in the week . “ by nearly 10 - 1 , all those surveyed say the news media , including major newspapers and tv stations , [SEP]\n",
            "I0820 09:40:26.455594 139710227371904 run_classifier.py:465] input_ids: 101 6140 1031 3968 1012 1516 2296 2085 1998 2059 1996 8508 15288 1012 8307 5176 1037 3160 1996 2865 4033 1521 1056 21116 2000 6714 2664 1010 1998 1037 2978 1997 3606 19043 2015 2041 2055 2054 1996 2270 2428 6732 1012 13229 2003 2256 13082 2775 2006 2023 2028 1010 2021 2009 2071 2022 2151 2193 1997 2068 1012 1033 2048 2120 14592 2207 2397 2197 2733 4484 1996 2270 4235 14600 1996 2739 2865 1521 1055 11376 1999 5684 1997 18520 7207 1998 27873 2114 6221 8398 1010 1037 4507 8832 1999 1037 2739 8286 7747 2817 3041 1999 1996 2733 1012 1523 2011 3053 2184 1011 1015 1010 2035 2216 12876 2360 1996 2739 2865 1010 2164 2350 6399 1998 2694 3703 1010 102\n",
            "I0820 09:40:26.456850 139710227371904 run_classifier.py:466] input_mask: 1 1 1 1 1 1 1 1 1 1 1 1 1 1 1 1 1 1 1 1 1 1 1 1 1 1 1 1 1 1 1 1 1 1 1 1 1 1 1 1 1 1 1 1 1 1 1 1 1 1 1 1 1 1 1 1 1 1 1 1 1 1 1 1 1 1 1 1 1 1 1 1 1 1 1 1 1 1 1 1 1 1 1 1 1 1 1 1 1 1 1 1 1 1 1 1 1 1 1 1 1 1 1 1 1 1 1 1 1 1 1 1 1 1 1 1 1 1 1 1 1 1 1 1 1 1 1 1\n",
            "I0820 09:40:26.457818 139710227371904 run_classifier.py:467] segment_ids: 0 0 0 0 0 0 0 0 0 0 0 0 0 0 0 0 0 0 0 0 0 0 0 0 0 0 0 0 0 0 0 0 0 0 0 0 0 0 0 0 0 0 0 0 0 0 0 0 0 0 0 0 0 0 0 0 0 0 0 0 0 0 0 0 0 0 0 0 0 0 0 0 0 0 0 0 0 0 0 0 0 0 0 0 0 0 0 0 0 0 0 0 0 0 0 0 0 0 0 0 0 0 0 0 0 0 0 0 0 0 0 0 0 0 0 0 0 0 0 0 0 0 0 0 0 0 0 0\n",
            "I0820 09:40:26.458971 139710227371904 run_classifier.py:468] label: 0 (id = 1)\n",
            "I0820 09:40:26.470106 139710227371904 run_classifier.py:461] *** Example ***\n",
            "I0820 09:40:26.470981 139710227371904 run_classifier.py:462] guid: None\n",
            "I0820 09:40:26.471869 139710227371904 run_classifier.py:464] tokens: [CLS] nanny in jail after force feeding baby to death 2 shares by ike mclean / october 27 , 2016 / life / ol ##ure ##mi o ##yin ##das ##ola , 66 , of glen ##ard ##en , maryland has been charged with second - degree murder , first - degree child abuse resulting in death and other offenses , after she force fed an eight - month - old baby girl who then died . home surveillance footage shows o ##yin ##das ##ola was nap ##ping when the eight - month - old child began crying and approached the nanny in a todd ##ler walker . police say o ##yin ##das ##ola then tried to feed the child , and when her attempt was unsuccessful , [SEP]\n",
            "I0820 09:40:26.472920 139710227371904 run_classifier.py:465] input_ids: 101 19174 1999 7173 2044 2486 8521 3336 2000 2331 1016 6661 2011 25209 17602 1013 2255 2676 1010 2355 1013 2166 1013 19330 5397 4328 1051 25811 8883 6030 1010 5764 1010 1997 8904 4232 2368 1010 5374 2038 2042 5338 2007 2117 1011 3014 4028 1010 2034 1011 3014 2775 6905 4525 1999 2331 1998 2060 25173 1010 2044 2016 2486 7349 2019 2809 1011 3204 1011 2214 3336 2611 2040 2059 2351 1012 2188 9867 8333 3065 1051 25811 8883 6030 2001 18996 4691 2043 1996 2809 1011 3204 1011 2214 2775 2211 6933 1998 5411 1996 19174 1999 1037 6927 3917 5232 1012 2610 2360 1051 25811 8883 6030 2059 2699 2000 5438 1996 2775 1010 1998 2043 2014 3535 2001 7736 1010 102\n",
            "I0820 09:40:26.473894 139710227371904 run_classifier.py:466] input_mask: 1 1 1 1 1 1 1 1 1 1 1 1 1 1 1 1 1 1 1 1 1 1 1 1 1 1 1 1 1 1 1 1 1 1 1 1 1 1 1 1 1 1 1 1 1 1 1 1 1 1 1 1 1 1 1 1 1 1 1 1 1 1 1 1 1 1 1 1 1 1 1 1 1 1 1 1 1 1 1 1 1 1 1 1 1 1 1 1 1 1 1 1 1 1 1 1 1 1 1 1 1 1 1 1 1 1 1 1 1 1 1 1 1 1 1 1 1 1 1 1 1 1 1 1 1 1 1 1\n",
            "I0820 09:40:26.474861 139710227371904 run_classifier.py:467] segment_ids: 0 0 0 0 0 0 0 0 0 0 0 0 0 0 0 0 0 0 0 0 0 0 0 0 0 0 0 0 0 0 0 0 0 0 0 0 0 0 0 0 0 0 0 0 0 0 0 0 0 0 0 0 0 0 0 0 0 0 0 0 0 0 0 0 0 0 0 0 0 0 0 0 0 0 0 0 0 0 0 0 0 0 0 0 0 0 0 0 0 0 0 0 0 0 0 0 0 0 0 0 0 0 0 0 0 0 0 0 0 0 0 0 0 0 0 0 0 0 0 0 0 0 0 0 0 0 0 0\n",
            "I0820 09:40:26.476383 139710227371904 run_classifier.py:468] label: 0 (id = 1)\n",
            "I0820 09:41:01.202955 139710227371904 estimator.py:209] Using config: {'_model_dir': 'output', '_tf_random_seed': None, '_save_summary_steps': 100, '_save_checkpoints_steps': 10000, '_save_checkpoints_secs': None, '_session_config': allow_soft_placement: true\n",
            "graph_options {\n",
            "  rewrite_options {\n",
            "    meta_optimizer_iterations: ONE\n",
            "  }\n",
            "}\n",
            ", '_keep_checkpoint_max': 5, '_keep_checkpoint_every_n_hours': 10000, '_log_step_count_steps': 100, '_train_distribute': None, '_device_fn': None, '_protocol': None, '_eval_distribute': None, '_experimental_distribute': None, '_experimental_max_worker_delay_secs': None, '_service': None, '_cluster_spec': <tensorflow.python.training.server_lib.ClusterSpec object at 0x7f100100ea58>, '_task_type': 'worker', '_task_id': 0, '_global_id_in_cluster': 0, '_master': '', '_evaluation_master': '', '_is_chief': True, '_num_ps_replicas': 0, '_num_worker_replicas': 1}\n",
            "I0820 09:41:03.361707 139710227371904 estimator.py:1145] Calling model_fn.\n",
            "I0820 09:41:06.410433 139710227371904 saver.py:1499] Saver not created because there are no variables in the graph to restore\n",
            "/usr/local/lib/python3.6/dist-packages/tensorflow/python/ops/gradients_util.py:93: UserWarning: Converting sparse IndexedSlices to a dense Tensor of unknown shape. This may consume a large amount of memory.\n",
            "  \"Converting sparse IndexedSlices to a dense Tensor of unknown shape. \"\n",
            "I0820 09:41:15.431000 139710227371904 estimator.py:1147] Done calling model_fn.\n",
            "I0820 09:41:15.433725 139710227371904 basic_session_run_hooks.py:541] Create CheckpointSaverHook.\n",
            "I0820 09:41:16.761667 139710227371904 monitored_session.py:240] Graph was finalized.\n",
            "I0820 09:41:16.775990 139710227371904 saver.py:1280] Restoring parameters from output/model.ckpt-397\n",
            "W0820 09:41:18.591309 139710227371904 deprecation.py:323] From /usr/local/lib/python3.6/dist-packages/tensorflow/python/training/saver.py:1066: get_checkpoint_mtimes (from tensorflow.python.training.checkpoint_management) is deprecated and will be removed in a future version.\n",
            "Instructions for updating:\n",
            "Use standard file utilities to get mtimes.\n",
            "I0820 09:41:19.257993 139710227371904 session_manager.py:500] Running local_init_op.\n",
            "I0820 09:41:19.488243 139710227371904 session_manager.py:502] Done running local_init_op.\n",
            "I0820 09:41:28.915572 139710227371904 basic_session_run_hooks.py:606] Saving checkpoints for 397 into output/model.ckpt.\n",
            "I0820 09:41:46.070971 139710227371904 basic_session_run_hooks.py:262] loss = 0.003015575, step = 397\n",
            "I0820 09:43:34.305268 139710227371904 basic_session_run_hooks.py:692] global_step/sec: 0.923915\n",
            "I0820 09:43:34.306869 139710227371904 basic_session_run_hooks.py:260] loss = 0.0008037605, step = 497 (108.236 sec)\n",
            "I0820 09:45:06.987376 139710227371904 basic_session_run_hooks.py:692] global_step/sec: 1.07896\n",
            "I0820 09:45:06.988719 139710227371904 basic_session_run_hooks.py:260] loss = 0.000619152, step = 597 (92.682 sec)\n",
            "I0820 09:46:07.082306 139710227371904 basic_session_run_hooks.py:606] Saving checkpoints for 663 into output/model.ckpt.\n",
            "I0820 09:46:16.493720 139710227371904 estimator.py:368] Loss for final step: 0.0007747926.\n",
            "I0820 09:46:17.563809 139710227371904 estimator.py:1145] Calling model_fn.\n",
            "I0820 09:46:20.958055 139710227371904 saver.py:1499] Saver not created because there are no variables in the graph to restore\n",
            "/usr/local/lib/python3.6/dist-packages/tensorflow/python/ops/gradients_util.py:93: UserWarning: Converting sparse IndexedSlices to a dense Tensor of unknown shape. This may consume a large amount of memory.\n",
            "  \"Converting sparse IndexedSlices to a dense Tensor of unknown shape. \"\n",
            "I0820 09:46:29.858137 139710227371904 estimator.py:1147] Done calling model_fn.\n",
            "I0820 09:46:29.881859 139710227371904 evaluation.py:255] Starting evaluation at 2019-08-20T09:46:29Z\n",
            "I0820 09:46:31.205614 139710227371904 monitored_session.py:240] Graph was finalized.\n",
            "I0820 09:46:31.217713 139710227371904 saver.py:1280] Restoring parameters from output/model.ckpt-663\n",
            "I0820 09:46:33.694374 139710227371904 session_manager.py:500] Running local_init_op.\n",
            "I0820 09:46:33.939685 139710227371904 session_manager.py:502] Done running local_init_op.\n",
            "I0820 09:46:55.802216 139710227371904 evaluation.py:275] Finished evaluation at 2019-08-20-09:46:55\n",
            "I0820 09:46:55.803445 139710227371904 estimator.py:2039] Saving dict for global step 663: auc = 0.9690243, eval_accuracy = 0.9689144, f1_score = 0.96949786, false_negatives = 38.0, false_positives = 27.0, global_step = 663, loss = 0.15265313, precision = 0.9745283, recall = 0.96451914, true_negatives = 993.0, true_positives = 1033.0\n",
            "I0820 09:46:55.808548 139710227371904 estimator.py:2099] Saving 'checkpoint_path' summary for global step 663: output/model.ckpt-663\n"
          ],
          "name": "stderr"
        }
      ]
    },
    {
      "cell_type": "markdown",
      "metadata": {
        "id": "t3WGBPYKdf5n",
        "colab_type": "text"
      },
      "source": [
        "### 3.5.6 Show the result"
      ]
    },
    {
      "cell_type": "code",
      "metadata": {
        "id": "J9bzEMqCJRU4",
        "colab_type": "code",
        "outputId": "a5c54177-70b1-4517-b93d-a733cb616529",
        "colab": {
          "base_uri": "https://localhost:8080/",
          "height": 202
        }
      },
      "source": [
        "result"
      ],
      "execution_count": 0,
      "outputs": [
        {
          "output_type": "execute_result",
          "data": {
            "text/plain": [
              "{'auc': 0.9682539,\n",
              " 'eval_accuracy': 0.9679579,\n",
              " 'f1_score': 0.9683215,\n",
              " 'false_negatives': 47.0,\n",
              " 'false_positives': 20.0,\n",
              " 'global_step': 397,\n",
              " 'loss': 0.13262913,\n",
              " 'precision': 0.9808429,\n",
              " 'recall': 0.9561158,\n",
              " 'true_negatives': 1000.0,\n",
              " 'true_positives': 1024.0}"
            ]
          },
          "metadata": {
            "tags": []
          },
          "execution_count": 10
        }
      ]
    },
    {
      "cell_type": "markdown",
      "metadata": {
        "id": "bJnLGk0cipT8",
        "colab_type": "text"
      },
      "source": [
        "# 4. PengMeng"
      ]
    },
    {
      "cell_type": "markdown",
      "metadata": {
        "id": "69Ez2MAdl6tq",
        "colab_type": "text"
      },
      "source": [
        "## 4.1 Simple Classifier"
      ]
    },
    {
      "cell_type": "code",
      "metadata": {
        "colab_type": "code",
        "id": "FjcE4pDeVPYn",
        "colab": {}
      },
      "source": [
        "from sklearn.naive_bayes import BernoulliNB\n",
        "from sklearn.svm import SVC\n",
        "from sklearn.tree import DecisionTreeClassifier\n",
        "from sklearn.ensemble import RandomForestClassifier\n",
        "from sklearn.neighbors import KNeighborsClassifier\n",
        "from xgboost import XGBClassifier\n",
        "from hyperopt import fmin, tpe, hp\n",
        "from sklearn.model_selection import cross_val_score"
      ],
      "execution_count": 0,
      "outputs": []
    },
    {
      "cell_type": "markdown",
      "metadata": {
        "colab_type": "text",
        "id": "lwOc0YhYVM16"
      },
      "source": [
        "### 4.1.1 KNN"
      ]
    },
    {
      "cell_type": "code",
      "metadata": {
        "id": "siV_ZMKRRlt8",
        "colab_type": "code",
        "colab": {}
      },
      "source": [
        "clf = KNeighborsClassifier()\n",
        "clf.fit(X_train, y_train)\n",
        "\n",
        "target_names = ['True', 'Fake']\n",
        "print(classification_report(y_test, clf.predict(X_test), target_names=target_names))\n",
        "clf.score(X_test, y_test)"
      ],
      "execution_count": 0,
      "outputs": []
    },
    {
      "cell_type": "code",
      "metadata": {
        "id": "u8Z7VnncR7VV",
        "colab_type": "code",
        "outputId": "ae3add68-0fa3-4497-b21d-fa6d65a27e7e",
        "colab": {
          "base_uri": "https://localhost:8080/",
          "height": 195
        }
      },
      "source": [
        "clf.fit(x0_train, y0_train)\n",
        "\n",
        "print(classification_report(y0_test, clf.predict(x0_test), target_names=target_names))\n",
        "clf.score(x0_test, y0_test)"
      ],
      "execution_count": 0,
      "outputs": [
        {
          "output_type": "stream",
          "text": [
            "              precision    recall  f1-score   support\n",
            "\n",
            "        True       0.89      0.82      0.85      1039\n",
            "        Fake       0.83      0.90      0.87      1052\n",
            "\n",
            "    accuracy                           0.86      2091\n",
            "   macro avg       0.86      0.86      0.86      2091\n",
            "weighted avg       0.86      0.86      0.86      2091\n",
            "\n"
          ],
          "name": "stdout"
        },
        {
          "output_type": "execute_result",
          "data": {
            "text/plain": [
              "0.8598756575801052"
            ]
          },
          "metadata": {
            "tags": []
          },
          "execution_count": 67
        }
      ]
    },
    {
      "cell_type": "markdown",
      "metadata": {
        "colab_type": "text",
        "id": "BjBPGsvqVM2H"
      },
      "source": [
        "### 4.1.2 Naive Bayes"
      ]
    },
    {
      "cell_type": "code",
      "metadata": {
        "colab_type": "code",
        "outputId": "e9c790b9-3a10-4980-d877-756d620006e5",
        "id": "DQfMg8uLRTol",
        "colab": {
          "base_uri": "https://localhost:8080/",
          "height": 195
        }
      },
      "source": [
        "clf = BernoulliNB()\n",
        "clf.fit(X_train, y_train)\n",
        "\n",
        "print(classification_report(y_test, clf.predict(X_test), target_names=target_names))\n",
        "clf.score(X_test, y_test)"
      ],
      "execution_count": 0,
      "outputs": [
        {
          "output_type": "stream",
          "text": [
            "              precision    recall  f1-score   support\n",
            "\n",
            "        True       0.81      0.89      0.85      1071\n",
            "        Fake       0.87      0.78      0.82      1020\n",
            "\n",
            "    accuracy                           0.83      2091\n",
            "   macro avg       0.84      0.83      0.83      2091\n",
            "weighted avg       0.84      0.83      0.83      2091\n",
            "\n"
          ],
          "name": "stdout"
        },
        {
          "output_type": "execute_result",
          "data": {
            "text/plain": [
              "0.8335724533715926"
            ]
          },
          "metadata": {
            "tags": []
          },
          "execution_count": 64
        }
      ]
    },
    {
      "cell_type": "code",
      "metadata": {
        "colab_type": "code",
        "outputId": "60225da4-eb38-443d-e061-8b9d1335e4d3",
        "id": "dwIBYQCCSoyS",
        "colab": {
          "base_uri": "https://localhost:8080/",
          "height": 195
        }
      },
      "source": [
        "clf.fit(x0_train, y0_train)\n",
        "\n",
        "print(classification_report(y0_test, clf.predict(x0_test), target_names=target_names))\n",
        "clf.score(x0_test, y0_test)"
      ],
      "execution_count": 0,
      "outputs": [
        {
          "output_type": "stream",
          "text": [
            "              precision    recall  f1-score   support\n",
            "\n",
            "        True       0.76      0.85      0.80      1039\n",
            "        Fake       0.83      0.73      0.78      1052\n",
            "\n",
            "    accuracy                           0.79      2091\n",
            "   macro avg       0.79      0.79      0.79      2091\n",
            "weighted avg       0.79      0.79      0.79      2091\n",
            "\n"
          ],
          "name": "stdout"
        },
        {
          "output_type": "execute_result",
          "data": {
            "text/plain": [
              "0.790052606408417"
            ]
          },
          "metadata": {
            "tags": []
          },
          "execution_count": 71
        }
      ]
    },
    {
      "cell_type": "markdown",
      "metadata": {
        "colab_type": "text",
        "id": "VoIw7_GCVM2L"
      },
      "source": [
        "### 4.1.3 SVM"
      ]
    },
    {
      "cell_type": "code",
      "metadata": {
        "colab_type": "code",
        "outputId": "9b3bb374-14d1-4c27-87e1-4a79894c870f",
        "id": "DBhYoVCdUJvw",
        "colab": {
          "base_uri": "https://localhost:8080/",
          "height": 195
        }
      },
      "source": [
        "clf = SVC(kernel='linear')\n",
        "clf.fit(X_train, y_train)\n",
        "\n",
        "target_names = ['True', 'Fake']\n",
        "print(classification_report(y_test, clf.predict(X_test), target_names=target_names))\n",
        "clf.score(X_test, y_test)"
      ],
      "execution_count": 0,
      "outputs": [
        {
          "output_type": "stream",
          "text": [
            "              precision    recall  f1-score   support\n",
            "\n",
            "        True       0.93      0.96      0.95      1071\n",
            "        Fake       0.96      0.93      0.94      1020\n",
            "\n",
            "    accuracy                           0.94      2091\n",
            "   macro avg       0.94      0.94      0.94      2091\n",
            "weighted avg       0.94      0.94      0.94      2091\n",
            "\n"
          ],
          "name": "stdout"
        },
        {
          "output_type": "execute_result",
          "data": {
            "text/plain": [
              "0.9435676709708274"
            ]
          },
          "metadata": {
            "tags": []
          },
          "execution_count": 75
        }
      ]
    },
    {
      "cell_type": "code",
      "metadata": {
        "colab_type": "code",
        "outputId": "5fc17428-b34d-4d50-fd76-6189dbe72b6d",
        "id": "9XIRnNlmUJvy",
        "colab": {
          "base_uri": "https://localhost:8080/",
          "height": 195
        }
      },
      "source": [
        "clf.fit(x0_train, y0_train)\n",
        "\n",
        "print(classification_report(y0_test, clf.predict(x0_test), target_names=target_names))\n",
        "clf.score(x0_test, y0_test)"
      ],
      "execution_count": 0,
      "outputs": [
        {
          "output_type": "stream",
          "text": [
            "              precision    recall  f1-score   support\n",
            "\n",
            "        True       0.89      0.90      0.90      1039\n",
            "        Fake       0.90      0.89      0.90      1052\n",
            "\n",
            "    accuracy                           0.90      2091\n",
            "   macro avg       0.90      0.90      0.90      2091\n",
            "weighted avg       0.90      0.90      0.90      2091\n",
            "\n"
          ],
          "name": "stdout"
        },
        {
          "output_type": "execute_result",
          "data": {
            "text/plain": [
              "0.896700143472023"
            ]
          },
          "metadata": {
            "tags": []
          },
          "execution_count": 76
        }
      ]
    },
    {
      "cell_type": "code",
      "metadata": {
        "id": "UJzLFemvZL02",
        "colab_type": "code",
        "outputId": "58022b1b-92f7-4ede-8370-dddd9f3791db",
        "colab": {
          "base_uri": "https://localhost:8080/",
          "height": 35
        }
      },
      "source": [
        "score = cross_val_score(clf, X_train, y_train, cv=5).mean()\n",
        "print(score)"
      ],
      "execution_count": 0,
      "outputs": [
        {
          "output_type": "stream",
          "text": [
            "0.9401581850554743\n"
          ],
          "name": "stdout"
        }
      ]
    },
    {
      "cell_type": "markdown",
      "metadata": {
        "colab_type": "text",
        "id": "KfZJsXoYwZ1c"
      },
      "source": [
        "## 4.2 Hypertunning -- Base on Hyperopt"
      ]
    },
    {
      "cell_type": "code",
      "metadata": {
        "colab_type": "code",
        "id": "3Nl4WBVZwZ1d",
        "colab": {}
      },
      "source": [
        "from sklearn.model_selection import cross_val_score\n",
        "from hyperopt import hp, fmin, tpe, partial, Trials, STATUS_OK"
      ],
      "execution_count": 0,
      "outputs": []
    },
    {
      "cell_type": "code",
      "metadata": {
        "id": "A1iI8rbUK2T7",
        "colab_type": "code",
        "colab": {}
      },
      "source": [
        "# tf-idf\n",
        "X=tfidf_matrix[:,:]\n",
        "y=df.label[:]\n",
        "\n",
        "df['label'].loc[df['label'] == '1'] = 1\n",
        "df['label'].loc[df['label'] == '0'] = 0\n",
        "\n",
        "X_f1=tfidf_matrix[:,:]\n",
        "y_f1=df.label[:]\n",
        "X_train_f1, X_test_f1, y_train_f1, y_test_f1 = train_test_split(X_f1, y_f1, test_size=0.33, random_state=42)"
      ],
      "execution_count": 0,
      "outputs": []
    },
    {
      "cell_type": "markdown",
      "metadata": {
        "colab_type": "text",
        "id": "BVLT9Izhwg1K"
      },
      "source": [
        "### 4.2.1 Random forest"
      ]
    },
    {
      "cell_type": "markdown",
      "metadata": {
        "id": "ktQXzhK0hCPg",
        "colab_type": "text"
      },
      "source": [
        "**(1) TF-IDF**"
      ]
    },
    {
      "cell_type": "code",
      "metadata": {
        "colab_type": "code",
        "outputId": "905e77e5-ba5e-4024-9032-b19bbfc5d26f",
        "id": "jlmarQghWnyR",
        "colab": {
          "base_uri": "https://localhost:8080/",
          "height": 52
        }
      },
      "source": [
        "from sklearn.ensemble import RandomForestClassifier\n",
        "def RF(argsDict):\n",
        "    max_depth = argsDict[\"max_depth\"] + 5\n",
        "    n_estimators = argsDict['n_estimators'] * 5 + 50\n",
        "    \n",
        "    clfRF = RandomForestClassifier(max_depth=max_depth,\n",
        "                                n_estimators=n_estimators)\n",
        "\n",
        "    metric = cross_val_score(clfRF,X_train,y_train,cv=10,scoring=\"roc_auc\").mean()\n",
        "    return -metric\n",
        "\n",
        "space = {\"max_depth\":hp.choice(\"max_depth\",[40,50]),\n",
        "         \"n_estimators\":hp.randint(\"n_estimators\",50),   \n",
        "         \"criterion\":hp.choice(\"criterion\", ['gini', 'entropy'])\n",
        "        }\n",
        "algo = partial(tpe.suggest,n_startup_jobs=1)\n",
        "best = fmin(RF,space,algo=algo,max_evals=10)\n",
        "print(best)"
      ],
      "execution_count": 0,
      "outputs": [
        {
          "output_type": "stream",
          "text": [
            "100%|██████████| 10/10 [17:59<00:00, 113.43s/it, best loss: -0.970928156906635]\n",
            "{'criterion': 1, 'max_depth': 1, 'n_estimators': 49}\n"
          ],
          "name": "stdout"
        }
      ]
    },
    {
      "cell_type": "code",
      "metadata": {
        "id": "UbP_he90LFkX",
        "colab_type": "code",
        "colab": {}
      },
      "source": [
        "paraRF = {'criterion': 'entropy', 'max_depth': 55, 'n_estimators': 295}\n",
        "\n",
        "clfRF = RandomForestClassifier()\n",
        "clfRF.set_params(**paraRF)"
      ],
      "execution_count": 0,
      "outputs": []
    },
    {
      "cell_type": "code",
      "metadata": {
        "id": "WagkkRKJOZ1B",
        "colab_type": "code",
        "outputId": "62747c97-d3dc-4f42-d473-6ae047b7fbd6",
        "colab": {
          "base_uri": "https://localhost:8080/",
          "height": 195
        }
      },
      "source": [
        "clfRF.fit(X_train, y_train)\n",
        "y_pred = clfRF.predict(X_test)\n",
        "\n",
        "target_names = ['True', 'Fake']\n",
        "print(classification_report(y_test, y_pred, target_names=target_names))\n",
        "clfRF.score(X_test, y_test)"
      ],
      "execution_count": 0,
      "outputs": [
        {
          "output_type": "stream",
          "text": [
            "              precision    recall  f1-score   support\n",
            "\n",
            "        True       0.91      0.93      0.92      1071\n",
            "        Fake       0.93      0.90      0.91      1020\n",
            "\n",
            "    accuracy                           0.92      2091\n",
            "   macro avg       0.92      0.92      0.92      2091\n",
            "weighted avg       0.92      0.92      0.92      2091\n",
            "\n"
          ],
          "name": "stdout"
        },
        {
          "output_type": "execute_result",
          "data": {
            "text/plain": [
              "0.9158297465327594"
            ]
          },
          "metadata": {
            "tags": []
          },
          "execution_count": 144
        }
      ]
    },
    {
      "cell_type": "markdown",
      "metadata": {
        "id": "vO0PxRN-6rm2",
        "colab_type": "text"
      },
      "source": [
        "**(2) FastText**\n",
        "\n",
        "**FastText-cross_val-AUC**"
      ]
    },
    {
      "cell_type": "code",
      "metadata": {
        "colab_type": "code",
        "outputId": "daa54302-f058-4946-a30d-d36ff3f5c991",
        "id": "qjDQq3KB2Kxm",
        "colab": {
          "base_uri": "https://localhost:8080/",
          "height": 52
        }
      },
      "source": [
        "from sklearn.ensemble import RandomForestClassifier\n",
        "\n",
        "\n",
        "def RF(argsDict):\n",
        "    max_depth = argsDict[\"max_depth\"] + 5\n",
        "    n_estimators = argsDict['n_estimators'] * 5 + 50\n",
        "    \n",
        "    clf = RandomForestClassifier(max_depth=max_depth,\n",
        "                                n_estimators=n_estimators)\n",
        "\n",
        "    metric = cross_val_score(clf,x0_train, y0_train,cv=10,scoring=\"roc_auc\").mean()\n",
        "    return -metric\n",
        "\n",
        "space = {\"max_depth\":hp.choice(\"max_depth\",[40,50]),\n",
        "         \"n_estimators\":hp.randint(\"n_estimators\",50),   \n",
        "         \"criterion\":hp.choice(\"criterion\", ['gini', 'entropy'])\n",
        "        }\n",
        "algo = partial(tpe.suggest,n_startup_jobs=1)\n",
        "best = fmin(RF,space,algo=algo,max_evals=10)\n",
        "print(best)"
      ],
      "execution_count": 0,
      "outputs": [
        {
          "output_type": "stream",
          "text": [
            "100%|██████████| 10/10 [15:29<00:00, 125.05s/it, best loss: -0.9644278569527357]\n",
            "{'criterion': 1, 'max_depth': 0, 'n_estimators': 38}\n"
          ],
          "name": "stdout"
        }
      ]
    },
    {
      "cell_type": "code",
      "metadata": {
        "colab_type": "code",
        "outputId": "026692db-75c4-48d9-fe7f-77045ac8ba6b",
        "id": "xdkhaHNbeuBe",
        "colab": {
          "base_uri": "https://localhost:8080/",
          "height": 142
        }
      },
      "source": [
        "paraRF_ft = {'criterion': 'gini', 'max_depth': 45, 'n_estimators': 240}\n",
        "\n",
        "clfRF_ft = RandomForestClassifier()\n",
        "clfRF_ft.set_params(**paraRF_ft)"
      ],
      "execution_count": 0,
      "outputs": [
        {
          "output_type": "execute_result",
          "data": {
            "text/plain": [
              "RandomForestClassifier(bootstrap=True, class_weight=None, criterion='gini',\n",
              "                       max_depth=45, max_features='auto', max_leaf_nodes=None,\n",
              "                       min_impurity_decrease=0.0, min_impurity_split=None,\n",
              "                       min_samples_leaf=1, min_samples_split=2,\n",
              "                       min_weight_fraction_leaf=0.0, n_estimators=240,\n",
              "                       n_jobs=None, oob_score=False, random_state=None,\n",
              "                       verbose=0, warm_start=False)"
            ]
          },
          "metadata": {
            "tags": []
          },
          "execution_count": 179
        }
      ]
    },
    {
      "cell_type": "code",
      "metadata": {
        "colab_type": "code",
        "outputId": "502bcd1c-8603-4b4a-cd1a-11cd1a8dcb25",
        "id": "bLNixii_euBh",
        "colab": {
          "base_uri": "https://localhost:8080/",
          "height": 195
        }
      },
      "source": [
        "clfRF_ft.fit(x0_train, y0_train)\n",
        "y_pred_ft = clfRF_ft.predict(x0_test)\n",
        "\n",
        "target_names = ['True', 'Fake']\n",
        "print(classification_report(y0_test, y_pred_ft, target_names=target_names))\n",
        "clfRF_ft.score(x0_test, y0_test)"
      ],
      "execution_count": 0,
      "outputs": [
        {
          "output_type": "stream",
          "text": [
            "              precision    recall  f1-score   support\n",
            "\n",
            "        True       0.88      0.90      0.89      1039\n",
            "        Fake       0.90      0.88      0.89      1052\n",
            "\n",
            "    accuracy                           0.89      2091\n",
            "   macro avg       0.89      0.89      0.89      2091\n",
            "weighted avg       0.89      0.89      0.89      2091\n",
            "\n"
          ],
          "name": "stdout"
        },
        {
          "output_type": "execute_result",
          "data": {
            "text/plain": [
              "0.8890483022477284"
            ]
          },
          "metadata": {
            "tags": []
          },
          "execution_count": 180
        }
      ]
    },
    {
      "cell_type": "markdown",
      "metadata": {
        "id": "qbwYcq_67CfU",
        "colab_type": "text"
      },
      "source": [
        "**TF-IDF-cross_val_f1**"
      ]
    },
    {
      "cell_type": "code",
      "metadata": {
        "id": "nqq9Pge6563O",
        "colab_type": "code",
        "outputId": "a7ee4ef3-262a-48c7-88ef-dd7a95cf11a3",
        "colab": {
          "base_uri": "https://localhost:8080/",
          "height": 52
        }
      },
      "source": [
        "from sklearn.ensemble import RandomForestClassifier\n",
        "\n",
        "def RF(argsDict):\n",
        "    max_depth = argsDict[\"max_depth\"] + 5\n",
        "    n_estimators = argsDict['n_estimators'] * 5 + 50\n",
        "    \n",
        "    clf = RandomForestClassifier(max_depth=max_depth,\n",
        "                                n_estimators=n_estimators)\n",
        "\n",
        "    metric = cross_val_score(clf,X_train_f1, y_train_f1,cv=10,scoring=\"f1\").mean()\n",
        "    return -metric\n",
        "\n",
        "space = {\"max_depth\":hp.choice(\"max_depth\",[40,50]),\n",
        "         \"n_estimators\":hp.randint(\"n_estimators\",50),   \n",
        "         \"criterion\":hp.choice(\"criterion\", ['gini', 'entropy'])\n",
        "        }\n",
        "algo = partial(tpe.suggest,n_startup_jobs=1)\n",
        "best = fmin(RF,space,algo=algo,max_evals=10)\n",
        "print(best)"
      ],
      "execution_count": 0,
      "outputs": [
        {
          "output_type": "stream",
          "text": [
            "100%|██████████| 10/10 [25:11<00:00, 122.24s/it, best loss: -0.9190062159133184]\n",
            "{'criterion': 1, 'max_depth': 1, 'n_estimators': 33}\n"
          ],
          "name": "stdout"
        }
      ]
    },
    {
      "cell_type": "code",
      "metadata": {
        "colab_type": "code",
        "outputId": "3eb624cd-9e3b-4f25-b9b8-85feb474e9c0",
        "id": "aXHKpYamXZ75",
        "colab": {
          "base_uri": "https://localhost:8080/",
          "height": 142
        }
      },
      "source": [
        "paraRF_f1 = {'criterion': 'entropy', 'max_depth': 46, 'n_estimators': 215}\n",
        "\n",
        "clfRF_f1 = RandomForestClassifier()\n",
        "clfRF_f1.set_params(**paraRF_f1)"
      ],
      "execution_count": 0,
      "outputs": [
        {
          "output_type": "execute_result",
          "data": {
            "text/plain": [
              "RandomForestClassifier(bootstrap=True, class_weight=None, criterion='entropy',\n",
              "                       max_depth=46, max_features='auto', max_leaf_nodes=None,\n",
              "                       min_impurity_decrease=0.0, min_impurity_split=None,\n",
              "                       min_samples_leaf=1, min_samples_split=2,\n",
              "                       min_weight_fraction_leaf=0.0, n_estimators=215,\n",
              "                       n_jobs=None, oob_score=False, random_state=None,\n",
              "                       verbose=0, warm_start=False)"
            ]
          },
          "metadata": {
            "tags": []
          },
          "execution_count": 148
        }
      ]
    },
    {
      "cell_type": "code",
      "metadata": {
        "colab_type": "code",
        "outputId": "b2e1c272-c1ae-4196-a320-2c2566237567",
        "id": "Hn5DAISqXZ79",
        "colab": {
          "base_uri": "https://localhost:8080/",
          "height": 195
        }
      },
      "source": [
        "clfRF_f1.fit(x0_train, y0_train)\n",
        "y_pred_f1 = clfRF_f1.predict(x0_test)\n",
        "\n",
        "target_names = ['True', 'Fake']\n",
        "print(classification_report(y0_test, y_pred_f1, target_names=target_names))\n",
        "clfRF.score(x0_test, y0_test)\n"
      ],
      "execution_count": 0,
      "outputs": [
        {
          "output_type": "stream",
          "text": [
            "              precision    recall  f1-score   support\n",
            "\n",
            "        True       0.88      0.93      0.91      1039\n",
            "        Fake       0.93      0.88      0.90      1052\n",
            "\n",
            "    accuracy                           0.90      2091\n",
            "   macro avg       0.90      0.90      0.90      2091\n",
            "weighted avg       0.91      0.90      0.90      2091\n",
            "\n"
          ],
          "name": "stdout"
        },
        {
          "output_type": "execute_result",
          "data": {
            "text/plain": [
              "0.9655667144906743"
            ]
          },
          "metadata": {
            "tags": []
          },
          "execution_count": 152
        }
      ]
    },
    {
      "cell_type": "markdown",
      "metadata": {
        "id": "hLfZW24QjHe_",
        "colab_type": "text"
      },
      "source": [
        "### 4.2.2 XGBoost"
      ]
    },
    {
      "cell_type": "code",
      "metadata": {
        "colab_type": "code",
        "outputId": "9a4fa4c5-7038-4118-f1a0-6d77833d4876",
        "id": "OaxKFUeqw_ug",
        "colab": {
          "base_uri": "https://localhost:8080/",
          "height": 52
        }
      },
      "source": [
        "from xgboost import XGBClassifier\n",
        "def XGB(argsDict):\n",
        "    max_depth = argsDict[\"max_depth\"]\n",
        "    n_estimators = argsDict[\"n_estimators\"]\n",
        "    learning_rate = argsDict[\"learning_rate\"] * 0.002\n",
        "    subsample = argsDict[\"subsample\"] * 0.1 + 0.6\n",
        "    \n",
        "    xgb = XGBClassifier(nthread=4,    \n",
        "                        max_depth=max_depth,\n",
        "                        n_estimators=n_estimators,\n",
        "                        learning_rate=learning_rate,\n",
        "                        subsample=subsample,\n",
        "                        max_delta_step = 10,\n",
        "                        objective=\"binary:logistic\")\n",
        "\n",
        "    metric = cross_val_score(xgb,X_train,y_train,cv=10,scoring=\"roc_auc\").mean()\n",
        "    return -metric\n",
        "\n",
        "space = {\"max_depth\":hp.randint(\"max_depth\",15),\n",
        "         \"n_estimators\":hp.choice(\"n_estimators\",[10, 100, 200]),  \n",
        "         \"learning_rate\":hp.randint(\"learning_rate\",10),  \n",
        "         \"subsample\":hp.randint(\"subsample\",4),\n",
        "        }\n",
        "algo = partial(tpe.suggest,n_startup_jobs=1)\n",
        "best = fmin(XGB,space,algo=algo,max_evals=10)\n",
        "print(best)"
      ],
      "execution_count": 0,
      "outputs": [
        {
          "output_type": "stream",
          "text": [
            "100%|██████████| 10/10 [2:01:34<00:00, 613.01s/it, best loss: -0.9726149569562462]\n",
            "{'learning_rate': 8, 'max_depth': 12, 'n_estimators': 2, 'subsample': 3}\n"
          ],
          "name": "stdout"
        }
      ]
    },
    {
      "cell_type": "code",
      "metadata": {
        "colab_type": "code",
        "outputId": "47dd2987-05d8-4286-b561-60b846ce532e",
        "id": "Fe1sC7LAw_ur",
        "colab": {
          "base_uri": "https://localhost:8080/",
          "height": 142
        }
      },
      "source": [
        "paraXGB = {'learning_rate': 0.016, 'max_depth': 12, 'n_estimators': 200, 'subsample': 0.9}\n",
        "\n",
        "clfXGB = XGBClassifier()\n",
        "clfXGB.set_params(**paraXGB)"
      ],
      "execution_count": 0,
      "outputs": [
        {
          "output_type": "execute_result",
          "data": {
            "text/plain": [
              "XGBClassifier(base_score=0.5, booster='gbtree', colsample_bylevel=1,\n",
              "              colsample_bynode=1, colsample_bytree=1, gamma=0,\n",
              "              learning_rate=0.016, max_delta_step=0, max_depth=12,\n",
              "              min_child_weight=1, missing=None, n_estimators=200, n_jobs=1,\n",
              "              nthread=None, objective='binary:logistic', random_state=0,\n",
              "              reg_alpha=0, reg_lambda=1, scale_pos_weight=1, seed=None,\n",
              "              silent=None, subsample=0.9, verbosity=1)"
            ]
          },
          "metadata": {
            "tags": []
          },
          "execution_count": 51
        }
      ]
    },
    {
      "cell_type": "code",
      "metadata": {
        "colab_type": "code",
        "outputId": "9882132e-482d-494a-be5b-0982edf53f90",
        "id": "eZlldS-Jw_uu",
        "colab": {
          "base_uri": "https://localhost:8080/",
          "height": 195
        }
      },
      "source": [
        "clfXGB.fit(X_train, y_train)\n",
        "y_pred_XGB = clfXGB.predict(X_test)\n",
        "\n",
        "target_names = ['True', 'Fake']\n",
        "print(classification_report(y_test, y_pred_XGB, target_names=target_names))\n",
        "clfXGB.score(X_test, y_test)\n"
      ],
      "execution_count": 0,
      "outputs": [
        {
          "output_type": "stream",
          "text": [
            "              precision    recall  f1-score   support\n",
            "\n",
            "        True       0.90      0.92      0.91      1071\n",
            "        Fake       0.92      0.89      0.91      1020\n",
            "\n",
            "    accuracy                           0.91      2091\n",
            "   macro avg       0.91      0.91      0.91      2091\n",
            "weighted avg       0.91      0.91      0.91      2091\n",
            "\n"
          ],
          "name": "stdout"
        },
        {
          "output_type": "execute_result",
          "data": {
            "text/plain": [
              "0.9086561453849833"
            ]
          },
          "metadata": {
            "tags": []
          },
          "execution_count": 52
        }
      ]
    },
    {
      "cell_type": "markdown",
      "metadata": {
        "colab_type": "text",
        "id": "Dk7Cv8nlwwdI"
      },
      "source": [
        "### 4.2.3 KNN"
      ]
    },
    {
      "cell_type": "markdown",
      "metadata": {
        "id": "QfwZwPOP7rhb",
        "colab_type": "text"
      },
      "source": [
        "**TF-IDF**"
      ]
    },
    {
      "cell_type": "code",
      "metadata": {
        "colab_type": "code",
        "id": "z9qZPxWgwwdJ",
        "colab": {}
      },
      "source": [
        "from sklearn.neighbors import KNeighborsClassifier \n",
        "from hyperopt import fmin, tpe, hp\n",
        "\n",
        "def KNN(params):\n",
        "    clf = KNeighborsClassifier(**params)\n",
        "    acc = cross_val_score(clf, X_train, y_train, cv=10,scoring=\"roc_auc\").mean()\n",
        "    return -acc\n",
        "\n",
        "spaceknn = {\n",
        "    'n_neighbors': hp.choice('n_neighbors', range(120,200))\n",
        "}\n",
        "\n",
        "algo = partial(tpe.suggest,n_startup_jobs=1)\n",
        "best = fmin(KNN, spaceknn, algo=algo, max_evals=10)\n",
        "print(best)"
      ],
      "execution_count": 0,
      "outputs": []
    },
    {
      "cell_type": "code",
      "metadata": {
        "id": "ud9yRPC4MATt",
        "colab_type": "code",
        "outputId": "3aaa1d17-96ee-4101-b420-6354c806f445",
        "colab": {
          "base_uri": "https://localhost:8080/",
          "height": 195
        }
      },
      "source": [
        "paraKNN = {'n_neighbors':125}\n",
        "\n",
        "clfKNN = KNeighborsClassifier()\n",
        "clfKNN.set_params(**paraKNN)\n",
        "clfKNN.fit(X_train, y_train)\n",
        "y_pred_KNN = clfKNN.predict(X_test)\n",
        "\n",
        "target_names = ['True', 'Fake']\n",
        "print(classification_report(y_test, y_pred_KNN, target_names=target_names))\n",
        "clfKNN.score(X_test, y_test)\n"
      ],
      "execution_count": 0,
      "outputs": [
        {
          "output_type": "stream",
          "text": [
            "              precision    recall  f1-score   support\n",
            "\n",
            "        True       0.90      0.78      0.83      1071\n",
            "        Fake       0.80      0.91      0.85      1020\n",
            "\n",
            "    accuracy                           0.84      2091\n",
            "   macro avg       0.85      0.84      0.84      2091\n",
            "weighted avg       0.85      0.84      0.84      2091\n",
            "\n"
          ],
          "name": "stdout"
        },
        {
          "output_type": "execute_result",
          "data": {
            "text/plain": [
              "0.8417025346724055"
            ]
          },
          "metadata": {
            "tags": []
          },
          "execution_count": 95
        }
      ]
    },
    {
      "cell_type": "markdown",
      "metadata": {
        "colab_type": "text",
        "id": "aP5C1WPJRoZI"
      },
      "source": [
        "**TF-IDF -cross_val-f1**"
      ]
    },
    {
      "cell_type": "code",
      "metadata": {
        "id": "HJAOPvB1SCja",
        "colab_type": "code",
        "colab": {}
      },
      "source": [
        "from sklearn.neighbors import KNeighborsClassifier \n",
        "from hyperopt import fmin, tpe, hp\n",
        "\n",
        "def KNN(params):\n",
        "    clf = KNeighborsClassifier(**params)\n",
        "    acc = cross_val_score(clf, X_train_f1, y_train_f1, cv=10,scoring=\"f1\").mean()\n",
        "    return -acc\n",
        "\n",
        "spaceknn = {\n",
        "    'n_neighbors': hp.choice('n_neighbors', range(65,100))\n",
        "}\n",
        "\n",
        "algo = partial(tpe.suggest,n_startup_jobs=1)\n",
        "best = fmin(KNN, spaceknn, algo=algo, max_evals=10)\n",
        "print(best)"
      ],
      "execution_count": 0,
      "outputs": []
    },
    {
      "cell_type": "code",
      "metadata": {
        "id": "xqslAgVROA3T",
        "colab_type": "code",
        "outputId": "3357d169-8d6d-4606-c69d-904fa4647b11",
        "colab": {
          "base_uri": "https://localhost:8080/",
          "height": 195
        }
      },
      "source": [
        "paraKNN_f1 = {'n_neighbors':74}\n",
        "\n",
        "clfKNN_f1 = KNeighborsClassifier()\n",
        "clfKNN_f1.set_params(**paraKNN_f1)\n",
        "clfKNN_f1.fit(X_train_f1, y_train_f1)\n",
        "y_pred_KNN = clfKNN_f1.predict(X_test_f1)\n",
        "\n",
        "target_names = ['True', 'Fake']\n",
        "print(classification_report(y_test_f1, y_pred_KNN, target_names=target_names))\n",
        "clfKNN_f1.score(X_test_f1, y_test_f1)"
      ],
      "execution_count": 0,
      "outputs": [
        {
          "output_type": "stream",
          "text": [
            "              precision    recall  f1-score   support\n",
            "\n",
            "        True       0.89      0.81      0.85      1020\n",
            "        Fake       0.84      0.91      0.87      1071\n",
            "\n",
            "    accuracy                           0.86      2091\n",
            "   macro avg       0.87      0.86      0.86      2091\n",
            "weighted avg       0.86      0.86      0.86      2091\n",
            "\n"
          ],
          "name": "stdout"
        },
        {
          "output_type": "execute_result",
          "data": {
            "text/plain": [
              "0.8622668579626973"
            ]
          },
          "metadata": {
            "tags": []
          },
          "execution_count": 110
        }
      ]
    },
    {
      "cell_type": "markdown",
      "metadata": {
        "id": "2oBVMHYrjPn2",
        "colab_type": "text"
      },
      "source": [
        "### 4.2.4 Tunning "
      ]
    },
    {
      "cell_type": "code",
      "metadata": {
        "colab_type": "code",
        "id": "_ZbzAR-Lw7Mf",
        "colab": {}
      },
      "source": [
        "from sklearn.naive_bayes import BernoulliNB\n",
        "from sklearn.svm import SVC\n",
        "from sklearn.tree import DecisionTreeClassifier\n",
        "from sklearn.ensemble import RandomForestClassifier\n",
        "from sklearn.neighbors import KNeighborsClassifier\n",
        "from xgboost import XGBClassifier"
      ],
      "execution_count": 0,
      "outputs": []
    },
    {
      "cell_type": "code",
      "metadata": {
        "colab_type": "code",
        "outputId": "5290cdfe-7f20-46bc-e045-0da7e30684ed",
        "id": "9xqZkB0_w7Mh",
        "colab": {
          "base_uri": "https://localhost:8080/",
          "height": 712
        }
      },
      "source": [
        "def hyperopt_train_test(params):\n",
        "    t = params['type']\n",
        "    del params['type']\n",
        "    if t == 'naive_bayes':\n",
        "        clf = BernoulliNB(**params)\n",
        "    elif t == 'svm':\n",
        "        clf = SVC(**params)\n",
        "    elif t == 'knn':\n",
        "        clf = KNeighborsClassifier(**params)\n",
        "    elif t == 'randomforest':\n",
        "        clf = RandomForestClassifier(**params)\n",
        "    else:\n",
        "        return 0\n",
        "    return cross_val_score(clf, X_train, y_train, cv=5).mean()\n",
        "\n",
        "space = hp.choice('classifier_type', [\n",
        "    {\n",
        "        'type': 'naive_bayes',\n",
        "        'alpha': hp.uniform('alpha', 0.0, 2.0)\n",
        "    },\n",
        "    {\n",
        "        'type': 'svm',\n",
        "        'C': hp.uniform('C', 0, 10.0),\n",
        "        'kernel': hp.choice('kernel', ['linear', 'rbf']),\n",
        "        'gamma': hp.uniform('gamma', 0, 20.0)\n",
        "    },\n",
        "    {\n",
        "        'type': 'randomforest',\n",
        "        'max_depth': hp.choice('max_depth', range(1,20)),\n",
        "        'max_features': hp.choice('max_features', range(1,5)),\n",
        "        'n_estimators': hp.choice('n_estimators', range(1,20)),\n",
        "        'criterion': hp.choice('criterion', [\"gini\", \"entropy\"]),\n",
        "    },\n",
        "    {\n",
        "        'type': 'knn',\n",
        "        'n_neighbors': hp.choice('knn_n_neighbors', range(1,50))\n",
        "    }\n",
        "])\n",
        "\n",
        "count = 0\n",
        "best = 0\n",
        "def f(params):\n",
        "    global best, count\n",
        "    count += 1\n",
        "    acc = hyperopt_train_test(params.copy())\n",
        "    if acc > best:\n",
        "        print('new best:', acc, 'using', params['type'])\n",
        "        best = acc\n",
        "    return {'loss': -acc, 'status': STATUS_OK}\n",
        "\n",
        "trials = Trials()\n",
        "best = fmin(f, space, algo=tpe.suggest, max_evals=100, trials=trials)\n",
        "print('best:')\n",
        "print(best)"
      ],
      "execution_count": 0,
      "outputs": [
        {
          "output_type": "stream",
          "text": [
            "new best:\n",
            "0.8199881632631717\n",
            "using\n",
            "naive_bayes\n",
            "new best:\n",
            "0.9337935953900194\n",
            "using\n",
            "svm\n",
            "new best:\n",
            "0.9347364360238395\n",
            "using\n",
            "svm\n",
            "new best:\n",
            "0.937093538262028\n",
            "using\n",
            "svm\n",
            "new best:\n",
            "0.9387428155341075\n",
            "using\n",
            "svm\n",
            "new best:\n",
            "0.9389783867944137\n",
            "using\n",
            "svm\n",
            "new best:\n",
            "0.9401565208922426\n",
            "using\n",
            "svm\n",
            "new best:\n",
            "0.9425130662305591\n",
            "using\n",
            "svm\n",
            "new best:\n",
            "0.9432206134003704\n",
            "using\n",
            "svm\n",
            "100%|██████████| 100/100 [2:07:01<00:00, 113.40s/it, best loss: -0.9432206134003704]\n",
            "best:\n",
            "{'C': 1.4046867226952349, 'classifier_type': 1, 'gamma': 12.6501602210115, 'kernel': 0}\n"
          ],
          "name": "stdout"
        }
      ]
    },
    {
      "cell_type": "code",
      "metadata": {
        "id": "FLq5vuu8WMOX",
        "colab_type": "code",
        "outputId": "f5b82096-1e08-4fef-ecff-24cf32e01cf9",
        "colab": {
          "base_uri": "https://localhost:8080/",
          "height": 195
        }
      },
      "source": [
        "params_svc = {'C': 1.4046867226952349, 'gamma': 12.6501602210115, 'kernel': 'linear'}\n",
        "clfSVM = SVC()\n",
        "clfSVM.set_params(**params_svc)\n",
        "clfSVM.fit(X_train, y_train)\n",
        "target_names = ['True', 'Fake']\n",
        "print(classification_report(y_test, clfSVM.predict(X_test), target_names = target_names))\n",
        "print(accuracy_score(y_test, clfSVM.predict(X_test)))"
      ],
      "execution_count": 0,
      "outputs": [
        {
          "output_type": "stream",
          "text": [
            "              precision    recall  f1-score   support\n",
            "\n",
            "        True       0.94      0.96      0.95      1071\n",
            "        Fake       0.96      0.93      0.94      1020\n",
            "\n",
            "    accuracy                           0.95      2091\n",
            "   macro avg       0.95      0.95      0.95      2091\n",
            "weighted avg       0.95      0.95      0.95      2091\n",
            "\n",
            "0.9844666890639953\n"
          ],
          "name": "stdout"
        }
      ]
    },
    {
      "cell_type": "markdown",
      "metadata": {
        "id": "1H-FFRn4jZ5b",
        "colab_type": "text"
      },
      "source": [
        "## 4.3 Pipeline\n",
        "A micro model of whole processes"
      ]
    },
    {
      "cell_type": "code",
      "metadata": {
        "id": "F4monF6lm9ZP",
        "colab_type": "code",
        "colab": {}
      },
      "source": [
        "from xgboost import XGBClassifier\n",
        "from sklearn.pipeline import Pipeline\n",
        "from sklearn.base import TransformerMixin, BaseEstimator\n",
        "from sklearn.decomposition import TruncatedSVD\n",
        "from sklearn.model_selection import train_test_split\n",
        "import numpy as np\n",
        "from sklearn.model_selection import RandomizedSearchCV\n",
        "\n",
        "X_train, X_test, y_train, y_test = train_test_split(joined_cleanedText, converted_label, test_size=0.33, random_state=42)"
      ],
      "execution_count": 0,
      "outputs": []
    },
    {
      "cell_type": "markdown",
      "metadata": {
        "id": "rNOyHjY2vle7",
        "colab_type": "text"
      },
      "source": [
        "### 4.3.1 tSVD "
      ]
    },
    {
      "cell_type": "code",
      "metadata": {
        "id": "0z-_ATZSsrsd",
        "colab_type": "code",
        "colab": {}
      },
      "source": [
        "# Linear dimensionality reduction using truncated singular value decomposition (SVD)\n",
        "# In the context of working on term count/tf-idf matrices as returned vectorizers, AKA latent semantic analysis (LSA)\n",
        "# Works with scipy.sparse matrices efficiently\n",
        "tSVD = TruncatedSVD()"
      ],
      "execution_count": 0,
      "outputs": []
    },
    {
      "cell_type": "code",
      "metadata": {
        "id": "uA_YH-Cgsod8",
        "colab_type": "code",
        "colab": {}
      },
      "source": [
        "# This step that simply prints shape of data. Does not actually fit to or transform data.\n",
        "class printshape(BaseEstimator, TransformerMixin):\n",
        "\n",
        "    def transform(self, X):\n",
        "        print(X.shape)\n",
        "        return X\n",
        "\n",
        "    def fit(self, X, y=None, **fit_params):\n",
        "        return self"
      ],
      "execution_count": 0,
      "outputs": []
    },
    {
      "cell_type": "code",
      "metadata": {
        "id": "AH4DTCzCshec",
        "colab_type": "code",
        "colab": {}
      },
      "source": [
        "# Create a spaCy pipeline for processing data. \n",
        "# 1: create tf-idf vectors; 2: dimensionality reduction; 3: classify using Extra Trees\n",
        "pipe = Pipeline([('vectorizer', vectorizer), \n",
        "                 ('printsh', printshape()),\n",
        "                 ('tSVD', tSVD),\n",
        "                 ('printsh2', printshape()),\n",
        "                 ('clf', XGBClassifier())\n",
        "                ])\n",
        "pipe.get_params()"
      ],
      "execution_count": 0,
      "outputs": []
    },
    {
      "cell_type": "markdown",
      "metadata": {
        "id": "-kWt31rFSEX2",
        "colab_type": "text"
      },
      "source": [
        "Param space"
      ]
    },
    {
      "cell_type": "code",
      "metadata": {
        "id": "EzJd3cPgyUWI",
        "colab_type": "code",
        "colab": {}
      },
      "source": [
        "from sklearn.model_selection import RandomizedSearchCV\n",
        "# Build hyperparameter grid for RandomizedSearchCV\n",
        "# Randomly pick combinations of parameters to try for Truncated SVD and XGBClassifier\n",
        "\n",
        "param_grid = {\n",
        "    # n_components = desired dimensionality of output data\n",
        "    # n_iter = number of iterations for randomized SVD solver. default = 5\n",
        "    'tSVD__n_components': [50, 150, 250,300, 400],\n",
        "    'tSVD__n_iter': [5, 7, 10],\n",
        "    \n",
        "    # n_estimators = number of trees in the forest\n",
        "    # max_depth = max number of levels in each decision tree\n",
        "    \n",
        "    'clf__n_estimators':range(80,200,4),\n",
        "    'clf__max_depth':range(2,15,1),\n",
        "    'clf__learning_rate':np.linspace(0.01,1,20),\n",
        "    'clf__subsample':np.linspace(0.7,0.9,20),\n",
        "    'clf__colsample_bytree':np.linspace(0.5,0.98,10),\n",
        "    'clf__min_child_weight':range(1,9,1)\n",
        "\n",
        "}\n",
        "\n",
        "# cv = 5 (5-fold cross-validation)\n",
        "# n_jobs = -1 (uses all available cores/processors)\n",
        "search = RandomizedSearchCV(estimator=pipe, \n",
        "                            param_distributions=param_grid, \n",
        "                            n_iter=10, \n",
        "                            n_jobs=-1, \n",
        "                            cv=5,\n",
        "                            verbose=3, \n",
        "                            random_state=42)"
      ],
      "execution_count": 0,
      "outputs": []
    },
    {
      "cell_type": "code",
      "metadata": {
        "id": "6Ao3npqgS2-L",
        "colab_type": "code",
        "colab": {}
      },
      "source": [
        "search.fit(X_train, y_train)"
      ],
      "execution_count": 0,
      "outputs": []
    },
    {
      "cell_type": "code",
      "metadata": {
        "colab_type": "code",
        "outputId": "7fd46dcf-5619-4713-e593-89329146d17f",
        "id": "URFFXaEUmVEM",
        "colab": {
          "base_uri": "https://localhost:8080/",
          "height": 231
        }
      },
      "source": [
        "# Print classification accuracy score, precision ...\n",
        "target_names = ['True', 'Fake']\n",
        "y_pred= search.predict(X_test)\n",
        "print(classification_report(y_test, y_pred, target_names=target_names))\n",
        "print(\"accuracy:\", accuracy_score(y_test, y_pred))"
      ],
      "execution_count": 0,
      "outputs": [
        {
          "output_type": "stream",
          "text": [
            "(2091, 56795)\n",
            "(2091, 400)\n",
            "              precision    recall  f1-score   support\n",
            "\n",
            "        True       0.93      0.90      0.91      1071\n",
            "        Fake       0.90      0.92      0.91      1020\n",
            "\n",
            "    accuracy                           0.91      2091\n",
            "   macro avg       0.91      0.91      0.91      2091\n",
            "weighted avg       0.91      0.91      0.91      2091\n",
            "\n",
            "accuracy: 0.9124820659971306\n"
          ],
          "name": "stdout"
        }
      ]
    },
    {
      "cell_type": "code",
      "metadata": {
        "colab_type": "code",
        "id": "GrUvn3oIGqEB",
        "colab": {}
      },
      "source": [
        "# Create a spaCy pipeline for processing data. \n",
        "# 1: create tf-idf vectors; 2: dimensionality reduction; 3: classify using SVC\n",
        "pipe = Pipeline([('vectorizer', vectorizer), \n",
        "                 ('printsh', printshape()),\n",
        "                 ('tSVD', tSVD),\n",
        "                 ('printsh2', printshape()),\n",
        "                 ('clf', SVC())\n",
        "                ])\n",
        "pipe.get_params()"
      ],
      "execution_count": 0,
      "outputs": []
    },
    {
      "cell_type": "markdown",
      "metadata": {
        "colab_type": "text",
        "id": "bq1MY4eJGqEG"
      },
      "source": [
        "Param space"
      ]
    },
    {
      "cell_type": "code",
      "metadata": {
        "colab_type": "code",
        "id": "MYcoucfvGqEH",
        "colab": {}
      },
      "source": [
        "from sklearn.model_selection import RandomizedSearchCV\n",
        "# Build hyperparameter grid for RandomizedSearchCV\n",
        "# Randomly pick combinations of parameters to try for Truncated SVD and SVC\n",
        "\n",
        "param_grid = {\n",
        "    # n_components = desired dimensionality of output data\n",
        "    # n_iter = number of iterations for randomized SVD solver. default = 5\n",
        "    'tSVD__n_components': [50, 150, 250, 300, 400],\n",
        "    'tSVD__n_iter': [5, 7, 10],\n",
        "    \n",
        "    'clf__C': np.linspace(1,2,30),\n",
        "    'clf__kernel': ['linear'],\n",
        "    'clf__gamma': np.linspace(10,14,40)\n",
        "}\n",
        "\n",
        "# cv = 5 (5-fold cross-validation)\n",
        "# n_jobs = -1 (uses all available cores/processors)\n",
        "search = RandomizedSearchCV(estimator=pipe, \n",
        "                            param_distributions=param_grid, \n",
        "                            n_iter=10, \n",
        "                            n_jobs=-1, \n",
        "                            cv=5,\n",
        "                            verbose=3, \n",
        "                            random_state=42)\n",
        "search.fit(X_train, y_train)"
      ],
      "execution_count": 0,
      "outputs": []
    },
    {
      "cell_type": "code",
      "metadata": {
        "colab_type": "code",
        "outputId": "c2752bbc-a213-42e3-c328-7e3eb545bad8",
        "id": "NLjajj_aGqEL",
        "colab": {
          "base_uri": "https://localhost:8080/",
          "height": 231
        }
      },
      "source": [
        "# Print classification accuracy score, precision ...\n",
        "target_names = ['True', 'Fake']\n",
        "y_pred= search.predict(X_test)\n",
        "print(classification_report(y_test, y_pred, target_names=target_names))\n",
        "print(\"accuracy:\", accuracy_score(y_test, y_pred))"
      ],
      "execution_count": 0,
      "outputs": [
        {
          "output_type": "stream",
          "text": [
            "(2091, 56795)\n",
            "(2091, 250)\n",
            "              precision    recall  f1-score   support\n",
            "\n",
            "        True       0.90      0.94      0.92      1071\n",
            "        Fake       0.93      0.90      0.91      1020\n",
            "\n",
            "    accuracy                           0.92      2091\n",
            "   macro avg       0.92      0.92      0.92      2091\n",
            "weighted avg       0.92      0.92      0.92      2091\n",
            "\n",
            "accuracy: 0.9158297465327594\n"
          ],
          "name": "stdout"
        }
      ]
    },
    {
      "cell_type": "markdown",
      "metadata": {
        "id": "h4yMKSb0iHQs",
        "colab_type": "text"
      },
      "source": [
        "### 4.3.2 TF-IDF"
      ]
    },
    {
      "cell_type": "code",
      "metadata": {
        "id": "gjxUgPbbiGHv",
        "colab_type": "code",
        "colab": {}
      },
      "source": [
        "# Create a  pipeline for processing data. \n",
        "# 1: create tf-idf vectors; 2: classify using XGB\n",
        "pipe = Pipeline([ \n",
        "                 ('embedder', TfidfVectorizer()),\n",
        "                 ('clf', XGBClassifier())\n",
        "                ])\n",
        "pipe.get_params()"
      ],
      "execution_count": 0,
      "outputs": []
    },
    {
      "cell_type": "code",
      "metadata": {
        "id": "aAZQ7VNzs7ni",
        "colab_type": "code",
        "colab": {}
      },
      "source": [
        "from sklearn.model_selection import RandomizedSearchCV\n",
        "from hyperopt import hp\n",
        "from scipy.stats import randint as sp_randint\n",
        "# Build hyperparameter grid for RandomizedSearchCV\n",
        "# Randomly pick combinations of parameters to try for XGBClassifier\n",
        "\n",
        "size_space = {\n",
        "    'clf__n_estimators':range(80,200,4),\n",
        "    'clf__max_depth':range(2,15,1),\n",
        "    'clf__learning_rate':np.linspace(0.01,1,20),\n",
        "    'clf__subsample':np.linspace(0.7,0.9,20),\n",
        "    'clf__colsample_bytree':np.linspace(0.5,0.98,10),\n",
        "    'clf__min_child_weight':range(1,9,1)\n",
        "}\n",
        "\n",
        "# cv = 5 (3-fold cross-validation)\n",
        "# n_jobs = -1 (uses all available cores/processors)\n",
        "search = RandomizedSearchCV(estimator=pipe, \n",
        "                            param_distributions=size_space, \n",
        "                            iid=False,\n",
        "                            refit=True,\n",
        "                            n_iter=10, \n",
        "                            n_jobs=-1, \n",
        "                            cv=5,\n",
        "                            verbose=1, \n",
        "                            random_state=42,\n",
        "                            pre_dispatch=8)\n",
        "search.fit(X_train, y_train)"
      ],
      "execution_count": 0,
      "outputs": []
    },
    {
      "cell_type": "code",
      "metadata": {
        "id": "jDH15JNTqVJG",
        "colab_type": "code",
        "outputId": "22a12b53-d50e-4c51-ef36-9ecb0f7313c6",
        "colab": {
          "base_uri": "https://localhost:8080/",
          "height": 195
        }
      },
      "source": [
        "print(classification_report(y_test, search.predict(X_test)))\n",
        "print(\"accuracy:\", accuracy_score(y_test, y_pred))"
      ],
      "execution_count": 0,
      "outputs": [
        {
          "output_type": "stream",
          "text": [
            "              precision    recall  f1-score   support\n",
            "\n",
            "           0       0.93      0.92      0.93      1071\n",
            "           1       0.91      0.93      0.92      1020\n",
            "\n",
            "    accuracy                           0.92      2091\n",
            "   macro avg       0.92      0.92      0.92      2091\n",
            "weighted avg       0.92      0.92      0.92      2091\n",
            "\n",
            "accuracy: 0.9158297465327594\n"
          ],
          "name": "stdout"
        }
      ]
    },
    {
      "cell_type": "code",
      "metadata": {
        "colab_type": "code",
        "id": "H3ecDWPRG-cT",
        "colab": {}
      },
      "source": [
        "# Create a  pipeline for processing data. \n",
        "# 1: create tf-idf vectors; 2: classify using SVC\n",
        "pipe = Pipeline([ \n",
        "                 ('embedder', TfidfVectorizer()),\n",
        "                 ('clf', SVC())\n",
        "                ])"
      ],
      "execution_count": 0,
      "outputs": []
    },
    {
      "cell_type": "code",
      "metadata": {
        "colab_type": "code",
        "id": "pzIwW8uXG-cU",
        "colab": {}
      },
      "source": [
        "from sklearn.model_selection import RandomizedSearchCV\n",
        "# Build hyperparameter grid for RandomizedSearchCV\n",
        "# Randomly pick combinations of parameters to try for SVC\n",
        "\n",
        "param_grid = {\n",
        "    'clf__C': np.linspace(1,2,30),\n",
        "    'clf__kernel': ['linear'],\n",
        "    'clf__gamma': np.linspace(10,14,40)\n",
        "}\n",
        "\n",
        "# cv = 5 (5-fold cross-validation)\n",
        "# n_jobs = -1 (uses all available cores/processors)\n",
        "search = RandomizedSearchCV(estimator=pipe, \n",
        "                            param_distributions=param_grid, \n",
        "                            n_iter=10, \n",
        "                            n_jobs=-1, \n",
        "                            cv=5,\n",
        "                            verbose=3, \n",
        "                            random_state=42)\n",
        "\n",
        "\n",
        "search.fit(X_train, y_train)"
      ],
      "execution_count": 0,
      "outputs": []
    },
    {
      "cell_type": "code",
      "metadata": {
        "colab_type": "code",
        "outputId": "e293c3ad-e834-4a5f-96e4-386249194b9a",
        "id": "h0uU48SdG-cW",
        "colab": {
          "base_uri": "https://localhost:8080/",
          "height": 195
        }
      },
      "source": [
        "print(classification_report(y_test, search.predict(X_test)))\n",
        "print(\"accuracy:\", accuracy_score(y_test, y_pred))"
      ],
      "execution_count": 0,
      "outputs": [
        {
          "output_type": "stream",
          "text": [
            "              precision    recall  f1-score   support\n",
            "\n",
            "           0       0.93      0.95      0.94      1071\n",
            "           1       0.95      0.92      0.93      1020\n",
            "\n",
            "    accuracy                           0.94      2091\n",
            "   macro avg       0.94      0.94      0.94      2091\n",
            "weighted avg       0.94      0.94      0.94      2091\n",
            "\n",
            "accuracy: 0.9158297465327594\n"
          ],
          "name": "stdout"
        }
      ]
    }
  ]
}